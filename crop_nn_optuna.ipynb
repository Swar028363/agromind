{
 "cells": [
  {
   "cell_type": "code",
   "execution_count": 1,
   "id": "e01f8628",
   "metadata": {},
   "outputs": [],
   "source": [
    "import os\n",
    "import joblib\n",
    "import optuna\n",
    "import numpy as np\n",
    "import pandas as pd\n",
    "import seaborn as sns\n",
    "import tensorflow as tf\n",
    "import matplotlib.pyplot as plt\n",
    "\n",
    "from sklearn.preprocessing import StandardScaler, LabelEncoder\n",
    "from sklearn.model_selection import train_test_split, StratifiedKFold\n",
    "from sklearn.metrics import classification_report, confusion_matrix, accuracy_score"
   ]
  },
  {
   "cell_type": "code",
   "execution_count": 2,
   "id": "c827e2e4-88d6-45d2-8b39-c8e9f0f49669",
   "metadata": {},
   "outputs": [],
   "source": [
    "# ------------------ CONFIG ------------------\n",
    "DATA_CSV = \"datasets/preed Crop Recommendation using Soil Properties and Weather Prediction.csv\"  # <- change to your dataset path\n",
    "TARGET_COL = \"label\"\n",
    "DROP_COLS = [TARGET_COL, \"Soilcolor\", \"label_encoded\"]\n",
    "N_TRIALS = 100               # increase if you want more search\n",
    "OUTPUT_DIR = \"artifacts\"\n",
    "TEST_SIZE = 0.2\n",
    "RANDOM_STATE = None"
   ]
  },
  {
   "cell_type": "code",
   "execution_count": 3,
   "id": "a2ed3efe-4a34-4e90-a5a3-1142922dc5e9",
   "metadata": {},
   "outputs": [],
   "source": [
    "# --------------------------------------------\n",
    "# Load data\n",
    "df = pd.read_csv(DATA_CSV)\n",
    "X = df.drop(columns=DROP_COLS)\n",
    "y = df[TARGET_COL]\n",
    "\n",
    "# Encode target\n",
    "le = LabelEncoder()\n",
    "y_encoded = le.fit_transform(y)\n",
    "\n",
    "# Train-test split\n",
    "X_train, X_test, y_train, y_test = train_test_split(\n",
    "    X, y_encoded, test_size=TEST_SIZE, stratify=y_encoded, random_state=RANDOM_STATE\n",
    ")\n",
    "\n",
    "# Scale features\n",
    "scaler = StandardScaler()\n",
    "X_train = scaler.fit_transform(X_train)\n",
    "X_test = scaler.transform(X_test)"
   ]
  },
  {
   "cell_type": "code",
   "execution_count": 4,
   "id": "9ca16f8b-8a9e-4629-9045-68ca41ad5b82",
   "metadata": {},
   "outputs": [
    {
     "data": {
      "text/plain": [
       "['artifacts/label_encoder.pkl']"
      ]
     },
     "execution_count": 4,
     "metadata": {},
     "output_type": "execute_result"
    }
   ],
   "source": [
    "os.makedirs(OUTPUT_DIR, exist_ok=True)\n",
    "joblib.dump(scaler, f\"{OUTPUT_DIR}/scaler.pkl\")\n",
    "joblib.dump(le, f\"{OUTPUT_DIR}/label_encoder.pkl\")"
   ]
  },
  {
   "cell_type": "code",
   "execution_count": 5,
   "id": "d88cef23-1db8-46dd-b9d7-6beabc493b1a",
   "metadata": {},
   "outputs": [],
   "source": [
    "# -----------------------------\n",
    "# Custom sparse focal loss\n",
    "# -----------------------------\n",
    "def sparse_focal_loss(gamma=2., alpha=0.25):\n",
    "    def loss(y_true, y_pred):\n",
    "        # y_true: (batch,) with int labels\n",
    "        # y_pred: (batch, n_classes) with softmax outputs\n",
    "        y_true = tf.cast(y_true, tf.int32)\n",
    "        y_true_one_hot = tf.one_hot(y_true, depth=tf.shape(y_pred)[-1])\n",
    "        \n",
    "        y_pred = tf.clip_by_value(y_pred, 1e-7, 1.0 - 1e-7)  # avoid log(0)\n",
    "        \n",
    "        cross_entropy = -y_true_one_hot * tf.math.log(y_pred)\n",
    "        weights = alpha * tf.pow(1 - y_pred, gamma)\n",
    "        loss = weights * cross_entropy\n",
    "        return tf.reduce_mean(tf.reduce_sum(loss, axis=-1))\n",
    "    return loss\n",
    "\n",
    "\n",
    "# -----------------------------\n",
    "# Keras model builder\n",
    "# -----------------------------\n",
    "def build_model(trial, input_dim, n_classes):\n",
    "    n_layers = trial.suggest_int(\"n_layers\", 1, 12)\n",
    "    \n",
    "    model = tf.keras.Sequential()\n",
    "    for i in range(n_layers):\n",
    "        units = trial.suggest_categorical(f\"units_l{i}\", [16, 32, 64, 128, 256, 512, 1024])\n",
    "        activation = trial.suggest_categorical(f\"activation_l{i}\", [\"relu\", \"leaky_relu\", \"elu\", \"selu\", \"tanh\", \"gelu\", \"swish\"])\n",
    "        dropout_rate = trial.suggest_float(f\"dropout_l{i}\", 0.0, 0.6)\n",
    "        use_bn = trial.suggest_categorical(f\"batchnorm_l{i}\", [True, False])\n",
    "        \n",
    "        if i == 0:\n",
    "            model.add(tf.keras.layers.Dense(units,\n",
    "                                            activation=None,\n",
    "                                            kernel_regularizer=tf.keras.regularizers.l1_l2(\n",
    "                                                l1=trial.suggest_float(\"l1_reg\", 1e-8, 1e-3, log=True),\n",
    "                                                l2=trial.suggest_float(\"l2_reg\", 1e-8, 1e-2, log=True)\n",
    "                                            ),\n",
    "                                            input_dim=input_dim))\n",
    "        else:\n",
    "            model.add(tf.keras.layers.Dense(units, activation=None))\n",
    "        \n",
    "        if use_bn:\n",
    "            model.add(tf.keras.layers.BatchNormalization())\n",
    "        \n",
    "        # Activation separately so leaky_relu/gelu/swish work\n",
    "        if activation == \"leaky_relu\":\n",
    "            model.add(tf.keras.layers.LeakyReLU())\n",
    "        elif activation == \"gelu\":\n",
    "            model.add(tf.keras.layers.Activation(tf.nn.gelu))\n",
    "        elif activation == \"swish\":\n",
    "            model.add(tf.keras.layers.Activation(tf.nn.swish))\n",
    "        else:\n",
    "            model.add(tf.keras.layers.Activation(activation))\n",
    "        \n",
    "        model.add(tf.keras.layers.Dropout(dropout_rate))\n",
    "    \n",
    "    model.add(tf.keras.layers.Dense(n_classes, activation=\"softmax\"))\n",
    "    \n",
    "    optimizer_name = trial.suggest_categorical(\"optimizer\", [\"adam\", \"adamw\", \"nadam\", \"rmsprop\", \"sgd\"])\n",
    "    lr = trial.suggest_float(\"lr\", 1e-6, 1e-1, log=True)\n",
    "    \n",
    "    if optimizer_name == \"adam\":\n",
    "        optimizer = tf.keras.optimizers.Adam(learning_rate=lr)\n",
    "    elif optimizer_name == \"adamw\":\n",
    "        optimizer = tf.keras.optimizers.AdamW(learning_rate=lr)\n",
    "    elif optimizer_name == \"nadam\":\n",
    "        optimizer = tf.keras.optimizers.Nadam(learning_rate=lr)\n",
    "    elif optimizer_name == \"rmsprop\":\n",
    "        optimizer = tf.keras.optimizers.RMSprop(learning_rate=lr)\n",
    "    else:\n",
    "        optimizer = tf.keras.optimizers.SGD(learning_rate=lr, momentum=trial.suggest_float(\"momentum\", 0.5, 0.99))\n",
    "    \n",
    "    loss_fn = trial.suggest_categorical(\"loss\", [\"sparse_categorical_crossentropy\", \"focal_loss\"])\n",
    "    if loss_fn == \"focal_loss\":\n",
    "        loss_fn = sparse_focal_loss()\n",
    "    \n",
    "    model.compile(optimizer=optimizer,\n",
    "                  loss=loss_fn,\n",
    "                  metrics=[\"accuracy\"])\n",
    "    return model\n"
   ]
  },
  {
   "cell_type": "code",
   "execution_count": 6,
   "id": "407d3e80-b2ee-4f94-9a79-2917beb9da0f",
   "metadata": {},
   "outputs": [],
   "source": [
    "# -----------------------------\n",
    "# Objective function\n",
    "# -----------------------------\n",
    "def objective(trial):\n",
    "    skf = StratifiedKFold(n_splits=3, shuffle=True, random_state=RANDOM_STATE)\n",
    "    val_scores = []\n",
    "\n",
    "    for train_idx, val_idx in skf.split(X_train, y_train):\n",
    "        X_tr, X_val = X_train[train_idx], X_train[val_idx]\n",
    "        y_tr, y_val = y_train[train_idx], y_train[val_idx]\n",
    "\n",
    "        model = build_model(trial, input_dim=X_train.shape[1], n_classes=len(np.unique(y_encoded)))\n",
    "\n",
    "        model.fit(\n",
    "            X_tr, y_tr,\n",
    "            validation_data=(X_val, y_val),\n",
    "            epochs=100,\n",
    "            batch_size=trial.suggest_categorical(\"batch_size\", [16, 32, 64, 128, 256]),\n",
    "            verbose=0,\n",
    "            callbacks=[tf.keras.callbacks.EarlyStopping(\n",
    "                monitor=\"val_loss\", patience=5, restore_best_weights=True\n",
    "            )]\n",
    "        )\n",
    "\n",
    "        score = model.evaluate(X_val, y_val, verbose=0)[1]\n",
    "        val_scores.append(score)\n",
    "\n",
    "    return np.mean(val_scores)"
   ]
  },
  {
   "cell_type": "code",
   "execution_count": 7,
   "id": "efebf60e-6be3-4311-a78d-bb58fd1fc833",
   "metadata": {
    "scrolled": true
   },
   "outputs": [
    {
     "name": "stderr",
     "output_type": "stream",
     "text": [
      "[I 2025-09-05 23:32:38,018] A new study created in memory with name: no-name-635a749a-9d82-40b3-b43d-f3a548054c06\n",
      "D:\\Python\\Lib\\site-packages\\keras\\src\\layers\\core\\dense.py:92: UserWarning: Do not pass an `input_shape`/`input_dim` argument to a layer. When using Sequential models, prefer using an `Input(shape)` object as the first layer in the model instead.\n",
      "  super().__init__(activity_regularizer=activity_regularizer, **kwargs)\n",
      "[I 2025-09-05 23:40:56,070] Trial 0 finished with value: 0.09472657988468806 and parameters: {'n_layers': 9, 'units_l0': 32, 'activation_l0': 'leaky_relu', 'dropout_l0': 0.09587921427821107, 'batchnorm_l0': False, 'l1_reg': 1.588125867619363e-05, 'l2_reg': 0.004125375162848118, 'units_l1': 32, 'activation_l1': 'swish', 'dropout_l1': 0.3211974531673781, 'batchnorm_l1': False, 'units_l2': 1024, 'activation_l2': 'elu', 'dropout_l2': 0.03660070498683854, 'batchnorm_l2': False, 'units_l3': 1024, 'activation_l3': 'selu', 'dropout_l3': 0.40893957347805904, 'batchnorm_l3': True, 'units_l4': 1024, 'activation_l4': 'tanh', 'dropout_l4': 0.07492297506233896, 'batchnorm_l4': False, 'units_l5': 512, 'activation_l5': 'gelu', 'dropout_l5': 0.5808074195018968, 'batchnorm_l5': True, 'units_l6': 16, 'activation_l6': 'relu', 'dropout_l6': 0.11933383146741958, 'batchnorm_l6': False, 'units_l7': 1024, 'activation_l7': 'selu', 'dropout_l7': 0.3379627803099492, 'batchnorm_l7': False, 'units_l8': 64, 'activation_l8': 'leaky_relu', 'dropout_l8': 0.37059506883635807, 'batchnorm_l8': False, 'optimizer': 'nadam', 'lr': 0.04696570336063783, 'loss': 'focal_loss', 'batch_size': 32}. Best is trial 0 with value: 0.09472657988468806.\n",
      "D:\\Python\\Lib\\site-packages\\keras\\src\\layers\\core\\dense.py:92: UserWarning: Do not pass an `input_shape`/`input_dim` argument to a layer. When using Sequential models, prefer using an `Input(shape)` object as the first layer in the model instead.\n",
      "  super().__init__(activity_regularizer=activity_regularizer, **kwargs)\n",
      "[I 2025-09-05 23:56:25,342] Trial 1 finished with value: 0.3640315532684326 and parameters: {'n_layers': 3, 'units_l0': 64, 'activation_l0': 'elu', 'dropout_l0': 0.0182213701099315, 'batchnorm_l0': True, 'l1_reg': 3.100499120802862e-06, 'l2_reg': 3.5862789071938673e-06, 'units_l1': 32, 'activation_l1': 'swish', 'dropout_l1': 0.43992625204890556, 'batchnorm_l1': True, 'units_l2': 1024, 'activation_l2': 'tanh', 'dropout_l2': 0.263166224027311, 'batchnorm_l2': False, 'optimizer': 'sgd', 'lr': 7.9401184773041e-06, 'momentum': 0.9481175823331816, 'loss': 'focal_loss', 'batch_size': 16}. Best is trial 1 with value: 0.3640315532684326.\n",
      "D:\\Python\\Lib\\site-packages\\keras\\src\\layers\\core\\dense.py:92: UserWarning: Do not pass an `input_shape`/`input_dim` argument to a layer. When using Sequential models, prefer using an `Input(shape)` object as the first layer in the model instead.\n",
      "  super().__init__(activity_regularizer=activity_regularizer, **kwargs)\n",
      "[I 2025-09-06 00:03:51,376] Trial 2 finished with value: 0.35778912901878357 and parameters: {'n_layers': 12, 'units_l0': 256, 'activation_l0': 'tanh', 'dropout_l0': 0.3575189623202796, 'batchnorm_l0': True, 'l1_reg': 1.1658267943546782e-06, 'l2_reg': 2.4707736044692734e-08, 'units_l1': 64, 'activation_l1': 'swish', 'dropout_l1': 0.4535292221030488, 'batchnorm_l1': False, 'units_l2': 16, 'activation_l2': 'tanh', 'dropout_l2': 0.018490840715505108, 'batchnorm_l2': False, 'units_l3': 64, 'activation_l3': 'selu', 'dropout_l3': 0.43304999953516726, 'batchnorm_l3': True, 'units_l4': 128, 'activation_l4': 'relu', 'dropout_l4': 0.23953322643882083, 'batchnorm_l4': False, 'units_l5': 256, 'activation_l5': 'elu', 'dropout_l5': 0.38391908405128927, 'batchnorm_l5': False, 'units_l6': 256, 'activation_l6': 'tanh', 'dropout_l6': 0.16166971822384996, 'batchnorm_l6': False, 'units_l7': 256, 'activation_l7': 'swish', 'dropout_l7': 0.11514178032755155, 'batchnorm_l7': False, 'units_l8': 16, 'activation_l8': 'swish', 'dropout_l8': 0.2084537323543869, 'batchnorm_l8': True, 'units_l9': 1024, 'activation_l9': 'gelu', 'dropout_l9': 0.5363137311538761, 'batchnorm_l9': False, 'units_l10': 128, 'activation_l10': 'swish', 'dropout_l10': 0.148215863853954, 'batchnorm_l10': False, 'units_l11': 512, 'activation_l11': 'relu', 'dropout_l11': 0.5041779822041995, 'batchnorm_l11': True, 'optimizer': 'adamw', 'lr': 4.181503210393172e-05, 'loss': 'sparse_categorical_crossentropy', 'batch_size': 256}. Best is trial 1 with value: 0.3640315532684326.\n",
      "D:\\Python\\Lib\\site-packages\\keras\\src\\layers\\core\\dense.py:92: UserWarning: Do not pass an `input_shape`/`input_dim` argument to a layer. When using Sequential models, prefer using an `Input(shape)` object as the first layer in the model instead.\n",
      "  super().__init__(activity_regularizer=activity_regularizer, **kwargs)\n",
      "[I 2025-09-06 00:07:04,598] Trial 3 finished with value: 0.08445541560649872 and parameters: {'n_layers': 12, 'units_l0': 16, 'activation_l0': 'gelu', 'dropout_l0': 0.08942059440946472, 'batchnorm_l0': True, 'l1_reg': 0.0005511362620206721, 'l2_reg': 6.884794250300603e-06, 'units_l1': 256, 'activation_l1': 'gelu', 'dropout_l1': 0.20817519477532043, 'batchnorm_l1': True, 'units_l2': 512, 'activation_l2': 'leaky_relu', 'dropout_l2': 0.27575688004210963, 'batchnorm_l2': True, 'units_l3': 1024, 'activation_l3': 'leaky_relu', 'dropout_l3': 0.3734603319534722, 'batchnorm_l3': True, 'units_l4': 256, 'activation_l4': 'selu', 'dropout_l4': 0.29578586547910896, 'batchnorm_l4': True, 'units_l5': 16, 'activation_l5': 'gelu', 'dropout_l5': 0.1979114609731892, 'batchnorm_l5': True, 'units_l6': 512, 'activation_l6': 'selu', 'dropout_l6': 0.23390880560744742, 'batchnorm_l6': True, 'units_l7': 512, 'activation_l7': 'tanh', 'dropout_l7': 0.15318108951175852, 'batchnorm_l7': False, 'units_l8': 512, 'activation_l8': 'elu', 'dropout_l8': 0.36361115663293975, 'batchnorm_l8': True, 'units_l9': 256, 'activation_l9': 'relu', 'dropout_l9': 0.23688940778571846, 'batchnorm_l9': True, 'units_l10': 64, 'activation_l10': 'relu', 'dropout_l10': 0.4172521647041549, 'batchnorm_l10': True, 'units_l11': 1024, 'activation_l11': 'leaky_relu', 'dropout_l11': 0.1233915373779991, 'batchnorm_l11': False, 'optimizer': 'sgd', 'lr': 2.4427726884137237e-06, 'momentum': 0.9424919172479052, 'loss': 'focal_loss', 'batch_size': 64}. Best is trial 1 with value: 0.3640315532684326.\n",
      "D:\\Python\\Lib\\site-packages\\keras\\src\\layers\\core\\dense.py:92: UserWarning: Do not pass an `input_shape`/`input_dim` argument to a layer. When using Sequential models, prefer using an `Input(shape)` object as the first layer in the model instead.\n",
      "  super().__init__(activity_regularizer=activity_regularizer, **kwargs)\n",
      "[I 2025-09-06 00:25:17,864] Trial 4 finished with value: 0.4053565363089244 and parameters: {'n_layers': 11, 'units_l0': 128, 'activation_l0': 'tanh', 'dropout_l0': 0.2764144050113111, 'batchnorm_l0': False, 'l1_reg': 3.603348512430326e-08, 'l2_reg': 9.732882735713191e-06, 'units_l1': 16, 'activation_l1': 'tanh', 'dropout_l1': 0.10151670425487293, 'batchnorm_l1': False, 'units_l2': 512, 'activation_l2': 'elu', 'dropout_l2': 0.24433595427088528, 'batchnorm_l2': True, 'units_l3': 32, 'activation_l3': 'relu', 'dropout_l3': 0.4127611378573103, 'batchnorm_l3': False, 'units_l4': 1024, 'activation_l4': 'tanh', 'dropout_l4': 0.15250901403888584, 'batchnorm_l4': False, 'units_l5': 64, 'activation_l5': 'relu', 'dropout_l5': 0.3434875084763022, 'batchnorm_l5': True, 'units_l6': 256, 'activation_l6': 'swish', 'dropout_l6': 0.5470523871078914, 'batchnorm_l6': True, 'units_l7': 16, 'activation_l7': 'leaky_relu', 'dropout_l7': 0.2485852425116314, 'batchnorm_l7': True, 'units_l8': 64, 'activation_l8': 'selu', 'dropout_l8': 0.4808589981802385, 'batchnorm_l8': True, 'units_l9': 1024, 'activation_l9': 'leaky_relu', 'dropout_l9': 0.16976107925281073, 'batchnorm_l9': False, 'units_l10': 16, 'activation_l10': 'tanh', 'dropout_l10': 0.042847713451437786, 'batchnorm_l10': True, 'optimizer': 'rmsprop', 'lr': 4.670214621608616e-05, 'loss': 'sparse_categorical_crossentropy', 'batch_size': 32}. Best is trial 4 with value: 0.4053565363089244.\n",
      "D:\\Python\\Lib\\site-packages\\keras\\src\\layers\\core\\dense.py:92: UserWarning: Do not pass an `input_shape`/`input_dim` argument to a layer. When using Sequential models, prefer using an `Input(shape)` object as the first layer in the model instead.\n",
      "  super().__init__(activity_regularizer=activity_regularizer, **kwargs)\n",
      "[I 2025-09-06 00:29:55,375] Trial 5 finished with value: 0.37651969989140827 and parameters: {'n_layers': 4, 'units_l0': 256, 'activation_l0': 'relu', 'dropout_l0': 0.44965242318795223, 'batchnorm_l0': False, 'l1_reg': 7.134581361136445e-05, 'l2_reg': 9.190198163389705e-07, 'units_l1': 1024, 'activation_l1': 'elu', 'dropout_l1': 0.0316981717981081, 'batchnorm_l1': False, 'units_l2': 64, 'activation_l2': 'elu', 'dropout_l2': 0.41098390949222346, 'batchnorm_l2': False, 'units_l3': 16, 'activation_l3': 'swish', 'dropout_l3': 0.3861231970966324, 'batchnorm_l3': True, 'optimizer': 'adamw', 'lr': 7.039357082091919e-06, 'loss': 'focal_loss', 'batch_size': 256}. Best is trial 4 with value: 0.4053565363089244.\n",
      "D:\\Python\\Lib\\site-packages\\keras\\src\\layers\\core\\dense.py:92: UserWarning: Do not pass an `input_shape`/`input_dim` argument to a layer. When using Sequential models, prefer using an `Input(shape)` object as the first layer in the model instead.\n",
      "  super().__init__(activity_regularizer=activity_regularizer, **kwargs)\n",
      "[I 2025-09-06 00:56:04,036] Trial 6 finished with value: 0.29805976152420044 and parameters: {'n_layers': 8, 'units_l0': 256, 'activation_l0': 'relu', 'dropout_l0': 0.2894109143051416, 'batchnorm_l0': False, 'l1_reg': 1.2618219029141077e-07, 'l2_reg': 6.698070522422823e-06, 'units_l1': 1024, 'activation_l1': 'gelu', 'dropout_l1': 0.34230091172871724, 'batchnorm_l1': False, 'units_l2': 128, 'activation_l2': 'tanh', 'dropout_l2': 0.44629857883110835, 'batchnorm_l2': False, 'units_l3': 128, 'activation_l3': 'gelu', 'dropout_l3': 0.49016657858097834, 'batchnorm_l3': True, 'units_l4': 1024, 'activation_l4': 'leaky_relu', 'dropout_l4': 0.041597112427897584, 'batchnorm_l4': False, 'units_l5': 64, 'activation_l5': 'swish', 'dropout_l5': 0.35764958300976873, 'batchnorm_l5': True, 'units_l6': 128, 'activation_l6': 'elu', 'dropout_l6': 0.39765807121326957, 'batchnorm_l6': True, 'units_l7': 256, 'activation_l7': 'selu', 'dropout_l7': 0.39392867716013574, 'batchnorm_l7': True, 'optimizer': 'adamw', 'lr': 1.0409018314731226e-06, 'loss': 'focal_loss', 'batch_size': 32}. Best is trial 4 with value: 0.4053565363089244.\n",
      "D:\\Python\\Lib\\site-packages\\keras\\src\\layers\\core\\dense.py:92: UserWarning: Do not pass an `input_shape`/`input_dim` argument to a layer. When using Sequential models, prefer using an `Input(shape)` object as the first layer in the model instead.\n",
      "  super().__init__(activity_regularizer=activity_regularizer, **kwargs)\n",
      "[I 2025-09-06 01:05:48,353] Trial 7 finished with value: 0.4430665870507558 and parameters: {'n_layers': 5, 'units_l0': 32, 'activation_l0': 'swish', 'dropout_l0': 0.4274345660605338, 'batchnorm_l0': True, 'l1_reg': 2.7430701985645324e-07, 'l2_reg': 2.778052498403312e-06, 'units_l1': 256, 'activation_l1': 'gelu', 'dropout_l1': 0.14781738455029494, 'batchnorm_l1': True, 'units_l2': 16, 'activation_l2': 'gelu', 'dropout_l2': 0.33116152769663487, 'batchnorm_l2': True, 'units_l3': 128, 'activation_l3': 'swish', 'dropout_l3': 0.48816496824731515, 'batchnorm_l3': False, 'units_l4': 512, 'activation_l4': 'relu', 'dropout_l4': 0.3194964487935205, 'batchnorm_l4': True, 'optimizer': 'adam', 'lr': 0.0004230054893694264, 'loss': 'focal_loss', 'batch_size': 16}. Best is trial 7 with value: 0.4430665870507558.\n",
      "D:\\Python\\Lib\\site-packages\\keras\\src\\layers\\core\\dense.py:92: UserWarning: Do not pass an `input_shape`/`input_dim` argument to a layer. When using Sequential models, prefer using an `Input(shape)` object as the first layer in the model instead.\n",
      "  super().__init__(activity_regularizer=activity_regularizer, **kwargs)\n",
      "[I 2025-09-06 01:14:19,972] Trial 8 finished with value: 0.44651565949122113 and parameters: {'n_layers': 6, 'units_l0': 64, 'activation_l0': 'swish', 'dropout_l0': 0.42633123490672836, 'batchnorm_l0': False, 'l1_reg': 1.650546402699053e-06, 'l2_reg': 1.718293586995308e-06, 'units_l1': 512, 'activation_l1': 'leaky_relu', 'dropout_l1': 0.33359611784670085, 'batchnorm_l1': False, 'units_l2': 16, 'activation_l2': 'relu', 'dropout_l2': 0.48621669939914675, 'batchnorm_l2': True, 'units_l3': 64, 'activation_l3': 'elu', 'dropout_l3': 0.1349963764303072, 'batchnorm_l3': True, 'units_l4': 32, 'activation_l4': 'leaky_relu', 'dropout_l4': 0.5442034583954877, 'batchnorm_l4': False, 'units_l5': 128, 'activation_l5': 'relu', 'dropout_l5': 0.13757290963007177, 'batchnorm_l5': False, 'optimizer': 'adam', 'lr': 0.0002588736878718487, 'loss': 'sparse_categorical_crossentropy', 'batch_size': 32}. Best is trial 8 with value: 0.44651565949122113.\n",
      "D:\\Python\\Lib\\site-packages\\keras\\src\\layers\\core\\dense.py:92: UserWarning: Do not pass an `input_shape`/`input_dim` argument to a layer. When using Sequential models, prefer using an `Input(shape)` object as the first layer in the model instead.\n",
      "  super().__init__(activity_regularizer=activity_regularizer, **kwargs)\n",
      "[I 2025-09-06 01:24:30,879] Trial 9 finished with value: 0.3187659680843353 and parameters: {'n_layers': 6, 'units_l0': 1024, 'activation_l0': 'elu', 'dropout_l0': 0.3950873383129904, 'batchnorm_l0': True, 'l1_reg': 1.9703672518688485e-05, 'l2_reg': 2.687835829544952e-08, 'units_l1': 512, 'activation_l1': 'relu', 'dropout_l1': 0.09711539027026257, 'batchnorm_l1': False, 'units_l2': 32, 'activation_l2': 'leaky_relu', 'dropout_l2': 0.4502928185358965, 'batchnorm_l2': True, 'units_l3': 128, 'activation_l3': 'swish', 'dropout_l3': 0.426972697198954, 'batchnorm_l3': False, 'units_l4': 16, 'activation_l4': 'gelu', 'dropout_l4': 0.48615941859488915, 'batchnorm_l4': False, 'units_l5': 512, 'activation_l5': 'tanh', 'dropout_l5': 0.07250136719495485, 'batchnorm_l5': True, 'optimizer': 'adam', 'lr': 2.2086598624147853e-06, 'loss': 'focal_loss', 'batch_size': 128}. Best is trial 8 with value: 0.44651565949122113.\n",
      "D:\\Python\\Lib\\site-packages\\keras\\src\\layers\\core\\dense.py:92: UserWarning: Do not pass an `input_shape`/`input_dim` argument to a layer. When using Sequential models, prefer using an `Input(shape)` object as the first layer in the model instead.\n",
      "  super().__init__(activity_regularizer=activity_regularizer, **kwargs)\n",
      "[I 2025-09-06 01:26:22,228] Trial 10 finished with value: 0.5331098238627116 and parameters: {'n_layers': 1, 'units_l0': 64, 'activation_l0': 'swish', 'dropout_l0': 0.5979906647089305, 'batchnorm_l0': False, 'l1_reg': 1.0630923344612266e-08, 'l2_reg': 0.0003730252536383346, 'optimizer': 'adam', 'lr': 0.0038843699443438153, 'loss': 'sparse_categorical_crossentropy', 'batch_size': 128}. Best is trial 10 with value: 0.5331098238627116.\n",
      "D:\\Python\\Lib\\site-packages\\keras\\src\\layers\\core\\dense.py:92: UserWarning: Do not pass an `input_shape`/`input_dim` argument to a layer. When using Sequential models, prefer using an `Input(shape)` object as the first layer in the model instead.\n",
      "  super().__init__(activity_regularizer=activity_regularizer, **kwargs)\n",
      "[I 2025-09-06 01:28:37,663] Trial 11 finished with value: 0.5110901395479838 and parameters: {'n_layers': 2, 'units_l0': 64, 'activation_l0': 'swish', 'dropout_l0': 0.5824856756139125, 'batchnorm_l0': False, 'l1_reg': 1.0445574655548918e-08, 'l2_reg': 0.0006668169065003122, 'units_l1': 512, 'activation_l1': 'leaky_relu', 'dropout_l1': 0.5898072975287221, 'batchnorm_l1': True, 'optimizer': 'adam', 'lr': 0.002475849018271479, 'loss': 'sparse_categorical_crossentropy', 'batch_size': 128}. Best is trial 10 with value: 0.5331098238627116.\n",
      "D:\\Python\\Lib\\site-packages\\keras\\src\\layers\\core\\dense.py:92: UserWarning: Do not pass an `input_shape`/`input_dim` argument to a layer. When using Sequential models, prefer using an `Input(shape)` object as the first layer in the model instead.\n",
      "  super().__init__(activity_regularizer=activity_regularizer, **kwargs)\n",
      "[I 2025-09-06 01:29:20,329] Trial 12 finished with value: 0.4909624059995015 and parameters: {'n_layers': 1, 'units_l0': 512, 'activation_l0': 'swish', 'dropout_l0': 0.5796333369769602, 'batchnorm_l0': False, 'l1_reg': 1.717457924330466e-08, 'l2_reg': 0.0009452633584169901, 'optimizer': 'adam', 'lr': 0.006732559793293485, 'loss': 'sparse_categorical_crossentropy', 'batch_size': 128}. Best is trial 10 with value: 0.5331098238627116.\n",
      "D:\\Python\\Lib\\site-packages\\keras\\src\\layers\\core\\dense.py:92: UserWarning: Do not pass an `input_shape`/`input_dim` argument to a layer. When using Sequential models, prefer using an `Input(shape)` object as the first layer in the model instead.\n",
      "  super().__init__(activity_regularizer=activity_regularizer, **kwargs)\n",
      "[I 2025-09-06 01:30:03,177] Trial 13 finished with value: 0.4249910016854604 and parameters: {'n_layers': 1, 'units_l0': 64, 'activation_l0': 'selu', 'dropout_l0': 0.5814948653479324, 'batchnorm_l0': False, 'l1_reg': 1.341987685763726e-08, 'l2_reg': 0.00015012439792268963, 'optimizer': 'adam', 'lr': 0.003987595250346929, 'loss': 'sparse_categorical_crossentropy', 'batch_size': 128}. Best is trial 10 with value: 0.5331098238627116.\n",
      "D:\\Python\\Lib\\site-packages\\keras\\src\\layers\\core\\dense.py:92: UserWarning: Do not pass an `input_shape`/`input_dim` argument to a layer. When using Sequential models, prefer using an `Input(shape)` object as the first layer in the model instead.\n",
      "  super().__init__(activity_regularizer=activity_regularizer, **kwargs)\n",
      "[I 2025-09-06 01:31:57,470] Trial 14 finished with value: 0.5322056214014689 and parameters: {'n_layers': 3, 'units_l0': 64, 'activation_l0': 'swish', 'dropout_l0': 0.5101343583547107, 'batchnorm_l0': False, 'l1_reg': 1.1830365172146226e-07, 'l2_reg': 0.00011358369599299388, 'units_l1': 512, 'activation_l1': 'leaky_relu', 'dropout_l1': 0.5627678198130394, 'batchnorm_l1': True, 'units_l2': 256, 'activation_l2': 'swish', 'dropout_l2': 0.5804954564678043, 'batchnorm_l2': False, 'optimizer': 'rmsprop', 'lr': 0.0036033502531729045, 'loss': 'sparse_categorical_crossentropy', 'batch_size': 128}. Best is trial 10 with value: 0.5331098238627116.\n",
      "D:\\Python\\Lib\\site-packages\\keras\\src\\layers\\core\\dense.py:92: UserWarning: Do not pass an `input_shape`/`input_dim` argument to a layer. When using Sequential models, prefer using an `Input(shape)` object as the first layer in the model instead.\n",
      "  super().__init__(activity_regularizer=activity_regularizer, **kwargs)\n",
      "[I 2025-09-06 01:32:30,486] Trial 15 finished with value: 0.0883178636431694 and parameters: {'n_layers': 3, 'units_l0': 64, 'activation_l0': 'swish', 'dropout_l0': 0.5534995633804335, 'batchnorm_l0': False, 'l1_reg': 1.2174594357674583e-07, 'l2_reg': 9.71244480783125e-05, 'units_l1': 128, 'activation_l1': 'selu', 'dropout_l1': 0.5879822251659799, 'batchnorm_l1': True, 'units_l2': 256, 'activation_l2': 'swish', 'dropout_l2': 0.5707478850368876, 'batchnorm_l2': False, 'optimizer': 'rmsprop', 'lr': 0.07431220196014302, 'loss': 'sparse_categorical_crossentropy', 'batch_size': 128}. Best is trial 10 with value: 0.5331098238627116.\n",
      "D:\\Python\\Lib\\site-packages\\keras\\src\\layers\\core\\dense.py:92: UserWarning: Do not pass an `input_shape`/`input_dim` argument to a layer. When using Sequential models, prefer using an `Input(shape)` object as the first layer in the model instead.\n",
      "  super().__init__(activity_regularizer=activity_regularizer, **kwargs)\n",
      "[I 2025-09-06 01:33:32,757] Trial 16 finished with value: 0.40478161970774335 and parameters: {'n_layers': 3, 'units_l0': 1024, 'activation_l0': 'selu', 'dropout_l0': 0.503041142644311, 'batchnorm_l0': False, 'l1_reg': 4.799753358912878e-07, 'l2_reg': 4.635096958811638e-05, 'units_l1': 16, 'activation_l1': 'leaky_relu', 'dropout_l1': 0.48278868516959617, 'batchnorm_l1': True, 'units_l2': 256, 'activation_l2': 'swish', 'dropout_l2': 0.5963072578989482, 'batchnorm_l2': False, 'optimizer': 'rmsprop', 'lr': 0.013881953389024433, 'loss': 'sparse_categorical_crossentropy', 'batch_size': 64}. Best is trial 10 with value: 0.5331098238627116.\n",
      "D:\\Python\\Lib\\site-packages\\keras\\src\\layers\\core\\dense.py:92: UserWarning: Do not pass an `input_shape`/`input_dim` argument to a layer. When using Sequential models, prefer using an `Input(shape)` object as the first layer in the model instead.\n",
      "  super().__init__(activity_regularizer=activity_regularizer, **kwargs)\n",
      "[I 2025-09-06 01:35:38,916] Trial 17 finished with value: 0.5308904051780701 and parameters: {'n_layers': 1, 'units_l0': 512, 'activation_l0': 'leaky_relu', 'dropout_l0': 0.4958339678272446, 'batchnorm_l0': False, 'l1_reg': 5.758785581255094e-08, 'l2_reg': 0.005720887832425369, 'optimizer': 'nadam', 'lr': 0.0012220959054425515, 'loss': 'sparse_categorical_crossentropy', 'batch_size': 128}. Best is trial 10 with value: 0.5331098238627116.\n",
      "D:\\Python\\Lib\\site-packages\\keras\\src\\layers\\core\\dense.py:92: UserWarning: Do not pass an `input_shape`/`input_dim` argument to a layer. When using Sequential models, prefer using an `Input(shape)` object as the first layer in the model instead.\n",
      "  super().__init__(activity_regularizer=activity_regularizer, **kwargs)\n",
      "[I 2025-09-06 01:36:17,047] Trial 18 finished with value: 0.22033830980459848 and parameters: {'n_layers': 4, 'units_l0': 16, 'activation_l0': 'gelu', 'dropout_l0': 0.21069128388347963, 'batchnorm_l0': False, 'l1_reg': 4.134659099461501e-07, 'l2_reg': 0.0006944656219673885, 'units_l1': 128, 'activation_l1': 'selu', 'dropout_l1': 0.24642203643294303, 'batchnorm_l1': True, 'units_l2': 256, 'activation_l2': 'selu', 'dropout_l2': 0.15787782606375983, 'batchnorm_l2': False, 'units_l3': 512, 'activation_l3': 'tanh', 'dropout_l3': 0.010865406345314854, 'batchnorm_l3': False, 'optimizer': 'rmsprop', 'lr': 0.022238552876240218, 'loss': 'sparse_categorical_crossentropy', 'batch_size': 128}. Best is trial 10 with value: 0.5331098238627116.\n",
      "D:\\Python\\Lib\\site-packages\\keras\\src\\layers\\core\\dense.py:92: UserWarning: Do not pass an `input_shape`/`input_dim` argument to a layer. When using Sequential models, prefer using an `Input(shape)` object as the first layer in the model instead.\n",
      "  super().__init__(activity_regularizer=activity_regularizer, **kwargs)\n",
      "[I 2025-09-06 01:40:40,805] Trial 19 finished with value: 0.4286062220732371 and parameters: {'n_layers': 8, 'units_l0': 128, 'activation_l0': 'swish', 'dropout_l0': 0.5068307499861462, 'batchnorm_l0': False, 'l1_reg': 5.0874091100644536e-08, 'l2_reg': 4.570174436606395e-05, 'units_l1': 64, 'activation_l1': 'elu', 'dropout_l1': 0.522567617201151, 'batchnorm_l1': True, 'units_l2': 64, 'activation_l2': 'swish', 'dropout_l2': 0.15796668157029847, 'batchnorm_l2': False, 'units_l3': 32, 'activation_l3': 'leaky_relu', 'dropout_l3': 0.2353469552440049, 'batchnorm_l3': False, 'units_l4': 64, 'activation_l4': 'swish', 'dropout_l4': 0.42728295615782963, 'batchnorm_l4': True, 'units_l5': 32, 'activation_l5': 'selu', 'dropout_l5': 0.5627560211713126, 'batchnorm_l5': False, 'units_l6': 64, 'activation_l6': 'gelu', 'dropout_l6': 0.007465761694760653, 'batchnorm_l6': False, 'units_l7': 32, 'activation_l7': 'gelu', 'dropout_l7': 0.5732632896812777, 'batchnorm_l7': True, 'optimizer': 'rmsprop', 'lr': 0.0006628686034559749, 'loss': 'sparse_categorical_crossentropy', 'batch_size': 128}. Best is trial 10 with value: 0.5331098238627116.\n",
      "D:\\Python\\Lib\\site-packages\\keras\\src\\layers\\core\\dense.py:92: UserWarning: Do not pass an `input_shape`/`input_dim` argument to a layer. When using Sequential models, prefer using an `Input(shape)` object as the first layer in the model instead.\n",
      "  super().__init__(activity_regularizer=activity_regularizer, **kwargs)\n",
      "[I 2025-09-06 01:45:48,864] Trial 20 finished with value: 0.43485015630722046 and parameters: {'n_layers': 2, 'units_l0': 64, 'activation_l0': 'swish', 'dropout_l0': 0.22943476869971008, 'batchnorm_l0': False, 'l1_reg': 1.3375280848903673e-07, 'l2_reg': 0.0001730863120727924, 'units_l1': 512, 'activation_l1': 'relu', 'dropout_l1': 0.39237753037124334, 'batchnorm_l1': True, 'optimizer': 'sgd', 'lr': 0.00017579506595016045, 'momentum': 0.5140827999969184, 'loss': 'sparse_categorical_crossentropy', 'batch_size': 64}. Best is trial 10 with value: 0.5331098238627116.\n",
      "D:\\Python\\Lib\\site-packages\\keras\\src\\layers\\core\\dense.py:92: UserWarning: Do not pass an `input_shape`/`input_dim` argument to a layer. When using Sequential models, prefer using an `Input(shape)` object as the first layer in the model instead.\n",
      "  super().__init__(activity_regularizer=activity_regularizer, **kwargs)\n",
      "[I 2025-09-06 01:47:26,416] Trial 21 finished with value: 0.5070655941963196 and parameters: {'n_layers': 1, 'units_l0': 512, 'activation_l0': 'leaky_relu', 'dropout_l0': 0.5019930470282534, 'batchnorm_l0': False, 'l1_reg': 3.837661951754363e-08, 'l2_reg': 0.00888556343957022, 'optimizer': 'nadam', 'lr': 0.0013727007206965727, 'loss': 'sparse_categorical_crossentropy', 'batch_size': 128}. Best is trial 10 with value: 0.5331098238627116.\n",
      "D:\\Python\\Lib\\site-packages\\keras\\src\\layers\\core\\dense.py:92: UserWarning: Do not pass an `input_shape`/`input_dim` argument to a layer. When using Sequential models, prefer using an `Input(shape)` object as the first layer in the model instead.\n",
      "  super().__init__(activity_regularizer=activity_regularizer, **kwargs)\n",
      "[I 2025-09-06 01:50:57,102] Trial 22 finished with value: 0.5937385360399882 and parameters: {'n_layers': 2, 'units_l0': 512, 'activation_l0': 'leaky_relu', 'dropout_l0': 0.5308506290798088, 'batchnorm_l0': False, 'l1_reg': 4.3678310972635e-08, 'l2_reg': 0.00190841138088163, 'units_l1': 512, 'activation_l1': 'leaky_relu', 'dropout_l1': 0.5298162215672143, 'batchnorm_l1': True, 'optimizer': 'nadam', 'lr': 0.0012750332696038619, 'loss': 'sparse_categorical_crossentropy', 'batch_size': 128}. Best is trial 22 with value: 0.5937385360399882.\n",
      "D:\\Python\\Lib\\site-packages\\keras\\src\\layers\\core\\dense.py:92: UserWarning: Do not pass an `input_shape`/`input_dim` argument to a layer. When using Sequential models, prefer using an `Input(shape)` object as the first layer in the model instead.\n",
      "  super().__init__(activity_regularizer=activity_regularizer, **kwargs)\n",
      "[I 2025-09-06 01:52:35,032] Trial 23 finished with value: 0.5023816724618276 and parameters: {'n_layers': 2, 'units_l0': 512, 'activation_l0': 'leaky_relu', 'dropout_l0': 0.3480980889994506, 'batchnorm_l0': False, 'l1_reg': 2.339263464316279e-08, 'l2_reg': 0.001728441278453667, 'units_l1': 512, 'activation_l1': 'leaky_relu', 'dropout_l1': 0.5294202978001423, 'batchnorm_l1': True, 'optimizer': 'nadam', 'lr': 0.01084557676068737, 'loss': 'sparse_categorical_crossentropy', 'batch_size': 128}. Best is trial 22 with value: 0.5937385360399882.\n",
      "D:\\Python\\Lib\\site-packages\\keras\\src\\layers\\core\\dense.py:92: UserWarning: Do not pass an `input_shape`/`input_dim` argument to a layer. When using Sequential models, prefer using an `Input(shape)` object as the first layer in the model instead.\n",
      "  super().__init__(activity_regularizer=activity_regularizer, **kwargs)\n",
      "[I 2025-09-06 01:54:32,886] Trial 24 finished with value: 0.4716555674870809 and parameters: {'n_layers': 4, 'units_l0': 64, 'activation_l0': 'leaky_relu', 'dropout_l0': 0.5345337219316848, 'batchnorm_l0': False, 'l1_reg': 9.952015364892829e-08, 'l2_reg': 0.0003125991825437623, 'units_l1': 512, 'activation_l1': 'leaky_relu', 'dropout_l1': 0.39138303213169656, 'batchnorm_l1': True, 'units_l2': 32, 'activation_l2': 'gelu', 'dropout_l2': 0.5199850092171389, 'batchnorm_l2': False, 'units_l3': 256, 'activation_l3': 'tanh', 'dropout_l3': 0.5728763396518382, 'batchnorm_l3': False, 'optimizer': 'nadam', 'lr': 0.002451553920347634, 'loss': 'sparse_categorical_crossentropy', 'batch_size': 128}. Best is trial 22 with value: 0.5937385360399882.\n",
      "D:\\Python\\Lib\\site-packages\\keras\\src\\layers\\core\\dense.py:92: UserWarning: Do not pass an `input_shape`/`input_dim` argument to a layer. When using Sequential models, prefer using an `Input(shape)` object as the first layer in the model instead.\n",
      "  super().__init__(activity_regularizer=activity_regularizer, **kwargs)\n",
      "[I 2025-09-06 02:31:07,482] Trial 25 finished with value: 0.5297405322392782 and parameters: {'n_layers': 5, 'units_l0': 512, 'activation_l0': 'swish', 'dropout_l0': 0.47221620476410936, 'batchnorm_l0': False, 'l1_reg': 5.837826429644757e-07, 'l2_reg': 3.137829453798232e-05, 'units_l1': 512, 'activation_l1': 'tanh', 'dropout_l1': 0.5325403203060803, 'batchnorm_l1': True, 'units_l2': 128, 'activation_l2': 'selu', 'dropout_l2': 0.3428291648771288, 'batchnorm_l2': True, 'units_l3': 512, 'activation_l3': 'gelu', 'dropout_l3': 0.24920838587280175, 'batchnorm_l3': True, 'units_l4': 32, 'activation_l4': 'elu', 'dropout_l4': 0.5923378324347414, 'batchnorm_l4': True, 'optimizer': 'nadam', 'lr': 6.989810363543998e-05, 'loss': 'sparse_categorical_crossentropy', 'batch_size': 16}. Best is trial 22 with value: 0.5937385360399882.\n",
      "D:\\Python\\Lib\\site-packages\\keras\\src\\layers\\core\\dense.py:92: UserWarning: Do not pass an `input_shape`/`input_dim` argument to a layer. When using Sequential models, prefer using an `Input(shape)` object as the first layer in the model instead.\n",
      "  super().__init__(activity_regularizer=activity_regularizer, **kwargs)\n",
      "[I 2025-09-06 02:31:42,487] Trial 26 finished with value: 0.376763919989268 and parameters: {'n_layers': 2, 'units_l0': 64, 'activation_l0': 'elu', 'dropout_l0': 0.5974816198943514, 'batchnorm_l0': True, 'l1_reg': 1.0551737401574371e-08, 'l2_reg': 0.0020735486817319154, 'units_l1': 512, 'activation_l1': 'leaky_relu', 'dropout_l1': 0.5964382647311126, 'batchnorm_l1': True, 'optimizer': 'rmsprop', 'lr': 0.03168811357977294, 'loss': 'sparse_categorical_crossentropy', 'batch_size': 256}. Best is trial 22 with value: 0.5937385360399882.\n",
      "D:\\Python\\Lib\\site-packages\\keras\\src\\layers\\core\\dense.py:92: UserWarning: Do not pass an `input_shape`/`input_dim` argument to a layer. When using Sequential models, prefer using an `Input(shape)` object as the first layer in the model instead.\n",
      "  super().__init__(activity_regularizer=activity_regularizer, **kwargs)\n",
      "[I 2025-09-06 02:32:43,882] Trial 27 finished with value: 0.4272090494632721 and parameters: {'n_layers': 3, 'units_l0': 16, 'activation_l0': 'selu', 'dropout_l0': 0.5320960959511662, 'batchnorm_l0': False, 'l1_reg': 2.143336009517146e-07, 'l2_reg': 2.17081558409651e-07, 'units_l1': 256, 'activation_l1': 'leaky_relu', 'dropout_l1': 0.40949157988690466, 'batchnorm_l1': True, 'units_l2': 256, 'activation_l2': 'relu', 'dropout_l2': 0.38488800069053253, 'batchnorm_l2': False, 'optimizer': 'rmsprop', 'lr': 0.005335090116911766, 'loss': 'sparse_categorical_crossentropy', 'batch_size': 128}. Best is trial 22 with value: 0.5937385360399882.\n",
      "D:\\Python\\Lib\\site-packages\\keras\\src\\layers\\core\\dense.py:92: UserWarning: Do not pass an `input_shape`/`input_dim` argument to a layer. When using Sequential models, prefer using an `Input(shape)` object as the first layer in the model instead.\n",
      "  super().__init__(activity_regularizer=activity_regularizer, **kwargs)\n",
      "[I 2025-09-06 02:34:57,164] Trial 28 finished with value: 0.5585771600405375 and parameters: {'n_layers': 2, 'units_l0': 32, 'activation_l0': 'relu', 'dropout_l0': 0.3589019546576982, 'batchnorm_l0': False, 'l1_reg': 1.1181365367887323e-05, 'l2_reg': 0.0003459933931885254, 'units_l1': 1024, 'activation_l1': 'leaky_relu', 'dropout_l1': 0.25385497059994144, 'batchnorm_l1': True, 'optimizer': 'adam', 'lr': 0.0012043349778814232, 'loss': 'sparse_categorical_crossentropy', 'batch_size': 128}. Best is trial 22 with value: 0.5937385360399882.\n",
      "D:\\Python\\Lib\\site-packages\\keras\\src\\layers\\core\\dense.py:92: UserWarning: Do not pass an `input_shape`/`input_dim` argument to a layer. When using Sequential models, prefer using an `Input(shape)` object as the first layer in the model instead.\n",
      "  super().__init__(activity_regularizer=activity_regularizer, **kwargs)\n",
      "[I 2025-09-06 02:39:36,258] Trial 29 finished with value: 0.5451853275299072 and parameters: {'n_layers': 5, 'units_l0': 32, 'activation_l0': 'relu', 'dropout_l0': 0.36441687249119337, 'batchnorm_l0': False, 'l1_reg': 8.498533795132691e-06, 'l2_reg': 0.0018343685067929041, 'units_l1': 1024, 'activation_l1': 'selu', 'dropout_l1': 0.24308098557224486, 'batchnorm_l1': True, 'units_l2': 64, 'activation_l2': 'gelu', 'dropout_l2': 0.14242875406099267, 'batchnorm_l2': True, 'units_l3': 16, 'activation_l3': 'relu', 'dropout_l3': 0.0176218615467868, 'batchnorm_l3': False, 'units_l4': 16, 'activation_l4': 'selu', 'dropout_l4': 0.3920638494660389, 'batchnorm_l4': True, 'optimizer': 'adam', 'lr': 0.0009186178961516128, 'loss': 'sparse_categorical_crossentropy', 'batch_size': 128}. Best is trial 22 with value: 0.5937385360399882.\n",
      "D:\\Python\\Lib\\site-packages\\keras\\src\\layers\\core\\dense.py:92: UserWarning: Do not pass an `input_shape`/`input_dim` argument to a layer. When using Sequential models, prefer using an `Input(shape)` object as the first layer in the model instead.\n",
      "  super().__init__(activity_regularizer=activity_regularizer, **kwargs)\n",
      "[I 2025-09-06 02:57:14,748] Trial 30 finished with value: 0.4784751931826274 and parameters: {'n_layers': 7, 'units_l0': 32, 'activation_l0': 'relu', 'dropout_l0': 0.3482884027775075, 'batchnorm_l0': False, 'l1_reg': 1.3323108293154857e-05, 'l2_reg': 0.002484305470640168, 'units_l1': 1024, 'activation_l1': 'selu', 'dropout_l1': 0.2491443079289843, 'batchnorm_l1': True, 'units_l2': 64, 'activation_l2': 'gelu', 'dropout_l2': 0.1064250125616171, 'batchnorm_l2': True, 'units_l3': 16, 'activation_l3': 'relu', 'dropout_l3': 0.010537836151880798, 'batchnorm_l3': False, 'units_l4': 16, 'activation_l4': 'selu', 'dropout_l4': 0.39116312720992, 'batchnorm_l4': True, 'units_l5': 1024, 'activation_l5': 'leaky_relu', 'dropout_l5': 0.021707185105650673, 'batchnorm_l5': False, 'units_l6': 32, 'activation_l6': 'leaky_relu', 'dropout_l6': 0.41182038011611577, 'batchnorm_l6': False, 'optimizer': 'adam', 'lr': 0.0001407365807010534, 'loss': 'sparse_categorical_crossentropy', 'batch_size': 16}. Best is trial 22 with value: 0.5937385360399882.\n",
      "D:\\Python\\Lib\\site-packages\\keras\\src\\layers\\core\\dense.py:92: UserWarning: Do not pass an `input_shape`/`input_dim` argument to a layer. When using Sequential models, prefer using an `Input(shape)` object as the first layer in the model instead.\n",
      "  super().__init__(activity_regularizer=activity_regularizer, **kwargs)\n",
      "[I 2025-09-06 03:04:34,638] Trial 31 finished with value: 0.5374650756518046 and parameters: {'n_layers': 10, 'units_l0': 32, 'activation_l0': 'relu', 'dropout_l0': 0.20086142304197463, 'batchnorm_l0': False, 'l1_reg': 1.302653438370922e-05, 'l2_reg': 0.0003593412080613248, 'units_l1': 1024, 'activation_l1': 'selu', 'dropout_l1': 0.2582008515368199, 'batchnorm_l1': True, 'units_l2': 64, 'activation_l2': 'gelu', 'dropout_l2': 0.2001255474706128, 'batchnorm_l2': True, 'units_l3': 16, 'activation_l3': 'relu', 'dropout_l3': 0.11949385254779098, 'batchnorm_l3': False, 'units_l4': 16, 'activation_l4': 'selu', 'dropout_l4': 0.16609635613145077, 'batchnorm_l4': True, 'units_l5': 256, 'activation_l5': 'selu', 'dropout_l5': 0.45714600918658865, 'batchnorm_l5': False, 'units_l6': 1024, 'activation_l6': 'selu', 'dropout_l6': 0.4944770539600436, 'batchnorm_l6': True, 'units_l7': 128, 'activation_l7': 'elu', 'dropout_l7': 0.010797077938107746, 'batchnorm_l7': True, 'units_l8': 32, 'activation_l8': 'relu', 'dropout_l8': 0.013876959336754702, 'batchnorm_l8': False, 'units_l9': 64, 'activation_l9': 'selu', 'dropout_l9': 0.0020502550969334066, 'batchnorm_l9': True, 'optimizer': 'adam', 'lr': 0.00083029735765622, 'loss': 'sparse_categorical_crossentropy', 'batch_size': 128}. Best is trial 22 with value: 0.5937385360399882.\n",
      "D:\\Python\\Lib\\site-packages\\keras\\src\\layers\\core\\dense.py:92: UserWarning: Do not pass an `input_shape`/`input_dim` argument to a layer. When using Sequential models, prefer using an `Input(shape)` object as the first layer in the model instead.\n",
      "  super().__init__(activity_regularizer=activity_regularizer, **kwargs)\n",
      "[I 2025-09-06 03:11:45,936] Trial 32 finished with value: 0.5584951639175415 and parameters: {'n_layers': 10, 'units_l0': 32, 'activation_l0': 'relu', 'dropout_l0': 0.16774897452121734, 'batchnorm_l0': False, 'l1_reg': 8.417472321343431e-06, 'l2_reg': 0.0037393689587948108, 'units_l1': 1024, 'activation_l1': 'selu', 'dropout_l1': 0.27273266689981235, 'batchnorm_l1': True, 'units_l2': 64, 'activation_l2': 'gelu', 'dropout_l2': 0.19596437248184834, 'batchnorm_l2': True, 'units_l3': 16, 'activation_l3': 'relu', 'dropout_l3': 0.11620960466844774, 'batchnorm_l3': False, 'units_l4': 16, 'activation_l4': 'selu', 'dropout_l4': 0.17637462098473342, 'batchnorm_l4': True, 'units_l5': 256, 'activation_l5': 'selu', 'dropout_l5': 0.465257912347041, 'batchnorm_l5': False, 'units_l6': 1024, 'activation_l6': 'selu', 'dropout_l6': 0.5974559498905592, 'batchnorm_l6': True, 'units_l7': 128, 'activation_l7': 'elu', 'dropout_l7': 0.014431378963718126, 'batchnorm_l7': True, 'units_l8': 32, 'activation_l8': 'relu', 'dropout_l8': 0.004497550338976076, 'batchnorm_l8': False, 'units_l9': 64, 'activation_l9': 'selu', 'dropout_l9': 0.009858882435215377, 'batchnorm_l9': True, 'optimizer': 'adam', 'lr': 0.0007843138646400098, 'loss': 'sparse_categorical_crossentropy', 'batch_size': 128}. Best is trial 22 with value: 0.5937385360399882.\n",
      "D:\\Python\\Lib\\site-packages\\keras\\src\\layers\\core\\dense.py:92: UserWarning: Do not pass an `input_shape`/`input_dim` argument to a layer. When using Sequential models, prefer using an `Input(shape)` object as the first layer in the model instead.\n",
      "  super().__init__(activity_regularizer=activity_regularizer, **kwargs)\n",
      "[I 2025-09-06 03:18:55,979] Trial 33 finished with value: 0.5679456988970438 and parameters: {'n_layers': 9, 'units_l0': 32, 'activation_l0': 'relu', 'dropout_l0': 0.1620155381053852, 'batchnorm_l0': False, 'l1_reg': 5.583710944725975e-06, 'l2_reg': 0.0032644778029910877, 'units_l1': 1024, 'activation_l1': 'selu', 'dropout_l1': 0.19336208232298918, 'batchnorm_l1': True, 'units_l2': 64, 'activation_l2': 'gelu', 'dropout_l2': 0.09586548963120861, 'batchnorm_l2': True, 'units_l3': 16, 'activation_l3': 'relu', 'dropout_l3': 0.11363955643472803, 'batchnorm_l3': False, 'units_l4': 16, 'activation_l4': 'selu', 'dropout_l4': 0.20815431704191437, 'batchnorm_l4': True, 'units_l5': 256, 'activation_l5': 'selu', 'dropout_l5': 0.25180571692207804, 'batchnorm_l5': False, 'units_l6': 1024, 'activation_l6': 'selu', 'dropout_l6': 0.3547487388846304, 'batchnorm_l6': True, 'units_l7': 128, 'activation_l7': 'elu', 'dropout_l7': 0.028533212499105898, 'batchnorm_l7': True, 'units_l8': 32, 'activation_l8': 'relu', 'dropout_l8': 0.018116118836244477, 'batchnorm_l8': False, 'optimizer': 'adam', 'lr': 0.0006481576590261315, 'loss': 'sparse_categorical_crossentropy', 'batch_size': 128}. Best is trial 22 with value: 0.5937385360399882.\n",
      "D:\\Python\\Lib\\site-packages\\keras\\src\\layers\\core\\dense.py:92: UserWarning: Do not pass an `input_shape`/`input_dim` argument to a layer. When using Sequential models, prefer using an `Input(shape)` object as the first layer in the model instead.\n",
      "  super().__init__(activity_regularizer=activity_regularizer, **kwargs)\n",
      "[I 2025-09-06 03:19:52,614] Trial 34 finished with value: 0.07508973777294159 and parameters: {'n_layers': 10, 'units_l0': 32, 'activation_l0': 'relu', 'dropout_l0': 0.14432685538384954, 'batchnorm_l0': True, 'l1_reg': 4.437905844381542e-05, 'l2_reg': 0.009803918614539161, 'units_l1': 1024, 'activation_l1': 'selu', 'dropout_l1': 0.18770336152284484, 'batchnorm_l1': True, 'units_l2': 64, 'activation_l2': 'gelu', 'dropout_l2': 0.07554674506830575, 'batchnorm_l2': True, 'units_l3': 16, 'activation_l3': 'relu', 'dropout_l3': 0.1347268087473203, 'batchnorm_l3': False, 'units_l4': 16, 'activation_l4': 'selu', 'dropout_l4': 0.1741885862058528, 'batchnorm_l4': True, 'units_l5': 256, 'activation_l5': 'selu', 'dropout_l5': 0.24039303942117596, 'batchnorm_l5': False, 'units_l6': 1024, 'activation_l6': 'selu', 'dropout_l6': 0.5957304957500549, 'batchnorm_l6': True, 'units_l7': 128, 'activation_l7': 'elu', 'dropout_l7': 0.006976583550177578, 'batchnorm_l7': True, 'units_l8': 32, 'activation_l8': 'relu', 'dropout_l8': 0.024903518407714965, 'batchnorm_l8': False, 'units_l9': 64, 'activation_l9': 'selu', 'dropout_l9': 0.00402498265023411, 'batchnorm_l9': True, 'optimizer': 'sgd', 'lr': 0.0003618282400328386, 'momentum': 0.620612751651376, 'loss': 'focal_loss', 'batch_size': 256}. Best is trial 22 with value: 0.5937385360399882.\n",
      "D:\\Python\\Lib\\site-packages\\keras\\src\\layers\\core\\dense.py:92: UserWarning: Do not pass an `input_shape`/`input_dim` argument to a layer. When using Sequential models, prefer using an `Input(shape)` object as the first layer in the model instead.\n",
      "  super().__init__(activity_regularizer=activity_regularizer, **kwargs)\n",
      "[I 2025-09-06 03:35:34,348] Trial 35 finished with value: 0.515526294708252 and parameters: {'n_layers': 9, 'units_l0': 32, 'activation_l0': 'relu', 'dropout_l0': 0.0013529991613235037, 'batchnorm_l0': False, 'l1_reg': 3.716945924187648e-06, 'l2_reg': 0.0035872424664014544, 'units_l1': 1024, 'activation_l1': 'selu', 'dropout_l1': 0.29850641178588455, 'batchnorm_l1': True, 'units_l2': 64, 'activation_l2': 'gelu', 'dropout_l2': 0.22857254107051497, 'batchnorm_l2': True, 'units_l3': 256, 'activation_l3': 'elu', 'dropout_l3': 0.20923981039843995, 'batchnorm_l3': False, 'units_l4': 128, 'activation_l4': 'elu', 'dropout_l4': 0.0018072829295076587, 'batchnorm_l4': True, 'units_l5': 256, 'activation_l5': 'selu', 'dropout_l5': 0.4604841445433341, 'batchnorm_l5': False, 'units_l6': 1024, 'activation_l6': 'selu', 'dropout_l6': 0.33441209610421185, 'batchnorm_l6': True, 'units_l7': 64, 'activation_l7': 'relu', 'dropout_l7': 0.13993600133850062, 'batchnorm_l7': True, 'units_l8': 128, 'activation_l8': 'tanh', 'dropout_l8': 0.15259604918327332, 'batchnorm_l8': False, 'optimizer': 'adam', 'lr': 1.6115548929217708e-05, 'loss': 'sparse_categorical_crossentropy', 'batch_size': 64}. Best is trial 22 with value: 0.5937385360399882.\n",
      "D:\\Python\\Lib\\site-packages\\keras\\src\\layers\\core\\dense.py:92: UserWarning: Do not pass an `input_shape`/`input_dim` argument to a layer. When using Sequential models, prefer using an `Input(shape)` object as the first layer in the model instead.\n",
      "  super().__init__(activity_regularizer=activity_regularizer, **kwargs)\n",
      "[I 2025-09-06 03:42:08,879] Trial 36 finished with value: 0.47683114806811017 and parameters: {'n_layers': 11, 'units_l0': 32, 'activation_l0': 'relu', 'dropout_l0': 0.08113907812500641, 'batchnorm_l0': True, 'l1_reg': 0.0001562026468029393, 'l2_reg': 0.004209293171525812, 'units_l1': 32, 'activation_l1': 'selu', 'dropout_l1': 0.2923948180834466, 'batchnorm_l1': True, 'units_l2': 64, 'activation_l2': 'gelu', 'dropout_l2': 0.08282058814290554, 'batchnorm_l2': True, 'units_l3': 16, 'activation_l3': 'relu', 'dropout_l3': 0.08642326823859114, 'batchnorm_l3': False, 'units_l4': 256, 'activation_l4': 'gelu', 'dropout_l4': 0.23997227262764004, 'batchnorm_l4': True, 'units_l5': 256, 'activation_l5': 'selu', 'dropout_l5': 0.2622172271475757, 'batchnorm_l5': False, 'units_l6': 1024, 'activation_l6': 'selu', 'dropout_l6': 0.4708091828538194, 'batchnorm_l6': True, 'units_l7': 128, 'activation_l7': 'elu', 'dropout_l7': 0.003228320423543469, 'batchnorm_l7': True, 'units_l8': 1024, 'activation_l8': 'gelu', 'dropout_l8': 0.13646442087648217, 'batchnorm_l8': False, 'units_l9': 16, 'activation_l9': 'tanh', 'dropout_l9': 0.42897084655332474, 'batchnorm_l9': True, 'units_l10': 32, 'activation_l10': 'selu', 'dropout_l10': 0.5676978227037297, 'batchnorm_l10': False, 'optimizer': 'adamw', 'lr': 0.001833861078041722, 'loss': 'sparse_categorical_crossentropy', 'batch_size': 128}. Best is trial 22 with value: 0.5937385360399882.\n",
      "D:\\Python\\Lib\\site-packages\\keras\\src\\layers\\core\\dense.py:92: UserWarning: Do not pass an `input_shape`/`input_dim` argument to a layer. When using Sequential models, prefer using an `Input(shape)` object as the first layer in the model instead.\n",
      "  super().__init__(activity_regularizer=activity_regularizer, **kwargs)\n",
      "[I 2025-09-06 04:02:16,210] Trial 37 finished with value: 0.46902642647425336 and parameters: {'n_layers': 9, 'units_l0': 32, 'activation_l0': 'tanh', 'dropout_l0': 0.16035151925526978, 'batchnorm_l0': False, 'l1_reg': 4.2696294612344255e-06, 'l2_reg': 0.0011075286350891156, 'units_l1': 1024, 'activation_l1': 'swish', 'dropout_l1': 0.15942542067131438, 'batchnorm_l1': True, 'units_l2': 32, 'activation_l2': 'relu', 'dropout_l2': 0.1847407361149657, 'batchnorm_l2': True, 'units_l3': 16, 'activation_l3': 'relu', 'dropout_l3': 0.2935841978067185, 'batchnorm_l3': False, 'units_l4': 64, 'activation_l4': 'swish', 'dropout_l4': 0.1111518651686021, 'batchnorm_l4': True, 'units_l5': 32, 'activation_l5': 'tanh', 'dropout_l5': 0.4706320589526708, 'batchnorm_l5': False, 'units_l6': 1024, 'activation_l6': 'gelu', 'dropout_l6': 0.30565792202723724, 'batchnorm_l6': True, 'units_l7': 128, 'activation_l7': 'elu', 'dropout_l7': 0.22144162413931556, 'batchnorm_l7': True, 'units_l8': 256, 'activation_l8': 'relu', 'dropout_l8': 0.0757448806426729, 'batchnorm_l8': False, 'optimizer': 'nadam', 'lr': 9.670407629478756e-05, 'loss': 'focal_loss', 'batch_size': 32}. Best is trial 22 with value: 0.5937385360399882.\n",
      "D:\\Python\\Lib\\site-packages\\keras\\src\\layers\\core\\dense.py:92: UserWarning: Do not pass an `input_shape`/`input_dim` argument to a layer. When using Sequential models, prefer using an `Input(shape)` object as the first layer in the model instead.\n",
      "  super().__init__(activity_regularizer=activity_regularizer, **kwargs)\n",
      "[I 2025-09-06 04:09:39,571] Trial 38 finished with value: 0.4654123783111572 and parameters: {'n_layers': 11, 'units_l0': 32, 'activation_l0': 'relu', 'dropout_l0': 0.25417695454722256, 'batchnorm_l0': False, 'l1_reg': 1.435130461246782e-06, 'l2_reg': 2.1664061294258875e-05, 'units_l1': 32, 'activation_l1': 'tanh', 'dropout_l1': 0.1973963620805213, 'batchnorm_l1': True, 'units_l2': 1024, 'activation_l2': 'leaky_relu', 'dropout_l2': 0.3160914960630921, 'batchnorm_l2': True, 'units_l3': 16, 'activation_l3': 'relu', 'dropout_l3': 0.1825951844470356, 'batchnorm_l3': False, 'units_l4': 512, 'activation_l4': 'selu', 'dropout_l4': 0.2461440273020128, 'batchnorm_l4': True, 'units_l5': 16, 'activation_l5': 'elu', 'dropout_l5': 0.1552855068695171, 'batchnorm_l5': False, 'units_l6': 512, 'activation_l6': 'leaky_relu', 'dropout_l6': 0.20444308688688667, 'batchnorm_l6': True, 'units_l7': 128, 'activation_l7': 'elu', 'dropout_l7': 0.0974912756593367, 'batchnorm_l7': True, 'units_l8': 32, 'activation_l8': 'relu', 'dropout_l8': 0.25088143235668753, 'batchnorm_l8': False, 'units_l9': 128, 'activation_l9': 'swish', 'dropout_l9': 0.15074021047497665, 'batchnorm_l9': True, 'units_l10': 1024, 'activation_l10': 'leaky_relu', 'dropout_l10': 0.2705991716435827, 'batchnorm_l10': False, 'optimizer': 'adam', 'lr': 0.0004779346049810622, 'loss': 'sparse_categorical_crossentropy', 'batch_size': 256}. Best is trial 22 with value: 0.5937385360399882.\n",
      "D:\\Python\\Lib\\site-packages\\keras\\src\\layers\\core\\dense.py:92: UserWarning: Do not pass an `input_shape`/`input_dim` argument to a layer. When using Sequential models, prefer using an `Input(shape)` object as the first layer in the model instead.\n",
      "  super().__init__(activity_regularizer=activity_regularizer, **kwargs)\n",
      "[I 2025-09-06 04:49:26,633] Trial 39 finished with value: 0.36781246463457745 and parameters: {'n_layers': 8, 'units_l0': 256, 'activation_l0': 'gelu', 'dropout_l0': 0.0735826668013695, 'batchnorm_l0': True, 'l1_reg': 3.960073075124913e-05, 'l2_reg': 0.004721131392456925, 'units_l1': 1024, 'activation_l1': 'swish', 'dropout_l1': 0.3583270402241761, 'batchnorm_l1': True, 'units_l2': 512, 'activation_l2': 'elu', 'dropout_l2': 0.0018290922675863741, 'batchnorm_l2': True, 'units_l3': 256, 'activation_l3': 'gelu', 'dropout_l3': 0.06808625334080945, 'batchnorm_l3': False, 'units_l4': 16, 'activation_l4': 'selu', 'dropout_l4': 0.3012145237312094, 'batchnorm_l4': True, 'units_l5': 128, 'activation_l5': 'swish', 'dropout_l5': 0.30703774830093233, 'batchnorm_l5': False, 'units_l6': 128, 'activation_l6': 'elu', 'dropout_l6': 0.3922856634677213, 'batchnorm_l6': True, 'units_l7': 64, 'activation_l7': 'gelu', 'dropout_l7': 0.4645357326845916, 'batchnorm_l7': False, 'optimizer': 'sgd', 'lr': 2.4631278820852208e-05, 'momentum': 0.7668663431857617, 'loss': 'focal_loss', 'batch_size': 16}. Best is trial 22 with value: 0.5937385360399882.\n",
      "D:\\Python\\Lib\\site-packages\\keras\\src\\layers\\core\\dense.py:92: UserWarning: Do not pass an `input_shape`/`input_dim` argument to a layer. When using Sequential models, prefer using an `Input(shape)` object as the first layer in the model instead.\n",
      "  super().__init__(activity_regularizer=activity_regularizer, **kwargs)\n",
      "[I 2025-09-06 05:07:36,900] Trial 40 finished with value: 0.4954807957013448 and parameters: {'n_layers': 12, 'units_l0': 128, 'activation_l0': 'relu', 'dropout_l0': 0.3124793343532973, 'batchnorm_l0': False, 'l1_reg': 0.00019023686084075462, 'l2_reg': 0.000934760405190806, 'units_l1': 64, 'activation_l1': 'elu', 'dropout_l1': 0.1237993235188315, 'batchnorm_l1': True, 'units_l2': 128, 'activation_l2': 'selu', 'dropout_l2': 0.06119764928399257, 'batchnorm_l2': True, 'units_l3': 512, 'activation_l3': 'selu', 'dropout_l3': 0.29793094247533736, 'batchnorm_l3': False, 'units_l4': 16, 'activation_l4': 'selu', 'dropout_l4': 0.113051965412374, 'batchnorm_l4': True, 'units_l5': 1024, 'activation_l5': 'leaky_relu', 'dropout_l5': 0.40766825629546, 'batchnorm_l5': False, 'units_l6': 16, 'activation_l6': 'swish', 'dropout_l6': 0.07977698655823545, 'batchnorm_l6': True, 'units_l7': 16, 'activation_l7': 'tanh', 'dropout_l7': 0.07840231580944647, 'batchnorm_l7': True, 'units_l8': 32, 'activation_l8': 'relu', 'dropout_l8': 0.5836192303939318, 'batchnorm_l8': False, 'units_l9': 32, 'activation_l9': 'elu', 'dropout_l9': 0.35741131252317887, 'batchnorm_l9': False, 'units_l10': 256, 'activation_l10': 'elu', 'dropout_l10': 0.5771434839294078, 'batchnorm_l10': True, 'units_l11': 32, 'activation_l11': 'selu', 'dropout_l11': 0.018983569890664687, 'batchnorm_l11': True, 'optimizer': 'adamw', 'lr': 0.00024786358980917575, 'loss': 'sparse_categorical_crossentropy', 'batch_size': 32}. Best is trial 22 with value: 0.5937385360399882.\n",
      "D:\\Python\\Lib\\site-packages\\keras\\src\\layers\\core\\dense.py:92: UserWarning: Do not pass an `input_shape`/`input_dim` argument to a layer. When using Sequential models, prefer using an `Input(shape)` object as the first layer in the model instead.\n",
      "  super().__init__(activity_regularizer=activity_regularizer, **kwargs)\n",
      "[I 2025-09-06 05:12:53,148] Trial 41 finished with value: 0.4576902786890666 and parameters: {'n_layers': 7, 'units_l0': 32, 'activation_l0': 'relu', 'dropout_l0': 0.38321000151756834, 'batchnorm_l0': False, 'l1_reg': 5.497382453424518e-06, 'l2_reg': 0.002444225472455102, 'units_l1': 1024, 'activation_l1': 'selu', 'dropout_l1': 0.2255466146220858, 'batchnorm_l1': True, 'units_l2': 64, 'activation_l2': 'gelu', 'dropout_l2': 0.14070587861676245, 'batchnorm_l2': True, 'units_l3': 16, 'activation_l3': 'relu', 'dropout_l3': 0.04996412311992415, 'batchnorm_l3': False, 'units_l4': 16, 'activation_l4': 'selu', 'dropout_l4': 0.34963203761191497, 'batchnorm_l4': True, 'units_l5': 256, 'activation_l5': 'selu', 'dropout_l5': 0.5206858244875647, 'batchnorm_l5': False, 'units_l6': 32, 'activation_l6': 'relu', 'dropout_l6': 0.5904372230523657, 'batchnorm_l6': True, 'optimizer': 'adam', 'lr': 0.0008925067828034701, 'loss': 'sparse_categorical_crossentropy', 'batch_size': 128}. Best is trial 22 with value: 0.5937385360399882.\n",
      "D:\\Python\\Lib\\site-packages\\keras\\src\\layers\\core\\dense.py:92: UserWarning: Do not pass an `input_shape`/`input_dim` argument to a layer. When using Sequential models, prefer using an `Input(shape)` object as the first layer in the model instead.\n",
      "  super().__init__(activity_regularizer=activity_regularizer, **kwargs)\n",
      "[I 2025-09-06 05:18:50,461] Trial 42 finished with value: 0.5019718607266744 and parameters: {'n_layers': 10, 'units_l0': 32, 'activation_l0': 'relu', 'dropout_l0': 0.15685431440189332, 'batchnorm_l0': False, 'l1_reg': 6.873550849665546e-06, 'l2_reg': 0.0015276365456624447, 'units_l1': 1024, 'activation_l1': 'selu', 'dropout_l1': 0.2796403146430561, 'batchnorm_l1': True, 'units_l2': 64, 'activation_l2': 'gelu', 'dropout_l2': 0.11918656136964392, 'batchnorm_l2': True, 'units_l3': 16, 'activation_l3': 'relu', 'dropout_l3': 0.15736351871626902, 'batchnorm_l3': False, 'units_l4': 16, 'activation_l4': 'selu', 'dropout_l4': 0.4394041890297809, 'batchnorm_l4': True, 'units_l5': 256, 'activation_l5': 'selu', 'dropout_l5': 0.26876522757568233, 'batchnorm_l5': False, 'units_l6': 64, 'activation_l6': 'tanh', 'dropout_l6': 0.26604045943775145, 'batchnorm_l6': False, 'units_l7': 32, 'activation_l7': 'swish', 'dropout_l7': 0.21144400520836726, 'batchnorm_l7': True, 'units_l8': 32, 'activation_l8': 'selu', 'dropout_l8': 0.07783156297466248, 'batchnorm_l8': False, 'units_l9': 512, 'activation_l9': 'selu', 'dropout_l9': 0.12385842659784405, 'batchnorm_l9': True, 'optimizer': 'adam', 'lr': 0.000505541767751522, 'loss': 'sparse_categorical_crossentropy', 'batch_size': 128}. Best is trial 22 with value: 0.5937385360399882.\n",
      "D:\\Python\\Lib\\site-packages\\keras\\src\\layers\\core\\dense.py:92: UserWarning: Do not pass an `input_shape`/`input_dim` argument to a layer. When using Sequential models, prefer using an `Input(shape)` object as the first layer in the model instead.\n",
      "  super().__init__(activity_regularizer=activity_regularizer, **kwargs)\n",
      "[I 2025-09-06 05:26:04,864] Trial 43 finished with value: 0.5640814503033956 and parameters: {'n_layers': 5, 'units_l0': 32, 'activation_l0': 'relu', 'dropout_l0': 0.3149831180364429, 'batchnorm_l0': False, 'l1_reg': 2.341328671763259e-06, 'l2_reg': 0.00044110301427774824, 'units_l1': 1024, 'activation_l1': 'selu', 'dropout_l1': 0.21252682259095818, 'batchnorm_l1': False, 'units_l2': 1024, 'activation_l2': 'gelu', 'dropout_l2': 0.043360275641611004, 'batchnorm_l2': True, 'units_l3': 16, 'activation_l3': 'relu', 'dropout_l3': 0.10079416933797643, 'batchnorm_l3': False, 'units_l4': 16, 'activation_l4': 'selu', 'dropout_l4': 0.21077383313865058, 'batchnorm_l4': True, 'optimizer': 'adam', 'lr': 0.0012039947002063535, 'loss': 'sparse_categorical_crossentropy', 'batch_size': 128}. Best is trial 22 with value: 0.5937385360399882.\n",
      "D:\\Python\\Lib\\site-packages\\keras\\src\\layers\\core\\dense.py:92: UserWarning: Do not pass an `input_shape`/`input_dim` argument to a layer. When using Sequential models, prefer using an `Input(shape)` object as the first layer in the model instead.\n",
      "  super().__init__(activity_regularizer=activity_regularizer, **kwargs)\n",
      "[I 2025-09-06 05:31:39,148] Trial 44 finished with value: 0.5750078360239664 and parameters: {'n_layers': 6, 'units_l0': 32, 'activation_l0': 'tanh', 'dropout_l0': 0.31468041473909714, 'batchnorm_l0': False, 'l1_reg': 2.340952342980418e-06, 'l2_reg': 0.00046069035435263267, 'units_l1': 16, 'activation_l1': 'relu', 'dropout_l1': 0.05632341739344793, 'batchnorm_l1': False, 'units_l2': 1024, 'activation_l2': 'tanh', 'dropout_l2': 0.03687339786764532, 'batchnorm_l2': True, 'units_l3': 16, 'activation_l3': 'relu', 'dropout_l3': 0.09761135877569374, 'batchnorm_l3': False, 'units_l4': 16, 'activation_l4': 'selu', 'dropout_l4': 0.2076541043028214, 'batchnorm_l4': True, 'units_l5': 256, 'activation_l5': 'selu', 'dropout_l5': 0.4207449109377347, 'batchnorm_l5': True, 'optimizer': 'adam', 'lr': 0.0016952248590443254, 'loss': 'sparse_categorical_crossentropy', 'batch_size': 128}. Best is trial 22 with value: 0.5937385360399882.\n",
      "D:\\Python\\Lib\\site-packages\\keras\\src\\layers\\core\\dense.py:92: UserWarning: Do not pass an `input_shape`/`input_dim` argument to a layer. When using Sequential models, prefer using an `Input(shape)` object as the first layer in the model instead.\n",
      "  super().__init__(activity_regularizer=activity_regularizer, **kwargs)\n",
      "[I 2025-09-06 05:41:20,421] Trial 45 finished with value: 0.7051425774892172 and parameters: {'n_layers': 6, 'units_l0': 1024, 'activation_l0': 'tanh', 'dropout_l0': 0.31420856738129394, 'batchnorm_l0': False, 'l1_reg': 2.4182732856153764e-06, 'l2_reg': 0.0004078830247027843, 'units_l1': 16, 'activation_l1': 'relu', 'dropout_l1': 0.019973615316739565, 'batchnorm_l1': False, 'units_l2': 1024, 'activation_l2': 'tanh', 'dropout_l2': 0.039535593994062, 'batchnorm_l2': True, 'units_l3': 1024, 'activation_l3': 'elu', 'dropout_l3': 0.08147802158474643, 'batchnorm_l3': False, 'units_l4': 16, 'activation_l4': 'elu', 'dropout_l4': 0.21771300648140748, 'batchnorm_l4': True, 'units_l5': 16, 'activation_l5': 'leaky_relu', 'dropout_l5': 0.31119721598277733, 'batchnorm_l5': True, 'optimizer': 'adam', 'lr': 0.002070693524166133, 'loss': 'sparse_categorical_crossentropy', 'batch_size': 128}. Best is trial 45 with value: 0.7051425774892172.\n",
      "D:\\Python\\Lib\\site-packages\\keras\\src\\layers\\core\\dense.py:92: UserWarning: Do not pass an `input_shape`/`input_dim` argument to a layer. When using Sequential models, prefer using an `Input(shape)` object as the first layer in the model instead.\n",
      "  super().__init__(activity_regularizer=activity_regularizer, **kwargs)\n",
      "[I 2025-09-06 05:46:51,548] Trial 46 finished with value: 0.5371316075325012 and parameters: {'n_layers': 6, 'units_l0': 1024, 'activation_l0': 'tanh', 'dropout_l0': 0.28778426721874545, 'batchnorm_l0': False, 'l1_reg': 9.010144446775005e-07, 'l2_reg': 0.0005195904974824533, 'units_l1': 16, 'activation_l1': 'relu', 'dropout_l1': 0.011027450748893167, 'batchnorm_l1': False, 'units_l2': 1024, 'activation_l2': 'tanh', 'dropout_l2': 0.03862445070258053, 'batchnorm_l2': True, 'units_l3': 1024, 'activation_l3': 'elu', 'dropout_l3': 0.07304804402779487, 'batchnorm_l3': False, 'units_l4': 16, 'activation_l4': 'elu', 'dropout_l4': 0.22690385455135717, 'batchnorm_l4': True, 'units_l5': 16, 'activation_l5': 'leaky_relu', 'dropout_l5': 0.3207202958754556, 'batchnorm_l5': True, 'optimizer': 'adam', 'lr': 0.008096038052684723, 'loss': 'focal_loss', 'batch_size': 128}. Best is trial 45 with value: 0.7051425774892172.\n",
      "D:\\Python\\Lib\\site-packages\\keras\\src\\layers\\core\\dense.py:92: UserWarning: Do not pass an `input_shape`/`input_dim` argument to a layer. When using Sequential models, prefer using an `Input(shape)` object as the first layer in the model instead.\n",
      "  super().__init__(activity_regularizer=activity_regularizer, **kwargs)\n",
      "[I 2025-09-06 05:58:32,840] Trial 47 finished with value: 0.668994665145874 and parameters: {'n_layers': 7, 'units_l0': 1024, 'activation_l0': 'tanh', 'dropout_l0': 0.3254662471304775, 'batchnorm_l0': True, 'l1_reg': 2.7163792144567034e-06, 'l2_reg': 2.507716625937617e-07, 'units_l1': 16, 'activation_l1': 'relu', 'dropout_l1': 0.0746423263220997, 'batchnorm_l1': False, 'units_l2': 1024, 'activation_l2': 'tanh', 'dropout_l2': 0.031646613014964194, 'batchnorm_l2': True, 'units_l3': 1024, 'activation_l3': 'elu', 'dropout_l3': 0.18355974713158407, 'batchnorm_l3': False, 'units_l4': 16, 'activation_l4': 'elu', 'dropout_l4': 0.18756370690442373, 'batchnorm_l4': True, 'units_l5': 16, 'activation_l5': 'leaky_relu', 'dropout_l5': 0.2064573658688458, 'batchnorm_l5': True, 'units_l6': 256, 'activation_l6': 'leaky_relu', 'dropout_l6': 0.349339269511708, 'batchnorm_l6': False, 'optimizer': 'adam', 'lr': 0.0022832346102206595, 'loss': 'sparse_categorical_crossentropy', 'batch_size': 128}. Best is trial 45 with value: 0.7051425774892172.\n",
      "D:\\Python\\Lib\\site-packages\\keras\\src\\layers\\core\\dense.py:92: UserWarning: Do not pass an `input_shape`/`input_dim` argument to a layer. When using Sequential models, prefer using an `Input(shape)` object as the first layer in the model instead.\n",
      "  super().__init__(activity_regularizer=activity_regularizer, **kwargs)\n",
      "[I 2025-09-06 06:26:26,174] Trial 48 finished with value: 0.6729378898938497 and parameters: {'n_layers': 7, 'units_l0': 1024, 'activation_l0': 'tanh', 'dropout_l0': 0.2537637779955246, 'batchnorm_l0': True, 'l1_reg': 2.3125168008729444e-06, 'l2_reg': 5.049563332530165e-08, 'units_l1': 16, 'activation_l1': 'relu', 'dropout_l1': 0.053640151316062576, 'batchnorm_l1': False, 'units_l2': 1024, 'activation_l2': 'tanh', 'dropout_l2': 0.012502216454702956, 'batchnorm_l2': True, 'units_l3': 1024, 'activation_l3': 'elu', 'dropout_l3': 0.18001033870577, 'batchnorm_l3': False, 'units_l4': 16, 'activation_l4': 'elu', 'dropout_l4': 0.2798153127330062, 'batchnorm_l4': True, 'units_l5': 16, 'activation_l5': 'leaky_relu', 'dropout_l5': 0.19736195310320465, 'batchnorm_l5': True, 'units_l6': 256, 'activation_l6': 'leaky_relu', 'dropout_l6': 0.34698091126818753, 'batchnorm_l6': False, 'optimizer': 'adam', 'lr': 0.0025658183107976347, 'loss': 'sparse_categorical_crossentropy', 'batch_size': 32}. Best is trial 45 with value: 0.7051425774892172.\n",
      "D:\\Python\\Lib\\site-packages\\keras\\src\\layers\\core\\dense.py:92: UserWarning: Do not pass an `input_shape`/`input_dim` argument to a layer. When using Sequential models, prefer using an `Input(shape)` object as the first layer in the model instead.\n",
      "  super().__init__(activity_regularizer=activity_regularizer, **kwargs)\n",
      "[I 2025-09-06 06:56:21,379] Trial 49 finished with value: 0.6939678192138672 and parameters: {'n_layers': 7, 'units_l0': 1024, 'activation_l0': 'tanh', 'dropout_l0': 0.42994244241293894, 'batchnorm_l0': True, 'l1_reg': 2.1055702025877557e-06, 'l2_reg': 5.917700576725982e-08, 'units_l1': 16, 'activation_l1': 'relu', 'dropout_l1': 0.04240534317249816, 'batchnorm_l1': False, 'units_l2': 1024, 'activation_l2': 'tanh', 'dropout_l2': 0.0037820985674009294, 'batchnorm_l2': True, 'units_l3': 1024, 'activation_l3': 'elu', 'dropout_l3': 0.17852116732887433, 'batchnorm_l3': False, 'units_l4': 128, 'activation_l4': 'elu', 'dropout_l4': 0.275523005837955, 'batchnorm_l4': True, 'units_l5': 16, 'activation_l5': 'leaky_relu', 'dropout_l5': 0.19723877195669212, 'batchnorm_l5': True, 'units_l6': 256, 'activation_l6': 'leaky_relu', 'dropout_l6': 0.46156727445287704, 'batchnorm_l6': False, 'optimizer': 'adamw', 'lr': 0.002746184009330732, 'loss': 'sparse_categorical_crossentropy', 'batch_size': 32}. Best is trial 45 with value: 0.7051425774892172.\n",
      "D:\\Python\\Lib\\site-packages\\keras\\src\\layers\\core\\dense.py:92: UserWarning: Do not pass an `input_shape`/`input_dim` argument to a layer. When using Sequential models, prefer using an `Input(shape)` object as the first layer in the model instead.\n",
      "  super().__init__(activity_regularizer=activity_regularizer, **kwargs)\n",
      "[I 2025-09-06 07:11:20,623] Trial 50 finished with value: 0.5123229920864105 and parameters: {'n_layers': 7, 'units_l0': 1024, 'activation_l0': 'tanh', 'dropout_l0': 0.4420255851961518, 'batchnorm_l0': True, 'l1_reg': 1.1555280610068466e-06, 'l2_reg': 5.162603967194015e-08, 'units_l1': 16, 'activation_l1': 'relu', 'dropout_l1': 0.04322118748923489, 'batchnorm_l1': False, 'units_l2': 1024, 'activation_l2': 'tanh', 'dropout_l2': 0.00718801573359237, 'batchnorm_l2': True, 'units_l3': 1024, 'activation_l3': 'elu', 'dropout_l3': 0.17865611078666951, 'batchnorm_l3': True, 'units_l4': 128, 'activation_l4': 'elu', 'dropout_l4': 0.2698715045186242, 'batchnorm_l4': True, 'units_l5': 16, 'activation_l5': 'leaky_relu', 'dropout_l5': 0.19277400078312582, 'batchnorm_l5': True, 'units_l6': 256, 'activation_l6': 'leaky_relu', 'dropout_l6': 0.46054308177121134, 'batchnorm_l6': False, 'optimizer': 'adamw', 'lr': 0.016480694130943527, 'loss': 'focal_loss', 'batch_size': 32}. Best is trial 45 with value: 0.7051425774892172.\n",
      "D:\\Python\\Lib\\site-packages\\keras\\src\\layers\\core\\dense.py:92: UserWarning: Do not pass an `input_shape`/`input_dim` argument to a layer. When using Sequential models, prefer using an `Input(shape)` object as the first layer in the model instead.\n",
      "  super().__init__(activity_regularizer=activity_regularizer, **kwargs)\n",
      "[I 2025-09-06 07:43:49,058] Trial 51 finished with value: 0.7105655868848165 and parameters: {'n_layers': 6, 'units_l0': 1024, 'activation_l0': 'tanh', 'dropout_l0': 0.25895956883336274, 'batchnorm_l0': True, 'l1_reg': 2.235179225745726e-06, 'l2_reg': 2.4946235611956133e-07, 'units_l1': 16, 'activation_l1': 'relu', 'dropout_l1': 0.0633794022192639, 'batchnorm_l1': False, 'units_l2': 1024, 'activation_l2': 'tanh', 'dropout_l2': 0.048546806767898014, 'batchnorm_l2': True, 'units_l3': 1024, 'activation_l3': 'elu', 'dropout_l3': 0.2539003389112005, 'batchnorm_l3': False, 'units_l4': 128, 'activation_l4': 'elu', 'dropout_l4': 0.27800626185305805, 'batchnorm_l4': True, 'units_l5': 16, 'activation_l5': 'leaky_relu', 'dropout_l5': 0.11592472187746714, 'batchnorm_l5': True, 'optimizer': 'adamw', 'lr': 0.0025072169997948195, 'loss': 'sparse_categorical_crossentropy', 'batch_size': 32}. Best is trial 51 with value: 0.7105655868848165.\n",
      "D:\\Python\\Lib\\site-packages\\keras\\src\\layers\\core\\dense.py:92: UserWarning: Do not pass an `input_shape`/`input_dim` argument to a layer. When using Sequential models, prefer using an `Input(shape)` object as the first layer in the model instead.\n",
      "  super().__init__(activity_regularizer=activity_regularizer, **kwargs)\n",
      "[I 2025-09-06 08:08:10,341] Trial 52 finished with value: 0.6496062278747559 and parameters: {'n_layers': 7, 'units_l0': 1024, 'activation_l0': 'tanh', 'dropout_l0': 0.26630094619621925, 'batchnorm_l0': True, 'l1_reg': 2.5826669631826986e-06, 'l2_reg': 1.851005408266284e-07, 'units_l1': 16, 'activation_l1': 'relu', 'dropout_l1': 0.08350821710785916, 'batchnorm_l1': False, 'units_l2': 1024, 'activation_l2': 'tanh', 'dropout_l2': 0.06011181466927397, 'batchnorm_l2': True, 'units_l3': 1024, 'activation_l3': 'elu', 'dropout_l3': 0.26212201141918745, 'batchnorm_l3': False, 'units_l4': 128, 'activation_l4': 'elu', 'dropout_l4': 0.3520911741474183, 'batchnorm_l4': True, 'units_l5': 16, 'activation_l5': 'leaky_relu', 'dropout_l5': 0.10684923796890576, 'batchnorm_l5': True, 'units_l6': 256, 'activation_l6': 'leaky_relu', 'dropout_l6': 0.2877966643653947, 'batchnorm_l6': False, 'optimizer': 'adamw', 'lr': 0.0030675389983219744, 'loss': 'sparse_categorical_crossentropy', 'batch_size': 32}. Best is trial 51 with value: 0.7105655868848165.\n",
      "D:\\Python\\Lib\\site-packages\\keras\\src\\layers\\core\\dense.py:92: UserWarning: Do not pass an `input_shape`/`input_dim` argument to a layer. When using Sequential models, prefer using an `Input(shape)` object as the first layer in the model instead.\n",
      "  super().__init__(activity_regularizer=activity_regularizer, **kwargs)\n",
      "[I 2025-09-06 08:32:32,036] Trial 53 finished with value: 0.6631623109181722 and parameters: {'n_layers': 7, 'units_l0': 1024, 'activation_l0': 'tanh', 'dropout_l0': 0.25604799090880365, 'batchnorm_l0': True, 'l1_reg': 2.4411505549053673e-06, 'l2_reg': 2.64972710802624e-07, 'units_l1': 16, 'activation_l1': 'relu', 'dropout_l1': 0.07497751781526552, 'batchnorm_l1': False, 'units_l2': 1024, 'activation_l2': 'tanh', 'dropout_l2': 0.05953453281861579, 'batchnorm_l2': True, 'units_l3': 1024, 'activation_l3': 'elu', 'dropout_l3': 0.25542972138442693, 'batchnorm_l3': False, 'units_l4': 128, 'activation_l4': 'elu', 'dropout_l4': 0.33968949804614756, 'batchnorm_l4': True, 'units_l5': 16, 'activation_l5': 'leaky_relu', 'dropout_l5': 0.09627432925672501, 'batchnorm_l5': True, 'units_l6': 256, 'activation_l6': 'leaky_relu', 'dropout_l6': 0.28258475594364946, 'batchnorm_l6': False, 'optimizer': 'adamw', 'lr': 0.002886152285394057, 'loss': 'sparse_categorical_crossentropy', 'batch_size': 32}. Best is trial 51 with value: 0.7105655868848165.\n",
      "D:\\Python\\Lib\\site-packages\\keras\\src\\layers\\core\\dense.py:92: UserWarning: Do not pass an `input_shape`/`input_dim` argument to a layer. When using Sequential models, prefer using an `Input(shape)` object as the first layer in the model instead.\n",
      "  super().__init__(activity_regularizer=activity_regularizer, **kwargs)\n",
      "[I 2025-09-06 08:55:51,947] Trial 54 finished with value: 0.6534643769264221 and parameters: {'n_layers': 8, 'units_l0': 1024, 'activation_l0': 'tanh', 'dropout_l0': 0.2424945000681341, 'batchnorm_l0': True, 'l1_reg': 8.62899877504178e-07, 'l2_reg': 1.0921664078471312e-08, 'units_l1': 16, 'activation_l1': 'relu', 'dropout_l1': 0.00016313031038255044, 'batchnorm_l1': False, 'units_l2': 1024, 'activation_l2': 'tanh', 'dropout_l2': 0.02351780875385258, 'batchnorm_l2': True, 'units_l3': 1024, 'activation_l3': 'elu', 'dropout_l3': 0.3394221002675042, 'batchnorm_l3': False, 'units_l4': 128, 'activation_l4': 'elu', 'dropout_l4': 0.26353102406994555, 'batchnorm_l4': True, 'units_l5': 16, 'activation_l5': 'leaky_relu', 'dropout_l5': 0.18215570486466845, 'batchnorm_l5': True, 'units_l6': 256, 'activation_l6': 'leaky_relu', 'dropout_l6': 0.35331354904489826, 'batchnorm_l6': False, 'units_l7': 512, 'activation_l7': 'leaky_relu', 'dropout_l7': 0.5774022705095923, 'batchnorm_l7': False, 'optimizer': 'adamw', 'lr': 0.005671085954858863, 'loss': 'sparse_categorical_crossentropy', 'batch_size': 32}. Best is trial 51 with value: 0.7105655868848165.\n",
      "D:\\Python\\Lib\\site-packages\\keras\\src\\layers\\core\\dense.py:92: UserWarning: Do not pass an `input_shape`/`input_dim` argument to a layer. When using Sequential models, prefer using an `Input(shape)` object as the first layer in the model instead.\n",
      "  super().__init__(activity_regularizer=activity_regularizer, **kwargs)\n",
      "[I 2025-09-06 09:28:34,328] Trial 55 finished with value: 0.6203582882881165 and parameters: {'n_layers': 8, 'units_l0': 1024, 'activation_l0': 'tanh', 'dropout_l0': 0.4148617635255133, 'batchnorm_l0': True, 'l1_reg': 2.07453063249838e-05, 'l2_reg': 4.1885506880450404e-07, 'units_l1': 16, 'activation_l1': 'relu', 'dropout_l1': 0.07009476828711197, 'batchnorm_l1': False, 'units_l2': 1024, 'activation_l2': 'tanh', 'dropout_l2': 0.005855667689406041, 'batchnorm_l2': True, 'units_l3': 1024, 'activation_l3': 'elu', 'dropout_l3': 0.20625349881454258, 'batchnorm_l3': False, 'units_l4': 128, 'activation_l4': 'elu', 'dropout_l4': 0.29051920709770235, 'batchnorm_l4': True, 'units_l5': 16, 'activation_l5': 'leaky_relu', 'dropout_l5': 0.0763317037387254, 'batchnorm_l5': True, 'units_l6': 256, 'activation_l6': 'leaky_relu', 'dropout_l6': 0.4284410267572767, 'batchnorm_l6': False, 'units_l7': 1024, 'activation_l7': 'relu', 'dropout_l7': 0.4860755662251831, 'batchnorm_l7': False, 'optimizer': 'adamw', 'lr': 0.0021441791861388734, 'loss': 'sparse_categorical_crossentropy', 'batch_size': 32}. Best is trial 51 with value: 0.7105655868848165.\n",
      "D:\\Python\\Lib\\site-packages\\keras\\src\\layers\\core\\dense.py:92: UserWarning: Do not pass an `input_shape`/`input_dim` argument to a layer. When using Sequential models, prefer using an `Input(shape)` object as the first layer in the model instead.\n",
      "  super().__init__(activity_regularizer=activity_regularizer, **kwargs)\n",
      "[I 2025-09-06 09:48:56,090] Trial 56 finished with value: 0.614935557047526 and parameters: {'n_layers': 6, 'units_l0': 1024, 'activation_l0': 'tanh', 'dropout_l0': 0.20743431903432374, 'batchnorm_l0': True, 'l1_reg': 1.76189026527804e-06, 'l2_reg': 7.237961794513494e-08, 'units_l1': 16, 'activation_l1': 'relu', 'dropout_l1': 0.11557954703843551, 'batchnorm_l1': False, 'units_l2': 1024, 'activation_l2': 'tanh', 'dropout_l2': 0.059878722601511135, 'batchnorm_l2': True, 'units_l3': 1024, 'activation_l3': 'elu', 'dropout_l3': 0.22165581381920432, 'batchnorm_l3': False, 'units_l4': 128, 'activation_l4': 'elu', 'dropout_l4': 0.3320495406012196, 'batchnorm_l4': False, 'units_l5': 16, 'activation_l5': 'leaky_relu', 'dropout_l5': 0.11718141276352695, 'batchnorm_l5': True, 'optimizer': 'adamw', 'lr': 0.00973126174515447, 'loss': 'sparse_categorical_crossentropy', 'batch_size': 32}. Best is trial 51 with value: 0.7105655868848165.\n",
      "D:\\Python\\Lib\\site-packages\\keras\\src\\layers\\core\\dense.py:92: UserWarning: Do not pass an `input_shape`/`input_dim` argument to a layer. When using Sequential models, prefer using an `Input(shape)` object as the first layer in the model instead.\n",
      "  super().__init__(activity_regularizer=activity_regularizer, **kwargs)\n",
      "[I 2025-09-06 10:10:05,336] Trial 57 finished with value: 0.6574880083401998 and parameters: {'n_layers': 7, 'units_l0': 1024, 'activation_l0': 'tanh', 'dropout_l0': 0.2838302625741526, 'batchnorm_l0': True, 'l1_reg': 5.934363196337983e-07, 'l2_reg': 1.3012614296198446e-06, 'units_l1': 16, 'activation_l1': 'relu', 'dropout_l1': 0.025276192530406336, 'batchnorm_l1': False, 'units_l2': 1024, 'activation_l2': 'tanh', 'dropout_l2': 0.03415410025456721, 'batchnorm_l2': True, 'units_l3': 1024, 'activation_l3': 'elu', 'dropout_l3': 0.33386261965584463, 'batchnorm_l3': False, 'units_l4': 128, 'activation_l4': 'elu', 'dropout_l4': 0.2748865297503095, 'batchnorm_l4': True, 'units_l5': 16, 'activation_l5': 'leaky_relu', 'dropout_l5': 0.2146462421904636, 'batchnorm_l5': True, 'units_l6': 256, 'activation_l6': 'leaky_relu', 'dropout_l6': 0.5173037522383022, 'batchnorm_l6': False, 'optimizer': 'adamw', 'lr': 0.00409583517256442, 'loss': 'sparse_categorical_crossentropy', 'batch_size': 32}. Best is trial 51 with value: 0.7105655868848165.\n",
      "D:\\Python\\Lib\\site-packages\\keras\\src\\layers\\core\\dense.py:92: UserWarning: Do not pass an `input_shape`/`input_dim` argument to a layer. When using Sequential models, prefer using an `Input(shape)` object as the first layer in the model instead.\n",
      "  super().__init__(activity_regularizer=activity_regularizer, **kwargs)\n",
      "[I 2025-09-06 10:50:36,660] Trial 58 finished with value: 0.6392528812090555 and parameters: {'n_layers': 5, 'units_l0': 1024, 'activation_l0': 'tanh', 'dropout_l0': 0.3248917071570142, 'batchnorm_l0': True, 'l1_reg': 3.1061348595089003e-07, 'l2_reg': 5.014554647616934e-07, 'units_l1': 16, 'activation_l1': 'relu', 'dropout_l1': 0.1460472504704149, 'batchnorm_l1': False, 'units_l2': 1024, 'activation_l2': 'tanh', 'dropout_l2': 0.1114752614619012, 'batchnorm_l2': True, 'units_l3': 1024, 'activation_l3': 'elu', 'dropout_l3': 0.16938777000940863, 'batchnorm_l3': True, 'units_l4': 1024, 'activation_l4': 'elu', 'dropout_l4': 0.3056581853572913, 'batchnorm_l4': True, 'optimizer': 'adamw', 'lr': 0.002990718512925948, 'loss': 'sparse_categorical_crossentropy', 'batch_size': 32}. Best is trial 51 with value: 0.7105655868848165.\n",
      "D:\\Python\\Lib\\site-packages\\keras\\src\\layers\\core\\dense.py:92: UserWarning: Do not pass an `input_shape`/`input_dim` argument to a layer. When using Sequential models, prefer using an `Input(shape)` object as the first layer in the model instead.\n",
      "  super().__init__(activity_regularizer=activity_regularizer, **kwargs)\n",
      "[I 2025-09-06 10:53:51,515] Trial 59 finished with value: 0.17178572714328766 and parameters: {'n_layers': 6, 'units_l0': 1024, 'activation_l0': 'tanh', 'dropout_l0': 0.221652726008804, 'batchnorm_l0': True, 'l1_reg': 1.7229032739972868e-06, 'l2_reg': 3.489360705911684e-06, 'units_l1': 16, 'activation_l1': 'gelu', 'dropout_l1': 0.05966875974123027, 'batchnorm_l1': False, 'units_l2': 1024, 'activation_l2': 'tanh', 'dropout_l2': 0.07944378256999986, 'batchnorm_l2': True, 'units_l3': 1024, 'activation_l3': 'elu', 'dropout_l3': 0.25359730750073894, 'batchnorm_l3': False, 'units_l4': 128, 'activation_l4': 'tanh', 'dropout_l4': 0.36551978353980674, 'batchnorm_l4': False, 'units_l5': 16, 'activation_l5': 'leaky_relu', 'dropout_l5': 0.1628241183101077, 'batchnorm_l5': True, 'optimizer': 'adamw', 'lr': 0.04561123094453229, 'loss': 'sparse_categorical_crossentropy', 'batch_size': 32}. Best is trial 51 with value: 0.7105655868848165.\n",
      "D:\\Python\\Lib\\site-packages\\keras\\src\\layers\\core\\dense.py:92: UserWarning: Do not pass an `input_shape`/`input_dim` argument to a layer. When using Sequential models, prefer using an `Input(shape)` object as the first layer in the model instead.\n",
      "  super().__init__(activity_regularizer=activity_regularizer, **kwargs)\n",
      "[I 2025-09-06 11:04:27,514] Trial 60 finished with value: 0.5416525999704996 and parameters: {'n_layers': 8, 'units_l0': 1024, 'activation_l0': 'tanh', 'dropout_l0': 0.40193433067620254, 'batchnorm_l0': True, 'l1_reg': 3.2295970130451253e-06, 'l2_reg': 8.444286640124472e-08, 'units_l1': 16, 'activation_l1': 'relu', 'dropout_l1': 0.09915309326954316, 'batchnorm_l1': False, 'units_l2': 16, 'activation_l2': 'tanh', 'dropout_l2': 0.022829666390529767, 'batchnorm_l2': True, 'units_l3': 1024, 'activation_l3': 'elu', 'dropout_l3': 0.2757406837952585, 'batchnorm_l3': False, 'units_l4': 256, 'activation_l4': 'relu', 'dropout_l4': 0.13150031899210882, 'batchnorm_l4': True, 'units_l5': 16, 'activation_l5': 'gelu', 'dropout_l5': 0.02557791666522731, 'batchnorm_l5': True, 'units_l6': 256, 'activation_l6': 'leaky_relu', 'dropout_l6': 0.3179882411554137, 'batchnorm_l6': False, 'units_l7': 64, 'activation_l7': 'leaky_relu', 'dropout_l7': 0.32112441473451336, 'batchnorm_l7': False, 'optimizer': 'adamw', 'lr': 0.0055047231168222, 'loss': 'sparse_categorical_crossentropy', 'batch_size': 32}. Best is trial 51 with value: 0.7105655868848165.\n",
      "D:\\Python\\Lib\\site-packages\\keras\\src\\layers\\core\\dense.py:92: UserWarning: Do not pass an `input_shape`/`input_dim` argument to a layer. When using Sequential models, prefer using an `Input(shape)` object as the first layer in the model instead.\n",
      "  super().__init__(activity_regularizer=activity_regularizer, **kwargs)\n",
      "[I 2025-09-06 11:27:17,648] Trial 61 finished with value: 0.6720344225565592 and parameters: {'n_layers': 7, 'units_l0': 1024, 'activation_l0': 'tanh', 'dropout_l0': 0.278756677862621, 'batchnorm_l0': True, 'l1_reg': 6.595030444766181e-07, 'l2_reg': 1.5121128554153134e-06, 'units_l1': 16, 'activation_l1': 'relu', 'dropout_l1': 0.024397281179896757, 'batchnorm_l1': False, 'units_l2': 1024, 'activation_l2': 'tanh', 'dropout_l2': 0.05056251252508712, 'batchnorm_l2': True, 'units_l3': 1024, 'activation_l3': 'elu', 'dropout_l3': 0.34234826210137703, 'batchnorm_l3': False, 'units_l4': 128, 'activation_l4': 'elu', 'dropout_l4': 0.27376975944856613, 'batchnorm_l4': True, 'units_l5': 16, 'activation_l5': 'leaky_relu', 'dropout_l5': 0.22185067774830017, 'batchnorm_l5': True, 'units_l6': 256, 'activation_l6': 'leaky_relu', 'dropout_l6': 0.5210398618461082, 'batchnorm_l6': False, 'optimizer': 'adamw', 'lr': 0.0045006128184981, 'loss': 'sparse_categorical_crossentropy', 'batch_size': 32}. Best is trial 51 with value: 0.7105655868848165.\n",
      "D:\\Python\\Lib\\site-packages\\keras\\src\\layers\\core\\dense.py:92: UserWarning: Do not pass an `input_shape`/`input_dim` argument to a layer. When using Sequential models, prefer using an `Input(shape)` object as the first layer in the model instead.\n",
      "  super().__init__(activity_regularizer=activity_regularizer, **kwargs)\n",
      "[I 2025-09-06 11:44:41,987] Trial 62 finished with value: 0.571149468421936 and parameters: {'n_layers': 7, 'units_l0': 1024, 'activation_l0': 'tanh', 'dropout_l0': 0.18767651911787173, 'batchnorm_l0': True, 'l1_reg': 8.196633501203608e-07, 'l2_reg': 1.6829794307219764e-07, 'units_l1': 16, 'activation_l1': 'relu', 'dropout_l1': 0.03683123282828449, 'batchnorm_l1': False, 'units_l2': 1024, 'activation_l2': 'tanh', 'dropout_l2': 0.0439504339606646, 'batchnorm_l2': True, 'units_l3': 1024, 'activation_l3': 'elu', 'dropout_l3': 0.34112296072696263, 'batchnorm_l3': False, 'units_l4': 128, 'activation_l4': 'elu', 'dropout_l4': 0.25394285894307034, 'batchnorm_l4': True, 'units_l5': 16, 'activation_l5': 'leaky_relu', 'dropout_l5': 0.22338332375425754, 'batchnorm_l5': True, 'units_l6': 256, 'activation_l6': 'leaky_relu', 'dropout_l6': 0.5331025216687072, 'batchnorm_l6': False, 'optimizer': 'adamw', 'lr': 0.015353804082764157, 'loss': 'sparse_categorical_crossentropy', 'batch_size': 32}. Best is trial 51 with value: 0.7105655868848165.\n",
      "D:\\Python\\Lib\\site-packages\\keras\\src\\layers\\core\\dense.py:92: UserWarning: Do not pass an `input_shape`/`input_dim` argument to a layer. When using Sequential models, prefer using an `Input(shape)` object as the first layer in the model instead.\n",
      "  super().__init__(activity_regularizer=activity_regularizer, **kwargs)\n",
      "[I 2025-09-06 11:57:59,601] Trial 63 finished with value: 0.6514962116877238 and parameters: {'n_layers': 6, 'units_l0': 1024, 'activation_l0': 'tanh', 'dropout_l0': 0.2550739850750048, 'batchnorm_l0': True, 'l1_reg': 1.194678274847417e-06, 'l2_reg': 2.2685606882949188e-08, 'units_l1': 16, 'activation_l1': 'relu', 'dropout_l1': 0.07395179226021144, 'batchnorm_l1': False, 'units_l2': 1024, 'activation_l2': 'tanh', 'dropout_l2': 0.06432950018594671, 'batchnorm_l2': True, 'units_l3': 64, 'activation_l3': 'leaky_relu', 'dropout_l3': 0.15151099132183307, 'batchnorm_l3': False, 'units_l4': 128, 'activation_l4': 'elu', 'dropout_l4': 0.32801211394521795, 'batchnorm_l4': True, 'units_l5': 16, 'activation_l5': 'leaky_relu', 'dropout_l5': 0.09127116297230417, 'batchnorm_l5': True, 'optimizer': 'adamw', 'lr': 0.004357784325501318, 'loss': 'sparse_categorical_crossentropy', 'batch_size': 32}. Best is trial 51 with value: 0.7105655868848165.\n",
      "D:\\Python\\Lib\\site-packages\\keras\\src\\layers\\core\\dense.py:92: UserWarning: Do not pass an `input_shape`/`input_dim` argument to a layer. When using Sequential models, prefer using an `Input(shape)` object as the first layer in the model instead.\n",
      "  super().__init__(activity_regularizer=activity_regularizer, **kwargs)\n",
      "[I 2025-09-06 12:25:37,645] Trial 64 finished with value: 0.6493574976921082 and parameters: {'n_layers': 7, 'units_l0': 1024, 'activation_l0': 'elu', 'dropout_l0': 0.33011454316098865, 'batchnorm_l0': True, 'l1_reg': 4.543534432502455e-06, 'l2_reg': 6.972091654895233e-07, 'units_l1': 16, 'activation_l1': 'relu', 'dropout_l1': 0.022516317217716835, 'batchnorm_l1': False, 'units_l2': 1024, 'activation_l2': 'tanh', 'dropout_l2': 0.09176991296408225, 'batchnorm_l2': True, 'units_l3': 1024, 'activation_l3': 'elu', 'dropout_l3': 0.19640444300010873, 'batchnorm_l3': False, 'units_l4': 32, 'activation_l4': 'elu', 'dropout_l4': 0.2869341425932999, 'batchnorm_l4': True, 'units_l5': 16, 'activation_l5': 'leaky_relu', 'dropout_l5': 0.2895981603517345, 'batchnorm_l5': True, 'units_l6': 256, 'activation_l6': 'leaky_relu', 'dropout_l6': 0.24976632389514755, 'batchnorm_l6': False, 'optimizer': 'adamw', 'lr': 0.008177776917176577, 'loss': 'sparse_categorical_crossentropy', 'batch_size': 32}. Best is trial 51 with value: 0.7105655868848165.\n",
      "D:\\Python\\Lib\\site-packages\\keras\\src\\layers\\core\\dense.py:92: UserWarning: Do not pass an `input_shape`/`input_dim` argument to a layer. When using Sequential models, prefer using an `Input(shape)` object as the first layer in the model instead.\n",
      "  super().__init__(activity_regularizer=activity_regularizer, **kwargs)\n",
      "[I 2025-09-06 12:39:52,946] Trial 65 finished with value: 0.7325008908907572 and parameters: {'n_layers': 6, 'units_l0': 1024, 'activation_l0': 'tanh', 'dropout_l0': 0.2948587059470727, 'batchnorm_l0': True, 'l1_reg': 2.364860471699336e-06, 'l2_reg': 2.9558846493465184e-07, 'units_l1': 128, 'activation_l1': 'relu', 'dropout_l1': 0.046131391772927736, 'batchnorm_l1': False, 'units_l2': 1024, 'activation_l2': 'tanh', 'dropout_l2': 0.00579573219450665, 'batchnorm_l2': True, 'units_l3': 32, 'activation_l3': 'elu', 'dropout_l3': 0.3152401210780189, 'batchnorm_l3': True, 'units_l4': 512, 'activation_l4': 'leaky_relu', 'dropout_l4': 0.18813724194490697, 'batchnorm_l4': False, 'units_l5': 512, 'activation_l5': 'leaky_relu', 'dropout_l5': 0.13714484100930696, 'batchnorm_l5': True, 'optimizer': 'adamw', 'lr': 0.0023172564729785705, 'loss': 'sparse_categorical_crossentropy', 'batch_size': 32}. Best is trial 65 with value: 0.7325008908907572.\n",
      "D:\\Python\\Lib\\site-packages\\keras\\src\\layers\\core\\dense.py:92: UserWarning: Do not pass an `input_shape`/`input_dim` argument to a layer. When using Sequential models, prefer using an `Input(shape)` object as the first layer in the model instead.\n",
      "  super().__init__(activity_regularizer=activity_regularizer, **kwargs)\n",
      "[I 2025-09-06 12:52:45,125] Trial 66 finished with value: 0.7006252606709799 and parameters: {'n_layers': 5, 'units_l0': 1024, 'activation_l0': 'tanh', 'dropout_l0': 0.2965461285825378, 'batchnorm_l0': True, 'l1_reg': 0.0009818943904398153, 'l2_reg': 1.6688924760557388e-06, 'units_l1': 128, 'activation_l1': 'relu', 'dropout_l1': 0.041554124505386356, 'batchnorm_l1': False, 'units_l2': 1024, 'activation_l2': 'tanh', 'dropout_l2': 0.00134518025384266, 'batchnorm_l2': True, 'units_l3': 32, 'activation_l3': 'swish', 'dropout_l3': 0.3949255762029936, 'batchnorm_l3': True, 'units_l4': 512, 'activation_l4': 'leaky_relu', 'dropout_l4': 0.18769450352065362, 'batchnorm_l4': False, 'optimizer': 'sgd', 'lr': 0.0019948969649622155, 'momentum': 0.7945530041781169, 'loss': 'sparse_categorical_crossentropy', 'batch_size': 64}. Best is trial 65 with value: 0.7325008908907572.\n",
      "D:\\Python\\Lib\\site-packages\\keras\\src\\layers\\core\\dense.py:92: UserWarning: Do not pass an `input_shape`/`input_dim` argument to a layer. When using Sequential models, prefer using an `Input(shape)` object as the first layer in the model instead.\n",
      "  super().__init__(activity_regularizer=activity_regularizer, **kwargs)\n",
      "[I 2025-09-06 12:56:10,206] Trial 67 finished with value: 0.6139474908510844 and parameters: {'n_layers': 5, 'units_l0': 256, 'activation_l0': 'tanh', 'dropout_l0': 0.30124950260086447, 'batchnorm_l0': True, 'l1_reg': 2.2470450564537278e-07, 'l2_reg': 7.287221823445247e-06, 'units_l1': 128, 'activation_l1': 'relu', 'dropout_l1': 0.049444817327857424, 'batchnorm_l1': False, 'units_l2': 512, 'activation_l2': 'elu', 'dropout_l2': 0.0023646155902342, 'batchnorm_l2': True, 'units_l3': 32, 'activation_l3': 'swish', 'dropout_l3': 0.3872481141945276, 'batchnorm_l3': True, 'units_l4': 512, 'activation_l4': 'leaky_relu', 'dropout_l4': 0.14928752705201406, 'batchnorm_l4': False, 'optimizer': 'adamw', 'lr': 0.023648239142855215, 'loss': 'sparse_categorical_crossentropy', 'batch_size': 64}. Best is trial 65 with value: 0.7325008908907572.\n",
      "D:\\Python\\Lib\\site-packages\\keras\\src\\layers\\core\\dense.py:92: UserWarning: Do not pass an `input_shape`/`input_dim` argument to a layer. When using Sequential models, prefer using an `Input(shape)` object as the first layer in the model instead.\n",
      "  super().__init__(activity_regularizer=activity_regularizer, **kwargs)\n",
      "[I 2025-09-06 13:04:05,210] Trial 68 finished with value: 0.4758455455303192 and parameters: {'n_layers': 4, 'units_l0': 16, 'activation_l0': 'gelu', 'dropout_l0': 0.2742987349686031, 'batchnorm_l0': True, 'l1_reg': 0.0005264243206171468, 'l2_reg': 1.674861157951866e-06, 'units_l1': 128, 'activation_l1': 'gelu', 'dropout_l1': 0.0043963187621272395, 'batchnorm_l1': False, 'units_l2': 1024, 'activation_l2': 'tanh', 'dropout_l2': 0.01933819551380761, 'batchnorm_l2': False, 'units_l3': 32, 'activation_l3': 'swish', 'dropout_l3': 0.4500173017581575, 'batchnorm_l3': True, 'optimizer': 'sgd', 'lr': 0.0016758944677030885, 'momentum': 0.7778625709833825, 'loss': 'sparse_categorical_crossentropy', 'batch_size': 64}. Best is trial 65 with value: 0.7325008908907572.\n",
      "D:\\Python\\Lib\\site-packages\\keras\\src\\layers\\core\\dense.py:92: UserWarning: Do not pass an `input_shape`/`input_dim` argument to a layer. When using Sequential models, prefer using an `Input(shape)` object as the first layer in the model instead.\n",
      "  super().__init__(activity_regularizer=activity_regularizer, **kwargs)\n",
      "[I 2025-09-06 13:09:11,101] Trial 69 finished with value: 0.5770617922147115 and parameters: {'n_layers': 6, 'units_l0': 1024, 'activation_l0': 'selu', 'dropout_l0': 0.3703361700503628, 'batchnorm_l0': True, 'l1_reg': 4.127893700561252e-07, 'l2_reg': 1.1853363200031325e-07, 'units_l1': 128, 'activation_l1': 'relu', 'dropout_l1': 0.11613388027154284, 'batchnorm_l1': False, 'units_l2': 16, 'activation_l2': 'leaky_relu', 'dropout_l2': 0.11602146336569805, 'batchnorm_l2': True, 'units_l3': 32, 'activation_l3': 'tanh', 'dropout_l3': 0.32088218580370215, 'batchnorm_l3': True, 'units_l4': 512, 'activation_l4': 'leaky_relu', 'dropout_l4': 0.22183139628967152, 'batchnorm_l4': False, 'units_l5': 512, 'activation_l5': 'relu', 'dropout_l5': 0.14644487693058958, 'batchnorm_l5': True, 'optimizer': 'sgd', 'lr': 0.01226179872649018, 'momentum': 0.8385468177347809, 'loss': 'sparse_categorical_crossentropy', 'batch_size': 64}. Best is trial 65 with value: 0.7325008908907572.\n",
      "D:\\Python\\Lib\\site-packages\\keras\\src\\layers\\core\\dense.py:92: UserWarning: Do not pass an `input_shape`/`input_dim` argument to a layer. When using Sequential models, prefer using an `Input(shape)` object as the first layer in the model instead.\n",
      "  super().__init__(activity_regularizer=activity_regularizer, **kwargs)\n",
      "[I 2025-09-06 13:18:00,953] Trial 70 finished with value: 0.6841918230056763 and parameters: {'n_layers': 5, 'units_l0': 1024, 'activation_l0': 'tanh', 'dropout_l0': 0.297301001041638, 'batchnorm_l0': True, 'l1_reg': 2.3651143008684123e-05, 'l2_reg': 3.616602891117174e-08, 'units_l1': 128, 'activation_l1': 'elu', 'dropout_l1': 0.02844365945950059, 'batchnorm_l1': False, 'units_l2': 1024, 'activation_l2': 'tanh', 'dropout_l2': 0.002138873456516059, 'batchnorm_l2': True, 'units_l3': 32, 'activation_l3': 'selu', 'dropout_l3': 0.3855875831073732, 'batchnorm_l3': True, 'units_l4': 512, 'activation_l4': 'leaky_relu', 'dropout_l4': 0.20434498086650088, 'batchnorm_l4': False, 'optimizer': 'sgd', 'lr': 0.09976251036236215, 'momentum': 0.6382773813078911, 'loss': 'sparse_categorical_crossentropy', 'batch_size': 32}. Best is trial 65 with value: 0.7325008908907572.\n",
      "D:\\Python\\Lib\\site-packages\\keras\\src\\layers\\core\\dense.py:92: UserWarning: Do not pass an `input_shape`/`input_dim` argument to a layer. When using Sequential models, prefer using an `Input(shape)` object as the first layer in the model instead.\n",
      "  super().__init__(activity_regularizer=activity_regularizer, **kwargs)\n",
      "[I 2025-09-06 13:28:25,036] Trial 71 finished with value: 0.6629141569137573 and parameters: {'n_layers': 5, 'units_l0': 1024, 'activation_l0': 'tanh', 'dropout_l0': 0.2350901456267084, 'batchnorm_l0': True, 'l1_reg': 0.0006154193471916833, 'l2_reg': 4.328751219091307e-08, 'units_l1': 128, 'activation_l1': 'elu', 'dropout_l1': 0.03670258600101215, 'batchnorm_l1': False, 'units_l2': 1024, 'activation_l2': 'tanh', 'dropout_l2': 0.004368451857775714, 'batchnorm_l2': True, 'units_l3': 32, 'activation_l3': 'selu', 'dropout_l3': 0.3711435155219334, 'batchnorm_l3': True, 'units_l4': 512, 'activation_l4': 'leaky_relu', 'dropout_l4': 0.1851578449667004, 'batchnorm_l4': False, 'optimizer': 'sgd', 'lr': 0.03787513825933322, 'momentum': 0.6393802841004607, 'loss': 'sparse_categorical_crossentropy', 'batch_size': 32}. Best is trial 65 with value: 0.7325008908907572.\n",
      "D:\\Python\\Lib\\site-packages\\keras\\src\\layers\\core\\dense.py:92: UserWarning: Do not pass an `input_shape`/`input_dim` argument to a layer. When using Sequential models, prefer using an `Input(shape)` object as the first layer in the model instead.\n",
      "  super().__init__(activity_regularizer=activity_regularizer, **kwargs)\n",
      "[I 2025-09-06 13:35:58,854] Trial 72 finished with value: 0.67170649766922 and parameters: {'n_layers': 4, 'units_l0': 1024, 'activation_l0': 'tanh', 'dropout_l0': 0.2972738500811263, 'batchnorm_l0': True, 'l1_reg': 0.00027722286746452234, 'l2_reg': 3.788774473335911e-08, 'units_l1': 128, 'activation_l1': 'elu', 'dropout_l1': 0.020597843573182464, 'batchnorm_l1': False, 'units_l2': 1024, 'activation_l2': 'tanh', 'dropout_l2': 0.04982718225513265, 'batchnorm_l2': True, 'units_l3': 32, 'activation_l3': 'selu', 'dropout_l3': 0.36159502022233186, 'batchnorm_l3': True, 'optimizer': 'sgd', 'lr': 0.06654977488523454, 'momentum': 0.65527395031223, 'loss': 'sparse_categorical_crossentropy', 'batch_size': 32}. Best is trial 65 with value: 0.7325008908907572.\n",
      "D:\\Python\\Lib\\site-packages\\keras\\src\\layers\\core\\dense.py:92: UserWarning: Do not pass an `input_shape`/`input_dim` argument to a layer. When using Sequential models, prefer using an `Input(shape)` object as the first layer in the model instead.\n",
      "  super().__init__(activity_regularizer=activity_regularizer, **kwargs)\n",
      "[I 2025-09-06 13:56:41,033] Trial 73 finished with value: 0.7105636795361837 and parameters: {'n_layers': 6, 'units_l0': 1024, 'activation_l0': 'tanh', 'dropout_l0': 0.3406589673644587, 'batchnorm_l0': True, 'l1_reg': 1.6118127506710386e-06, 'l2_reg': 2.115782082277461e-08, 'units_l1': 128, 'activation_l1': 'tanh', 'dropout_l1': 0.08954470654098214, 'batchnorm_l1': False, 'units_l2': 1024, 'activation_l2': 'tanh', 'dropout_l2': 0.024243059708425038, 'batchnorm_l2': True, 'units_l3': 128, 'activation_l3': 'swish', 'dropout_l3': 0.40082722183446234, 'batchnorm_l3': True, 'units_l4': 512, 'activation_l4': 'leaky_relu', 'dropout_l4': 0.2362687444222039, 'batchnorm_l4': False, 'units_l5': 512, 'activation_l5': 'elu', 'dropout_l5': 0.17225391947267538, 'batchnorm_l5': True, 'optimizer': 'sgd', 'lr': 0.004318573466847625, 'momentum': 0.8632441382223919, 'loss': 'sparse_categorical_crossentropy', 'batch_size': 32}. Best is trial 65 with value: 0.7325008908907572.\n",
      "D:\\Python\\Lib\\site-packages\\keras\\src\\layers\\core\\dense.py:92: UserWarning: Do not pass an `input_shape`/`input_dim` argument to a layer. When using Sequential models, prefer using an `Input(shape)` object as the first layer in the model instead.\n",
      "  super().__init__(activity_regularizer=activity_regularizer, **kwargs)\n",
      "[I 2025-09-06 14:01:45,568] Trial 74 finished with value: 0.21811259786287943 and parameters: {'n_layers': 6, 'units_l0': 128, 'activation_l0': 'tanh', 'dropout_l0': 0.45765256979144814, 'batchnorm_l0': True, 'l1_reg': 8.89441229825282e-05, 'l2_reg': 1.5978455337072363e-08, 'units_l1': 128, 'activation_l1': 'tanh', 'dropout_l1': 0.0853161196212632, 'batchnorm_l1': False, 'units_l2': 128, 'activation_l2': 'tanh', 'dropout_l2': 0.02353516331548168, 'batchnorm_l2': True, 'units_l3': 128, 'activation_l3': 'swish', 'dropout_l3': 0.45435270177529113, 'batchnorm_l3': True, 'units_l4': 512, 'activation_l4': 'leaky_relu', 'dropout_l4': 0.2342677204831863, 'batchnorm_l4': False, 'units_l5': 512, 'activation_l5': 'elu', 'dropout_l5': 0.051423799589490615, 'batchnorm_l5': True, 'optimizer': 'sgd', 'lr': 4.8581001537998915e-06, 'momentum': 0.8578341848513803, 'loss': 'sparse_categorical_crossentropy', 'batch_size': 64}. Best is trial 65 with value: 0.7325008908907572.\n",
      "D:\\Python\\Lib\\site-packages\\keras\\src\\layers\\core\\dense.py:92: UserWarning: Do not pass an `input_shape`/`input_dim` argument to a layer. When using Sequential models, prefer using an `Input(shape)` object as the first layer in the model instead.\n",
      "  super().__init__(activity_regularizer=activity_regularizer, **kwargs)\n",
      "[I 2025-09-06 14:18:44,443] Trial 75 finished with value: 0.5323697924613953 and parameters: {'n_layers': 5, 'units_l0': 1024, 'activation_l0': 'tanh', 'dropout_l0': 0.3366242654876251, 'batchnorm_l0': True, 'l1_reg': 1.6964653433543422e-06, 'l2_reg': 2.6678876939103933e-08, 'units_l1': 128, 'activation_l1': 'tanh', 'dropout_l1': 0.04602085666917141, 'batchnorm_l1': False, 'units_l2': 32, 'activation_l2': 'swish', 'dropout_l2': 0.27879474758138434, 'batchnorm_l2': True, 'units_l3': 128, 'activation_l3': 'swish', 'dropout_l3': 0.4063316461740907, 'batchnorm_l3': True, 'units_l4': 512, 'activation_l4': 'leaky_relu', 'dropout_l4': 0.19918240234903872, 'batchnorm_l4': False, 'optimizer': 'sgd', 'lr': 0.00026013145490298353, 'momentum': 0.8523197881400583, 'loss': 'sparse_categorical_crossentropy', 'batch_size': 32}. Best is trial 65 with value: 0.7325008908907572.\n",
      "D:\\Python\\Lib\\site-packages\\keras\\src\\layers\\core\\dense.py:92: UserWarning: Do not pass an `input_shape`/`input_dim` argument to a layer. When using Sequential models, prefer using an `Input(shape)` object as the first layer in the model instead.\n",
      "  super().__init__(activity_regularizer=activity_regularizer, **kwargs)\n",
      "[I 2025-09-06 14:39:11,938] Trial 76 finished with value: 0.5089558362960815 and parameters: {'n_layers': 6, 'units_l0': 1024, 'activation_l0': 'elu', 'dropout_l0': 0.37995829097037526, 'batchnorm_l0': True, 'l1_reg': 1.8577532008905424e-05, 'l2_reg': 1.1001704226516947e-07, 'units_l1': 256, 'activation_l1': 'elu', 'dropout_l1': 0.13420783261744196, 'batchnorm_l1': False, 'units_l2': 1024, 'activation_l2': 'selu', 'dropout_l2': 0.08398033164357088, 'batchnorm_l2': False, 'units_l3': 32, 'activation_l3': 'swish', 'dropout_l3': 0.5033317629583282, 'batchnorm_l3': True, 'units_l4': 512, 'activation_l4': 'leaky_relu', 'dropout_l4': 0.15535195521751072, 'batchnorm_l4': False, 'units_l5': 512, 'activation_l5': 'elu', 'dropout_l5': 0.17600188386894794, 'batchnorm_l5': True, 'optimizer': 'sgd', 'lr': 0.007027250148339726, 'momentum': 0.7086681792891328, 'loss': 'focal_loss', 'batch_size': 16}. Best is trial 65 with value: 0.7325008908907572.\n",
      "D:\\Python\\Lib\\site-packages\\keras\\src\\layers\\core\\dense.py:92: UserWarning: Do not pass an `input_shape`/`input_dim` argument to a layer. When using Sequential models, prefer using an `Input(shape)` object as the first layer in the model instead.\n",
      "  super().__init__(activity_regularizer=activity_regularizer, **kwargs)\n",
      "[I 2025-09-06 14:49:21,369] Trial 77 finished with value: 0.693885326385498 and parameters: {'n_layers': 5, 'units_l0': 1024, 'activation_l0': 'tanh', 'dropout_l0': 0.34629836606982667, 'batchnorm_l0': True, 'l1_reg': 8.716945457000883e-06, 'l2_reg': 6.428240362654596e-08, 'units_l1': 128, 'activation_l1': 'tanh', 'dropout_l1': 0.09864510093169242, 'batchnorm_l1': False, 'units_l2': 1024, 'activation_l2': 'relu', 'dropout_l2': 0.020422207485402008, 'batchnorm_l2': True, 'units_l3': 128, 'activation_l3': 'selu', 'dropout_l3': 0.4080838991295228, 'batchnorm_l3': True, 'units_l4': 512, 'activation_l4': 'leaky_relu', 'dropout_l4': 0.24145110735420483, 'batchnorm_l4': False, 'optimizer': 'sgd', 'lr': 0.08487371624076233, 'momentum': 0.5553339913137009, 'loss': 'sparse_categorical_crossentropy', 'batch_size': 32}. Best is trial 65 with value: 0.7325008908907572.\n",
      "D:\\Python\\Lib\\site-packages\\keras\\src\\layers\\core\\dense.py:92: UserWarning: Do not pass an `input_shape`/`input_dim` argument to a layer. When using Sequential models, prefer using an `Input(shape)` object as the first layer in the model instead.\n",
      "  super().__init__(activity_regularizer=activity_regularizer, **kwargs)\n",
      "[I 2025-09-06 14:53:06,403] Trial 78 finished with value: 0.6607770919799805 and parameters: {'n_layers': 4, 'units_l0': 1024, 'activation_l0': 'tanh', 'dropout_l0': 0.3466026701819371, 'batchnorm_l0': True, 'l1_reg': 0.0009593860132583852, 'l2_reg': 1.3827977442004798e-05, 'units_l1': 128, 'activation_l1': 'tanh', 'dropout_l1': 0.17068463205842144, 'batchnorm_l1': False, 'units_l2': 256, 'activation_l2': 'relu', 'dropout_l2': 0.026539569234197317, 'batchnorm_l2': True, 'units_l3': 128, 'activation_l3': 'selu', 'dropout_l3': 0.4116434818809658, 'batchnorm_l3': True, 'optimizer': 'sgd', 'lr': 0.07002895615930178, 'momentum': 0.5256325932017311, 'loss': 'sparse_categorical_crossentropy', 'batch_size': 256}. Best is trial 65 with value: 0.7325008908907572.\n",
      "D:\\Python\\Lib\\site-packages\\keras\\src\\layers\\core\\dense.py:92: UserWarning: Do not pass an `input_shape`/`input_dim` argument to a layer. When using Sequential models, prefer using an `Input(shape)` object as the first layer in the model instead.\n",
      "  super().__init__(activity_regularizer=activity_regularizer, **kwargs)\n",
      "[I 2025-09-06 15:08:32,901] Trial 79 finished with value: 0.7093325853347778 and parameters: {'n_layers': 5, 'units_l0': 256, 'activation_l0': 'selu', 'dropout_l0': 0.3954726138187317, 'batchnorm_l0': True, 'l1_reg': 5.919860787933588e-06, 'l2_reg': 1.1446367341615822e-08, 'units_l1': 128, 'activation_l1': 'tanh', 'dropout_l1': 0.09570581648091106, 'batchnorm_l1': False, 'units_l2': 512, 'activation_l2': 'relu', 'dropout_l2': 0.13601570999185258, 'batchnorm_l2': True, 'units_l3': 128, 'activation_l3': 'selu', 'dropout_l3': 0.4358722981106999, 'batchnorm_l3': True, 'units_l4': 512, 'activation_l4': 'leaky_relu', 'dropout_l4': 0.24792837008924856, 'batchnorm_l4': False, 'optimizer': 'sgd', 'lr': 0.02716072306841989, 'momentum': 0.579715795189071, 'loss': 'sparse_categorical_crossentropy', 'batch_size': 32}. Best is trial 65 with value: 0.7325008908907572.\n",
      "D:\\Python\\Lib\\site-packages\\keras\\src\\layers\\core\\dense.py:92: UserWarning: Do not pass an `input_shape`/`input_dim` argument to a layer. When using Sequential models, prefer using an `Input(shape)` object as the first layer in the model instead.\n",
      "  super().__init__(activity_regularizer=activity_regularizer, **kwargs)\n",
      "[I 2025-09-06 15:15:58,130] Trial 80 finished with value: 0.7087571819623312 and parameters: {'n_layers': 4, 'units_l0': 256, 'activation_l0': 'selu', 'dropout_l0': 0.3965618058059548, 'batchnorm_l0': True, 'l1_reg': 7.85861793103141e-06, 'l2_reg': 1.02178527089309e-08, 'units_l1': 128, 'activation_l1': 'tanh', 'dropout_l1': 0.10394522676568752, 'batchnorm_l1': False, 'units_l2': 512, 'activation_l2': 'relu', 'dropout_l2': 0.13724613952007123, 'batchnorm_l2': True, 'units_l3': 128, 'activation_l3': 'selu', 'dropout_l3': 0.4934258816962426, 'batchnorm_l3': True, 'optimizer': 'sgd', 'lr': 0.028033537948533468, 'momentum': 0.573840458353558, 'loss': 'sparse_categorical_crossentropy', 'batch_size': 64}. Best is trial 65 with value: 0.7325008908907572.\n",
      "D:\\Python\\Lib\\site-packages\\keras\\src\\layers\\core\\dense.py:92: UserWarning: Do not pass an `input_shape`/`input_dim` argument to a layer. When using Sequential models, prefer using an `Input(shape)` object as the first layer in the model instead.\n",
      "  super().__init__(activity_regularizer=activity_regularizer, **kwargs)\n",
      "[I 2025-09-06 15:22:22,518] Trial 81 finished with value: 0.7103206316630045 and parameters: {'n_layers': 4, 'units_l0': 256, 'activation_l0': 'selu', 'dropout_l0': 0.38776545513839494, 'batchnorm_l0': True, 'l1_reg': 9.170097466775892e-06, 'l2_reg': 1.076093112839659e-08, 'units_l1': 128, 'activation_l1': 'tanh', 'dropout_l1': 0.09486588085591136, 'batchnorm_l1': False, 'units_l2': 512, 'activation_l2': 'relu', 'dropout_l2': 0.16946330551007638, 'batchnorm_l2': True, 'units_l3': 128, 'activation_l3': 'selu', 'dropout_l3': 0.5111961689618131, 'batchnorm_l3': True, 'optimizer': 'sgd', 'lr': 0.0504863516998649, 'momentum': 0.569122564365924, 'loss': 'sparse_categorical_crossentropy', 'batch_size': 64}. Best is trial 65 with value: 0.7325008908907572.\n",
      "D:\\Python\\Lib\\site-packages\\keras\\src\\layers\\core\\dense.py:92: UserWarning: Do not pass an `input_shape`/`input_dim` argument to a layer. When using Sequential models, prefer using an `Input(shape)` object as the first layer in the model instead.\n",
      "  super().__init__(activity_regularizer=activity_regularizer, **kwargs)\n",
      "[I 2025-09-06 15:26:50,766] Trial 82 finished with value: 0.7115508119265238 and parameters: {'n_layers': 3, 'units_l0': 256, 'activation_l0': 'selu', 'dropout_l0': 0.4245450373651464, 'batchnorm_l0': True, 'l1_reg': 5.614338790542737e-06, 'l2_reg': 1.1075504680996578e-08, 'units_l1': 128, 'activation_l1': 'tanh', 'dropout_l1': 0.10620496921391165, 'batchnorm_l1': False, 'units_l2': 512, 'activation_l2': 'relu', 'dropout_l2': 0.1334391762785012, 'batchnorm_l2': True, 'optimizer': 'sgd', 'lr': 0.028746870162306756, 'momentum': 0.5835668152107604, 'loss': 'sparse_categorical_crossentropy', 'batch_size': 64}. Best is trial 65 with value: 0.7325008908907572.\n",
      "D:\\Python\\Lib\\site-packages\\keras\\src\\layers\\core\\dense.py:92: UserWarning: Do not pass an `input_shape`/`input_dim` argument to a layer. When using Sequential models, prefer using an `Input(shape)` object as the first layer in the model instead.\n",
      "  super().__init__(activity_regularizer=activity_regularizer, **kwargs)\n",
      "[I 2025-09-06 15:32:02,643] Trial 83 finished with value: 0.7165627876917521 and parameters: {'n_layers': 3, 'units_l0': 256, 'activation_l0': 'selu', 'dropout_l0': 0.39920756739913177, 'batchnorm_l0': True, 'l1_reg': 2.8460278329294408e-05, 'l2_reg': 1.2300375134134612e-08, 'units_l1': 128, 'activation_l1': 'tanh', 'dropout_l1': 0.10886433191215728, 'batchnorm_l1': False, 'units_l2': 512, 'activation_l2': 'relu', 'dropout_l2': 0.21276284374266818, 'batchnorm_l2': True, 'optimizer': 'sgd', 'lr': 0.02521346418695587, 'momentum': 0.5795764183281839, 'loss': 'sparse_categorical_crossentropy', 'batch_size': 64}. Best is trial 65 with value: 0.7325008908907572.\n",
      "D:\\Python\\Lib\\site-packages\\keras\\src\\layers\\core\\dense.py:92: UserWarning: Do not pass an `input_shape`/`input_dim` argument to a layer. When using Sequential models, prefer using an `Input(shape)` object as the first layer in the model instead.\n",
      "  super().__init__(activity_regularizer=activity_regularizer, **kwargs)\n",
      "[I 2025-09-06 15:37:11,775] Trial 84 finished with value: 0.7174661556879679 and parameters: {'n_layers': 3, 'units_l0': 256, 'activation_l0': 'selu', 'dropout_l0': 0.3963848334964203, 'batchnorm_l0': True, 'l1_reg': 2.9648187392731386e-05, 'l2_reg': 1.0040660726358831e-08, 'units_l1': 128, 'activation_l1': 'tanh', 'dropout_l1': 0.13199532478052803, 'batchnorm_l1': False, 'units_l2': 512, 'activation_l2': 'relu', 'dropout_l2': 0.1743256651842208, 'batchnorm_l2': True, 'optimizer': 'sgd', 'lr': 0.024228431947938382, 'momentum': 0.5678184672328253, 'loss': 'sparse_categorical_crossentropy', 'batch_size': 64}. Best is trial 65 with value: 0.7325008908907572.\n",
      "D:\\Python\\Lib\\site-packages\\keras\\src\\layers\\core\\dense.py:92: UserWarning: Do not pass an `input_shape`/`input_dim` argument to a layer. When using Sequential models, prefer using an `Input(shape)` object as the first layer in the model instead.\n",
      "  super().__init__(activity_regularizer=activity_regularizer, **kwargs)\n",
      "[I 2025-09-06 15:42:10,514] Trial 85 finished with value: 0.7122079928716024 and parameters: {'n_layers': 3, 'units_l0': 256, 'activation_l0': 'selu', 'dropout_l0': 0.4019335631242132, 'batchnorm_l0': True, 'l1_reg': 3.8138089900822104e-05, 'l2_reg': 1.2160596518121042e-08, 'units_l1': 128, 'activation_l1': 'tanh', 'dropout_l1': 0.13524888187948714, 'batchnorm_l1': False, 'units_l2': 512, 'activation_l2': 'relu', 'dropout_l2': 0.17587263376646955, 'batchnorm_l2': True, 'optimizer': 'sgd', 'lr': 0.025116177749214326, 'momentum': 0.5804256734757028, 'loss': 'sparse_categorical_crossentropy', 'batch_size': 64}. Best is trial 65 with value: 0.7325008908907572.\n",
      "D:\\Python\\Lib\\site-packages\\keras\\src\\layers\\core\\dense.py:92: UserWarning: Do not pass an `input_shape`/`input_dim` argument to a layer. When using Sequential models, prefer using an `Input(shape)` object as the first layer in the model instead.\n",
      "  super().__init__(activity_regularizer=activity_regularizer, **kwargs)\n",
      "[I 2025-09-06 15:47:32,297] Trial 86 finished with value: 0.6979955434799194 and parameters: {'n_layers': 3, 'units_l0': 256, 'activation_l0': 'selu', 'dropout_l0': 0.485723522431084, 'batchnorm_l0': True, 'l1_reg': 3.2761785813076366e-05, 'l2_reg': 1.5902171874575174e-08, 'units_l1': 128, 'activation_l1': 'tanh', 'dropout_l1': 0.13824744354260857, 'batchnorm_l1': False, 'units_l2': 512, 'activation_l2': 'relu', 'dropout_l2': 0.2267605876592899, 'batchnorm_l2': True, 'optimizer': 'sgd', 'lr': 0.019774244571810286, 'momentum': 0.587405400561126, 'loss': 'sparse_categorical_crossentropy', 'batch_size': 64}. Best is trial 65 with value: 0.7325008908907572.\n",
      "D:\\Python\\Lib\\site-packages\\keras\\src\\layers\\core\\dense.py:92: UserWarning: Do not pass an `input_shape`/`input_dim` argument to a layer. When using Sequential models, prefer using an `Input(shape)` object as the first layer in the model instead.\n",
      "  super().__init__(activity_regularizer=activity_regularizer, **kwargs)\n",
      "[I 2025-09-06 15:51:14,339] Trial 87 finished with value: 0.7127021352450053 and parameters: {'n_layers': 3, 'units_l0': 256, 'activation_l0': 'selu', 'dropout_l0': 0.42381280754805234, 'batchnorm_l0': True, 'l1_reg': 6.758825984483158e-05, 'l2_reg': 1.3690164639318503e-08, 'units_l1': 128, 'activation_l1': 'tanh', 'dropout_l1': 0.16346431261421868, 'batchnorm_l1': False, 'units_l2': 512, 'activation_l2': 'relu', 'dropout_l2': 0.17661387754158034, 'batchnorm_l2': False, 'optimizer': 'sgd', 'lr': 0.048771805779684936, 'momentum': 0.5882082237070108, 'loss': 'sparse_categorical_crossentropy', 'batch_size': 64}. Best is trial 65 with value: 0.7325008908907572.\n",
      "D:\\Python\\Lib\\site-packages\\keras\\src\\layers\\core\\dense.py:92: UserWarning: Do not pass an `input_shape`/`input_dim` argument to a layer. When using Sequential models, prefer using an `Input(shape)` object as the first layer in the model instead.\n",
      "  super().__init__(activity_regularizer=activity_regularizer, **kwargs)\n",
      "[I 2025-09-06 15:57:18,618] Trial 88 finished with value: 0.6962708830833435 and parameters: {'n_layers': 3, 'units_l0': 256, 'activation_l0': 'selu', 'dropout_l0': 0.4154510161972076, 'batchnorm_l0': True, 'l1_reg': 6.488182555932442e-05, 'l2_reg': 1.804375819293202e-08, 'units_l1': 128, 'activation_l1': 'tanh', 'dropout_l1': 0.17754013971650973, 'batchnorm_l1': False, 'units_l2': 512, 'activation_l2': 'relu', 'dropout_l2': 0.17406251452584806, 'batchnorm_l2': False, 'optimizer': 'sgd', 'lr': 0.06045162962813465, 'momentum': 0.5462433620946344, 'loss': 'focal_loss', 'batch_size': 64}. Best is trial 65 with value: 0.7325008908907572.\n",
      "D:\\Python\\Lib\\site-packages\\keras\\src\\layers\\core\\dense.py:92: UserWarning: Do not pass an `input_shape`/`input_dim` argument to a layer. When using Sequential models, prefer using an `Input(shape)` object as the first layer in the model instead.\n",
      "  super().__init__(activity_regularizer=activity_regularizer, **kwargs)\n",
      "[I 2025-09-06 16:01:59,181] Trial 89 finished with value: 0.6997206012407938 and parameters: {'n_layers': 3, 'units_l0': 256, 'activation_l0': 'selu', 'dropout_l0': 0.45659204843033974, 'batchnorm_l0': True, 'l1_reg': 5.95380055828755e-05, 'l2_reg': 2.2412225050099823e-08, 'units_l1': 64, 'activation_l1': 'tanh', 'dropout_l1': 0.15680241570363312, 'batchnorm_l1': False, 'units_l2': 512, 'activation_l2': 'relu', 'dropout_l2': 0.20827329865180422, 'batchnorm_l2': False, 'optimizer': 'sgd', 'lr': 0.04281156929639574, 'momentum': 0.5979032211709111, 'loss': 'sparse_categorical_crossentropy', 'batch_size': 64}. Best is trial 65 with value: 0.7325008908907572.\n",
      "D:\\Python\\Lib\\site-packages\\keras\\src\\layers\\core\\dense.py:92: UserWarning: Do not pass an `input_shape`/`input_dim` argument to a layer. When using Sequential models, prefer using an `Input(shape)` object as the first layer in the model instead.\n",
      "  super().__init__(activity_regularizer=activity_regularizer, **kwargs)\n",
      "[I 2025-09-06 16:04:49,302] Trial 90 finished with value: 0.6569185058275858 and parameters: {'n_layers': 2, 'units_l0': 256, 'activation_l0': 'selu', 'dropout_l0': 0.4373383923216201, 'batchnorm_l0': True, 'l1_reg': 2.6906748265603117e-05, 'l2_reg': 1.41762795863975e-08, 'units_l1': 128, 'activation_l1': 'tanh', 'dropout_l1': 0.12206561601548871, 'batchnorm_l1': False, 'optimizer': 'sgd', 'lr': 0.052109172453864566, 'momentum': 0.5021310057552919, 'loss': 'sparse_categorical_crossentropy', 'batch_size': 64}. Best is trial 65 with value: 0.7325008908907572.\n",
      "D:\\Python\\Lib\\site-packages\\keras\\src\\layers\\core\\dense.py:92: UserWarning: Do not pass an `input_shape`/`input_dim` argument to a layer. When using Sequential models, prefer using an `Input(shape)` object as the first layer in the model instead.\n",
      "  super().__init__(activity_regularizer=activity_regularizer, **kwargs)\n",
      "[I 2025-09-06 16:09:13,650] Trial 91 finished with value: 0.7295437653859457 and parameters: {'n_layers': 3, 'units_l0': 256, 'activation_l0': 'selu', 'dropout_l0': 0.4150836015779237, 'batchnorm_l0': True, 'l1_reg': 8.475105122341253e-05, 'l2_reg': 3.117029312152967e-08, 'units_l1': 128, 'activation_l1': 'tanh', 'dropout_l1': 0.09305403903943252, 'batchnorm_l1': False, 'units_l2': 512, 'activation_l2': 'relu', 'dropout_l2': 0.16387282490457464, 'batchnorm_l2': False, 'optimizer': 'sgd', 'lr': 0.033341471979826884, 'momentum': 0.5808664036719352, 'loss': 'sparse_categorical_crossentropy', 'batch_size': 64}. Best is trial 65 with value: 0.7325008908907572.\n",
      "D:\\Python\\Lib\\site-packages\\keras\\src\\layers\\core\\dense.py:92: UserWarning: Do not pass an `input_shape`/`input_dim` argument to a layer. When using Sequential models, prefer using an `Input(shape)` object as the first layer in the model instead.\n",
      "  super().__init__(activity_regularizer=activity_regularizer, **kwargs)\n",
      "[I 2025-09-06 16:12:42,246] Trial 92 finished with value: 0.6657078862190247 and parameters: {'n_layers': 2, 'units_l0': 256, 'activation_l0': 'selu', 'dropout_l0': 0.4150441798273518, 'batchnorm_l0': True, 'l1_reg': 9.705553260267108e-05, 'l2_reg': 3.1402573651555325e-08, 'units_l1': 128, 'activation_l1': 'tanh', 'dropout_l1': 0.13304903944226554, 'batchnorm_l1': False, 'optimizer': 'sgd', 'lr': 0.03408517283581831, 'momentum': 0.6010314411177988, 'loss': 'sparse_categorical_crossentropy', 'batch_size': 64}. Best is trial 65 with value: 0.7325008908907572.\n",
      "D:\\Python\\Lib\\site-packages\\keras\\src\\layers\\core\\dense.py:92: UserWarning: Do not pass an `input_shape`/`input_dim` argument to a layer. When using Sequential models, prefer using an `Input(shape)` object as the first layer in the model instead.\n",
      "  super().__init__(activity_regularizer=activity_regularizer, **kwargs)\n",
      "[I 2025-09-06 16:18:12,318] Trial 93 finished with value: 0.7122894326845804 and parameters: {'n_layers': 3, 'units_l0': 256, 'activation_l0': 'selu', 'dropout_l0': 0.3774455832203484, 'batchnorm_l0': True, 'l1_reg': 0.0001242136012451071, 'l2_reg': 2.2231561369739526e-08, 'units_l1': 128, 'activation_l1': 'tanh', 'dropout_l1': 0.10932404482585775, 'batchnorm_l1': False, 'units_l2': 512, 'activation_l2': 'relu', 'dropout_l2': 0.2514084650999195, 'batchnorm_l2': False, 'optimizer': 'sgd', 'lr': 0.017893372154582303, 'momentum': 0.5530464581025907, 'loss': 'sparse_categorical_crossentropy', 'batch_size': 64}. Best is trial 65 with value: 0.7325008908907572.\n",
      "D:\\Python\\Lib\\site-packages\\keras\\src\\layers\\core\\dense.py:92: UserWarning: Do not pass an `input_shape`/`input_dim` argument to a layer. When using Sequential models, prefer using an `Input(shape)` object as the first layer in the model instead.\n",
      "  super().__init__(activity_regularizer=activity_regularizer, **kwargs)\n",
      "[I 2025-09-06 16:22:18,643] Trial 94 finished with value: 0.6486189961433411 and parameters: {'n_layers': 3, 'units_l0': 256, 'activation_l0': 'selu', 'dropout_l0': 0.37233123076079777, 'batchnorm_l0': True, 'l1_reg': 0.00012229728706050918, 'l2_reg': 1.9417549604721138e-08, 'units_l1': 32, 'activation_l1': 'tanh', 'dropout_l1': 0.11393034455708029, 'batchnorm_l1': False, 'units_l2': 512, 'activation_l2': 'relu', 'dropout_l2': 0.26278545800227965, 'batchnorm_l2': False, 'optimizer': 'sgd', 'lr': 0.02107953742655777, 'momentum': 0.6749417379700593, 'loss': 'sparse_categorical_crossentropy', 'batch_size': 64}. Best is trial 65 with value: 0.7325008908907572.\n",
      "D:\\Python\\Lib\\site-packages\\keras\\src\\layers\\core\\dense.py:92: UserWarning: Do not pass an `input_shape`/`input_dim` argument to a layer. When using Sequential models, prefer using an `Input(shape)` object as the first layer in the model instead.\n",
      "  super().__init__(activity_regularizer=activity_regularizer, **kwargs)\n",
      "[I 2025-09-06 16:27:48,502] Trial 95 finished with value: 0.6968461275100708 and parameters: {'n_layers': 3, 'units_l0': 256, 'activation_l0': 'selu', 'dropout_l0': 0.40770990250142164, 'batchnorm_l0': True, 'l1_reg': 4.486058505873347e-05, 'l2_reg': 2.8963056113221654e-08, 'units_l1': 128, 'activation_l1': 'tanh', 'dropout_l1': 0.16266780784933613, 'batchnorm_l1': False, 'units_l2': 512, 'activation_l2': 'relu', 'dropout_l2': 0.2128048604141765, 'batchnorm_l2': False, 'optimizer': 'sgd', 'lr': 0.013855765166518569, 'momentum': 0.5464067888807014, 'loss': 'sparse_categorical_crossentropy', 'batch_size': 64}. Best is trial 65 with value: 0.7325008908907572.\n",
      "D:\\Python\\Lib\\site-packages\\keras\\src\\layers\\core\\dense.py:92: UserWarning: Do not pass an `input_shape`/`input_dim` argument to a layer. When using Sequential models, prefer using an `Input(shape)` object as the first layer in the model instead.\n",
      "  super().__init__(activity_regularizer=activity_regularizer, **kwargs)\n",
      "[I 2025-09-06 16:31:56,780] Trial 96 finished with value: 0.6533023516337076 and parameters: {'n_layers': 2, 'units_l0': 256, 'activation_l0': 'selu', 'dropout_l0': 0.4252617159232651, 'batchnorm_l0': True, 'l1_reg': 0.00022582353284032327, 'l2_reg': 2.053512359253714e-08, 'units_l1': 128, 'activation_l1': 'tanh', 'dropout_l1': 0.14984216266487735, 'batchnorm_l1': False, 'optimizer': 'sgd', 'lr': 0.017599164050907133, 'momentum': 0.6131036819804704, 'loss': 'sparse_categorical_crossentropy', 'batch_size': 64}. Best is trial 65 with value: 0.7325008908907572.\n",
      "D:\\Python\\Lib\\site-packages\\keras\\src\\layers\\core\\dense.py:92: UserWarning: Do not pass an `input_shape`/`input_dim` argument to a layer. When using Sequential models, prefer using an `Input(shape)` object as the first layer in the model instead.\n",
      "  super().__init__(activity_regularizer=activity_regularizer, **kwargs)\n",
      "[I 2025-09-06 16:34:26,641] Trial 97 finished with value: 0.49597473939259845 and parameters: {'n_layers': 1, 'units_l0': 256, 'activation_l0': 'selu', 'dropout_l0': 0.3629321693189977, 'batchnorm_l0': True, 'l1_reg': 1.5080656206319907e-05, 'l2_reg': 1.4242937496879577e-08, 'optimizer': 'sgd', 'lr': 0.010281484605771662, 'momentum': 0.5417685762474604, 'loss': 'sparse_categorical_crossentropy', 'batch_size': 64}. Best is trial 65 with value: 0.7325008908907572.\n",
      "D:\\Python\\Lib\\site-packages\\keras\\src\\layers\\core\\dense.py:92: UserWarning: Do not pass an `input_shape`/`input_dim` argument to a layer. When using Sequential models, prefer using an `Input(shape)` object as the first layer in the model instead.\n",
      "  super().__init__(activity_regularizer=activity_regularizer, **kwargs)\n",
      "[I 2025-09-06 16:35:05,278] Trial 98 finished with value: 0.2683233668406804 and parameters: {'n_layers': 3, 'units_l0': 256, 'activation_l0': 'selu', 'dropout_l0': 0.44863440463852466, 'batchnorm_l0': True, 'l1_reg': 5.677908996893434e-05, 'l2_reg': 1.0264927666202918e-07, 'units_l1': 128, 'activation_l1': 'tanh', 'dropout_l1': 0.0614881955064945, 'batchnorm_l1': False, 'units_l2': 512, 'activation_l2': 'relu', 'dropout_l2': 0.25094216242070266, 'batchnorm_l2': False, 'optimizer': 'rmsprop', 'lr': 0.029615487811292373, 'loss': 'sparse_categorical_crossentropy', 'batch_size': 64}. Best is trial 65 with value: 0.7325008908907572.\n",
      "D:\\Python\\Lib\\site-packages\\keras\\src\\layers\\core\\dense.py:92: UserWarning: Do not pass an `input_shape`/`input_dim` argument to a layer. When using Sequential models, prefer using an `Input(shape)` object as the first layer in the model instead.\n",
      "  super().__init__(activity_regularizer=activity_regularizer, **kwargs)\n",
      "[I 2025-09-06 16:36:48,309] Trial 99 finished with value: 0.5852779150009155 and parameters: {'n_layers': 2, 'units_l0': 256, 'activation_l0': 'selu', 'dropout_l0': 0.4774070568826697, 'batchnorm_l0': True, 'l1_reg': 8.876146747501977e-05, 'l2_reg': 3.331514724824035e-08, 'units_l1': 256, 'activation_l1': 'swish', 'dropout_l1': 0.08789038278550092, 'batchnorm_l1': False, 'optimizer': 'sgd', 'lr': 0.03784415427095938, 'momentum': 0.9587920511970107, 'loss': 'sparse_categorical_crossentropy', 'batch_size': 64}. Best is trial 65 with value: 0.7325008908907572.\n"
     ]
    },
    {
     "name": "stdout",
     "output_type": "stream",
     "text": [
      "Best trial:\n",
      "{'n_layers': 6, 'units_l0': 1024, 'activation_l0': 'tanh', 'dropout_l0': 0.2948587059470727, 'batchnorm_l0': True, 'l1_reg': 2.364860471699336e-06, 'l2_reg': 2.9558846493465184e-07, 'units_l1': 128, 'activation_l1': 'relu', 'dropout_l1': 0.046131391772927736, 'batchnorm_l1': False, 'units_l2': 1024, 'activation_l2': 'tanh', 'dropout_l2': 0.00579573219450665, 'batchnorm_l2': True, 'units_l3': 32, 'activation_l3': 'elu', 'dropout_l3': 0.3152401210780189, 'batchnorm_l3': True, 'units_l4': 512, 'activation_l4': 'leaky_relu', 'dropout_l4': 0.18813724194490697, 'batchnorm_l4': False, 'units_l5': 512, 'activation_l5': 'leaky_relu', 'dropout_l5': 0.13714484100930696, 'batchnorm_l5': True, 'optimizer': 'adamw', 'lr': 0.0023172564729785705, 'loss': 'sparse_categorical_crossentropy', 'batch_size': 32}\n"
     ]
    }
   ],
   "source": [
    "# -----------------------------\n",
    "# Callback: log best trial live\n",
    "# -----------------------------\n",
    "def log_best_callback(study, trial):\n",
    "    if study.best_trial == trial:\n",
    "        df_trials = study.trials_dataframe()\n",
    "        df_trials.to_csv(f\"{OUTPUT_DIR}/optuna_trials.csv\", index=False)\n",
    "\n",
    "\n",
    "# -----------------------------\n",
    "# Run study\n",
    "# -----------------------------\n",
    "pruner = optuna.pruners.MedianPruner(n_startup_trials=5, n_warmup_steps=5)\n",
    "study = optuna.create_study(direction=\"maximize\", pruner=pruner)\n",
    "study.optimize(objective, n_trials=N_TRIALS, callbacks=[log_best_callback])\n",
    "\n",
    "# Save study results\n",
    "df_trials = study.trials_dataframe()\n",
    "df_trials.to_csv(f\"{OUTPUT_DIR}/optuna_trials.csv\", index=False)\n",
    "\n",
    "print(\"Best trial:\")\n",
    "print(study.best_trial.params)"
   ]
  },
  {
   "cell_type": "code",
   "execution_count": 15,
   "id": "d3da27be-0de9-4ea9-9e18-501510b67a24",
   "metadata": {
    "scrolled": true
   },
   "outputs": [
    {
     "name": "stderr",
     "output_type": "stream",
     "text": [
      "D:\\Python\\Lib\\site-packages\\keras\\src\\layers\\core\\dense.py:92: UserWarning:\n",
      "\n",
      "Do not pass an `input_shape`/`input_dim` argument to a layer. When using Sequential models, prefer using an `Input(shape)` object as the first layer in the model instead.\n",
      "\n"
     ]
    },
    {
     "name": "stdout",
     "output_type": "stream",
     "text": [
      "ERROR! Session/line number was not unique in database. History logging moved to new session 400\n",
      "Epoch 1/200\n",
      "324/324 ━━━━━━━━━━━━━━━━━━━━ 25s 52ms/step - accuracy: 0.3208 - loss: 2.0715 - val_accuracy: 0.3784 - val_loss: 1.8318\n",
      "Epoch 2/200\n",
      "324/324 ━━━━━━━━━━━━━━━━━━━━ 15s 47ms/step - accuracy: 0.3835 - loss: 1.8093 - val_accuracy: 0.4315 - val_loss: 1.6288\n",
      "Epoch 3/200\n",
      "324/324 ━━━━━━━━━━━━━━━━━━━━ 12s 38ms/step - accuracy: 0.4217 - loss: 1.6968 - val_accuracy: 0.4737 - val_loss: 1.5261\n",
      "Epoch 4/200\n",
      "324/324 ━━━━━━━━━━━━━━━━━━━━ 12s 36ms/step - accuracy: 0.4417 - loss: 1.6352 - val_accuracy: 0.5055 - val_loss: 1.4508\n",
      "Epoch 5/200\n",
      "324/324 ━━━━━━━━━━━━━━━━━━━━ 14s 43ms/step - accuracy: 0.4669 - loss: 1.5714 - val_accuracy: 0.5000 - val_loss: 1.4168\n",
      "Epoch 6/200\n",
      "324/324 ━━━━━━━━━━━━━━━━━━━━ 15s 45ms/step - accuracy: 0.4862 - loss: 1.5154 - val_accuracy: 0.5038 - val_loss: 1.4140\n",
      "Epoch 7/200\n",
      "324/324 ━━━━━━━━━━━━━━━━━━━━ 12s 36ms/step - accuracy: 0.5022 - loss: 1.4662 - val_accuracy: 0.5586 - val_loss: 1.2995\n",
      "Epoch 8/200\n",
      "324/324 ━━━━━━━━━━━━━━━━━━━━ 22s 40ms/step - accuracy: 0.5171 - loss: 1.4244 - val_accuracy: 0.5712 - val_loss: 1.2268\n",
      "Epoch 9/200\n",
      "324/324 ━━━━━━━━━━━━━━━━━━━━ 15s 46ms/step - accuracy: 0.5276 - loss: 1.3844 - val_accuracy: 0.5761 - val_loss: 1.2169\n",
      "Epoch 10/200\n",
      "324/324 ━━━━━━━━━━━━━━━━━━━━ 26s 63ms/step - accuracy: 0.5354 - loss: 1.3568 - val_accuracy: 0.6090 - val_loss: 1.1643\n",
      "Epoch 11/200\n",
      "324/324 ━━━━━━━━━━━━━━━━━━━━ 19s 57ms/step - accuracy: 0.5492 - loss: 1.3276 - val_accuracy: 0.6238 - val_loss: 1.1318\n",
      "Epoch 12/200\n",
      "324/324 ━━━━━━━━━━━━━━━━━━━━ 20s 56ms/step - accuracy: 0.5622 - loss: 1.2860 - val_accuracy: 0.6057 - val_loss: 1.1668\n",
      "Epoch 13/200\n",
      "324/324 ━━━━━━━━━━━━━━━━━━━━ 18s 48ms/step - accuracy: 0.5729 - loss: 1.2484 - val_accuracy: 0.6418 - val_loss: 1.0515\n",
      "Epoch 14/200\n",
      "324/324 ━━━━━━━━━━━━━━━━━━━━ 15s 45ms/step - accuracy: 0.5877 - loss: 1.2227 - val_accuracy: 0.6227 - val_loss: 1.0511\n",
      "Epoch 15/200\n",
      "324/324 ━━━━━━━━━━━━━━━━━━━━ 14s 43ms/step - accuracy: 0.5968 - loss: 1.1861 - val_accuracy: 0.6353 - val_loss: 1.0189\n",
      "Epoch 16/200\n",
      "324/324 ━━━━━━━━━━━━━━━━━━━━ 14s 43ms/step - accuracy: 0.5970 - loss: 1.1758 - val_accuracy: 0.6522 - val_loss: 1.0074\n",
      "Epoch 17/200\n",
      "324/324 ━━━━━━━━━━━━━━━━━━━━ 16s 49ms/step - accuracy: 0.6117 - loss: 1.1472 - val_accuracy: 0.6676 - val_loss: 0.9698\n",
      "Epoch 18/200\n",
      "324/324 ━━━━━━━━━━━━━━━━━━━━ 14s 42ms/step - accuracy: 0.6228 - loss: 1.1183 - val_accuracy: 0.6791 - val_loss: 0.9277\n",
      "Epoch 19/200\n",
      "324/324 ━━━━━━━━━━━━━━━━━━━━ 12s 38ms/step - accuracy: 0.6263 - loss: 1.0867 - val_accuracy: 0.6796 - val_loss: 0.9567\n",
      "Epoch 20/200\n",
      "324/324 ━━━━━━━━━━━━━━━━━━━━ 12s 36ms/step - accuracy: 0.6404 - loss: 1.0644 - val_accuracy: 0.6900 - val_loss: 0.9020\n",
      "Epoch 21/200\n",
      "324/324 ━━━━━━━━━━━━━━━━━━━━ 12s 35ms/step - accuracy: 0.6468 - loss: 1.0435 - val_accuracy: 0.6911 - val_loss: 0.9083\n",
      "Epoch 22/200\n",
      "324/324 ━━━━━━━━━━━━━━━━━━━━ 15s 47ms/step - accuracy: 0.6511 - loss: 1.0216 - val_accuracy: 0.6950 - val_loss: 0.8854\n",
      "Epoch 23/200\n",
      "324/324 ━━━━━━━━━━━━━━━━━━━━ 12s 38ms/step - accuracy: 0.6505 - loss: 1.0189 - val_accuracy: 0.7048 - val_loss: 0.8320\n",
      "Epoch 24/200\n",
      "324/324 ━━━━━━━━━━━━━━━━━━━━ 12s 37ms/step - accuracy: 0.6661 - loss: 0.9806 - val_accuracy: 0.7054 - val_loss: 0.8237\n",
      "Epoch 25/200\n",
      "324/324 ━━━━━━━━━━━━━━━━━━━━ 12s 38ms/step - accuracy: 0.6683 - loss: 0.9786 - val_accuracy: 0.7191 - val_loss: 0.8351\n",
      "Epoch 26/200\n",
      "324/324 ━━━━━━━━━━━━━━━━━━━━ 12s 36ms/step - accuracy: 0.6794 - loss: 0.9438 - val_accuracy: 0.6972 - val_loss: 0.8678\n",
      "Epoch 27/200\n",
      "324/324 ━━━━━━━━━━━━━━━━━━━━ 12s 36ms/step - accuracy: 0.6785 - loss: 0.9455 - val_accuracy: 0.7289 - val_loss: 0.8035\n",
      "Epoch 28/200\n",
      "324/324 ━━━━━━━━━━━━━━━━━━━━ 12s 38ms/step - accuracy: 0.6911 - loss: 0.9187 - val_accuracy: 0.7163 - val_loss: 0.7797\n",
      "Epoch 29/200\n",
      "324/324 ━━━━━━━━━━━━━━━━━━━━ 12s 37ms/step - accuracy: 0.6974 - loss: 0.9026 - val_accuracy: 0.7202 - val_loss: 0.7863\n",
      "Epoch 30/200\n",
      "324/324 ━━━━━━━━━━━━━━━━━━━━ 12s 38ms/step - accuracy: 0.6949 - loss: 0.8972 - val_accuracy: 0.7295 - val_loss: 0.7868\n",
      "Epoch 31/200\n",
      "324/324 ━━━━━━━━━━━━━━━━━━━━ 12s 36ms/step - accuracy: 0.6939 - loss: 0.8992 - val_accuracy: 0.7180 - val_loss: 0.8145\n",
      "Epoch 32/200\n",
      "324/324 ━━━━━━━━━━━━━━━━━━━━ 12s 37ms/step - accuracy: 0.7047 - loss: 0.8731 - val_accuracy: 0.7251 - val_loss: 0.7853\n",
      "Epoch 33/200\n",
      "324/324 ━━━━━━━━━━━━━━━━━━━━ 15s 46ms/step - accuracy: 0.7073 - loss: 0.8559 - val_accuracy: 0.7355 - val_loss: 0.7601\n",
      "Epoch 34/200\n",
      "324/324 ━━━━━━━━━━━━━━━━━━━━ 15s 46ms/step - accuracy: 0.7082 - loss: 0.8549 - val_accuracy: 0.7191 - val_loss: 0.8097\n",
      "Epoch 35/200\n",
      "324/324 ━━━━━━━━━━━━━━━━━━━━ 13s 41ms/step - accuracy: 0.7196 - loss: 0.8270 - val_accuracy: 0.7349 - val_loss: 0.7663\n",
      "Epoch 36/200\n",
      "324/324 ━━━━━━━━━━━━━━━━━━━━ 16s 48ms/step - accuracy: 0.7219 - loss: 0.8301 - val_accuracy: 0.7410 - val_loss: 0.7399\n",
      "Epoch 37/200\n",
      "324/324 ━━━━━━━━━━━━━━━━━━━━ 14s 42ms/step - accuracy: 0.7246 - loss: 0.8161 - val_accuracy: 0.7492 - val_loss: 0.7545\n",
      "Epoch 38/200\n",
      "324/324 ━━━━━━━━━━━━━━━━━━━━ 13s 41ms/step - accuracy: 0.7274 - loss: 0.8121 - val_accuracy: 0.7574 - val_loss: 0.7473\n",
      "Epoch 39/200\n",
      "324/324 ━━━━━━━━━━━━━━━━━━━━ 14s 43ms/step - accuracy: 0.7317 - loss: 0.7970 - val_accuracy: 0.7607 - val_loss: 0.7215\n",
      "Epoch 40/200\n",
      "324/324 ━━━━━━━━━━━━━━━━━━━━ 12s 38ms/step - accuracy: 0.7333 - loss: 0.7930 - val_accuracy: 0.7514 - val_loss: 0.7188\n",
      "Epoch 41/200\n",
      "324/324 ━━━━━━━━━━━━━━━━━━━━ 15s 47ms/step - accuracy: 0.7364 - loss: 0.7900 - val_accuracy: 0.7360 - val_loss: 0.7420\n",
      "Epoch 42/200\n",
      "324/324 ━━━━━━━━━━━━━━━━━━━━ 14s 43ms/step - accuracy: 0.7448 - loss: 0.7776 - val_accuracy: 0.7475 - val_loss: 0.7266\n",
      "Epoch 43/200\n",
      "324/324 ━━━━━━━━━━━━━━━━━━━━ 12s 38ms/step - accuracy: 0.7500 - loss: 0.7680 - val_accuracy: 0.7547 - val_loss: 0.7242\n",
      "Epoch 44/200\n",
      "324/324 ━━━━━━━━━━━━━━━━━━━━ 12s 37ms/step - accuracy: 0.7514 - loss: 0.7521 - val_accuracy: 0.7651 - val_loss: 0.6943\n",
      "Epoch 45/200\n",
      "324/324 ━━━━━━━━━━━━━━━━━━━━ 13s 40ms/step - accuracy: 0.7504 - loss: 0.7419 - val_accuracy: 0.7579 - val_loss: 0.7126\n",
      "Epoch 46/200\n",
      "324/324 ━━━━━━━━━━━━━━━━━━━━ 12s 38ms/step - accuracy: 0.7449 - loss: 0.7526 - val_accuracy: 0.7612 - val_loss: 0.7043\n",
      "Epoch 47/200\n",
      "324/324 ━━━━━━━━━━━━━━━━━━━━ 13s 41ms/step - accuracy: 0.7566 - loss: 0.7220 - val_accuracy: 0.7558 - val_loss: 0.7177\n",
      "Epoch 48/200\n",
      "324/324 ━━━━━━━━━━━━━━━━━━━━ 13s 41ms/step - accuracy: 0.7519 - loss: 0.7434 - val_accuracy: 0.7673 - val_loss: 0.7187\n",
      "Epoch 49/200\n",
      "324/324 ━━━━━━━━━━━━━━━━━━━━ 13s 39ms/step - accuracy: 0.7622 - loss: 0.7135 - val_accuracy: 0.7689 - val_loss: 0.6838\n",
      "Epoch 50/200\n",
      "324/324 ━━━━━━━━━━━━━━━━━━━━ 12s 38ms/step - accuracy: 0.7517 - loss: 0.7363 - val_accuracy: 0.7815 - val_loss: 0.6773\n",
      "Epoch 51/200\n",
      "324/324 ━━━━━━━━━━━━━━━━━━━━ 12s 37ms/step - accuracy: 0.7623 - loss: 0.7022 - val_accuracy: 0.7678 - val_loss: 0.6825\n",
      "Epoch 52/200\n",
      "324/324 ━━━━━━━━━━━━━━━━━━━━ 17s 54ms/step - accuracy: 0.7675 - loss: 0.6907 - val_accuracy: 0.7716 - val_loss: 0.6843\n",
      "Epoch 53/200\n",
      "324/324 ━━━━━━━━━━━━━━━━━━━━ 14s 42ms/step - accuracy: 0.7710 - loss: 0.6893 - val_accuracy: 0.7645 - val_loss: 0.6855\n",
      "Epoch 54/200\n",
      "324/324 ━━━━━━━━━━━━━━━━━━━━ 13s 40ms/step - accuracy: 0.7691 - loss: 0.6913 - val_accuracy: 0.7558 - val_loss: 0.7417\n",
      "Epoch 55/200\n",
      "324/324 ━━━━━━━━━━━━━━━━━━━━ 13s 41ms/step - accuracy: 0.7699 - loss: 0.6958 - val_accuracy: 0.7700 - val_loss: 0.6854\n",
      "Epoch 56/200\n",
      "324/324 ━━━━━━━━━━━━━━━━━━━━ 12s 37ms/step - accuracy: 0.7756 - loss: 0.6747 - val_accuracy: 0.7744 - val_loss: 0.6704\n",
      "Epoch 57/200\n",
      "324/324 ━━━━━━━━━━━━━━━━━━━━ 13s 39ms/step - accuracy: 0.7784 - loss: 0.6720 - val_accuracy: 0.7733 - val_loss: 0.6631\n",
      "Epoch 58/200\n",
      "324/324 ━━━━━━━━━━━━━━━━━━━━ 12s 37ms/step - accuracy: 0.7713 - loss: 0.6988 - val_accuracy: 0.7793 - val_loss: 0.6863\n",
      "Epoch 59/200\n",
      "324/324 ━━━━━━━━━━━━━━━━━━━━ 13s 39ms/step - accuracy: 0.7774 - loss: 0.6642 - val_accuracy: 0.7886 - val_loss: 0.6370\n",
      "Epoch 60/200\n",
      "324/324 ━━━━━━━━━━━━━━━━━━━━ 13s 41ms/step - accuracy: 0.7786 - loss: 0.6589 - val_accuracy: 0.7760 - val_loss: 0.6943\n",
      "Epoch 61/200\n",
      "324/324 ━━━━━━━━━━━━━━━━━━━━ 23s 48ms/step - accuracy: 0.7768 - loss: 0.6663 - val_accuracy: 0.7705 - val_loss: 0.7071\n",
      "Epoch 62/200\n",
      "324/324 ━━━━━━━━━━━━━━━━━━━━ 14s 42ms/step - accuracy: 0.7812 - loss: 0.6635 - val_accuracy: 0.7722 - val_loss: 0.6974\n",
      "Epoch 63/200\n",
      "324/324 ━━━━━━━━━━━━━━━━━━━━ 13s 42ms/step - accuracy: 0.7841 - loss: 0.6539 - val_accuracy: 0.7744 - val_loss: 0.6850\n",
      "Epoch 64/200\n",
      "324/324 ━━━━━━━━━━━━━━━━━━━━ 13s 41ms/step - accuracy: 0.7834 - loss: 0.6565 - val_accuracy: 0.7864 - val_loss: 0.6542\n",
      "Epoch 65/200\n",
      "324/324 ━━━━━━━━━━━━━━━━━━━━ 17s 52ms/step - accuracy: 0.7859 - loss: 0.6447 - val_accuracy: 0.7842 - val_loss: 0.6699\n",
      "Epoch 66/200\n",
      "324/324 ━━━━━━━━━━━━━━━━━━━━ 14s 43ms/step - accuracy: 0.7932 - loss: 0.6310 - val_accuracy: 0.7897 - val_loss: 0.6475\n",
      "Epoch 67/200\n",
      "324/324 ━━━━━━━━━━━━━━━━━━━━ 14s 42ms/step - accuracy: 0.7817 - loss: 0.6501 - val_accuracy: 0.7892 - val_loss: 0.6507\n",
      "Epoch 68/200\n",
      "324/324 ━━━━━━━━━━━━━━━━━━━━ 16s 48ms/step - accuracy: 0.7897 - loss: 0.6337 - val_accuracy: 0.7897 - val_loss: 0.6441\n",
      "Epoch 69/200\n",
      "324/324 ━━━━━━━━━━━━━━━━━━━━ 14s 44ms/step - accuracy: 0.7927 - loss: 0.6258 - val_accuracy: 0.7722 - val_loss: 0.7164\n",
      "Epoch 70/200\n",
      "324/324 ━━━━━━━━━━━━━━━━━━━━ 16s 49ms/step - accuracy: 0.7894 - loss: 0.6312 - val_accuracy: 0.7804 - val_loss: 0.6600\n",
      "Epoch 71/200\n",
      "324/324 ━━━━━━━━━━━━━━━━━━━━ 23s 56ms/step - accuracy: 0.7896 - loss: 0.6357 - val_accuracy: 0.7826 - val_loss: 0.6538\n",
      "Epoch 72/200\n",
      "324/324 ━━━━━━━━━━━━━━━━━━━━ 16s 42ms/step - accuracy: 0.7918 - loss: 0.6330 - val_accuracy: 0.7886 - val_loss: 0.6920\n",
      "Epoch 73/200\n",
      "324/324 ━━━━━━━━━━━━━━━━━━━━ 15s 45ms/step - accuracy: 0.7897 - loss: 0.6281 - val_accuracy: 0.7798 - val_loss: 0.6597\n",
      "Epoch 74/200\n",
      "324/324 ━━━━━━━━━━━━━━━━━━━━ 15s 45ms/step - accuracy: 0.7997 - loss: 0.6115 - val_accuracy: 0.7886 - val_loss: 0.6667\n",
      "Epoch 75/200\n",
      "324/324 ━━━━━━━━━━━━━━━━━━━━ 21s 45ms/step - accuracy: 0.8059 - loss: 0.5958 - val_accuracy: 0.7974 - val_loss: 0.6350\n",
      "Epoch 76/200\n",
      "324/324 ━━━━━━━━━━━━━━━━━━━━ 13s 39ms/step - accuracy: 0.8001 - loss: 0.6018 - val_accuracy: 0.7930 - val_loss: 0.6628\n",
      "Epoch 77/200\n",
      "324/324 ━━━━━━━━━━━━━━━━━━━━ 18s 54ms/step - accuracy: 0.7968 - loss: 0.6115 - val_accuracy: 0.7755 - val_loss: 0.6970\n",
      "Epoch 78/200\n",
      "324/324 ━━━━━━━━━━━━━━━━━━━━ 14s 42ms/step - accuracy: 0.7988 - loss: 0.6097 - val_accuracy: 0.7985 - val_loss: 0.6422\n",
      "Epoch 79/200\n",
      "324/324 ━━━━━━━━━━━━━━━━━━━━ 15s 46ms/step - accuracy: 0.8043 - loss: 0.5951 - val_accuracy: 0.7804 - val_loss: 0.6766\n",
      "Epoch 80/200\n",
      "324/324 ━━━━━━━━━━━━━━━━━━━━ 13s 41ms/step - accuracy: 0.8050 - loss: 0.5943 - val_accuracy: 0.8012 - val_loss: 0.6285\n",
      "Epoch 81/200\n",
      "324/324 ━━━━━━━━━━━━━━━━━━━━ 15s 47ms/step - accuracy: 0.8101 - loss: 0.5821 - val_accuracy: 0.7908 - val_loss: 0.6614\n",
      "Epoch 82/200\n",
      "324/324 ━━━━━━━━━━━━━━━━━━━━ 13s 41ms/step - accuracy: 0.8096 - loss: 0.5927 - val_accuracy: 0.7886 - val_loss: 0.6405\n",
      "Epoch 83/200\n",
      "324/324 ━━━━━━━━━━━━━━━━━━━━ 13s 40ms/step - accuracy: 0.8097 - loss: 0.5795 - val_accuracy: 0.7897 - val_loss: 0.6539\n",
      "Epoch 84/200\n",
      "324/324 ━━━━━━━━━━━━━━━━━━━━ 25s 52ms/step - accuracy: 0.8046 - loss: 0.5997 - val_accuracy: 0.7979 - val_loss: 0.6317\n",
      "Epoch 85/200\n",
      "324/324 ━━━━━━━━━━━━━━━━━━━━ 12s 38ms/step - accuracy: 0.8134 - loss: 0.5721 - val_accuracy: 0.7913 - val_loss: 0.6576\n",
      "Epoch 86/200\n",
      "324/324 ━━━━━━━━━━━━━━━━━━━━ 13s 40ms/step - accuracy: 0.8193 - loss: 0.5550 - val_accuracy: 0.7952 - val_loss: 0.6480\n",
      "Epoch 87/200\n",
      "324/324 ━━━━━━━━━━━━━━━━━━━━ 12s 37ms/step - accuracy: 0.8107 - loss: 0.5727 - val_accuracy: 0.8050 - val_loss: 0.6394\n",
      "Epoch 88/200\n",
      "324/324 ━━━━━━━━━━━━━━━━━━━━ 13s 41ms/step - accuracy: 0.8103 - loss: 0.5702 - val_accuracy: 0.8028 - val_loss: 0.6423\n",
      "Epoch 89/200\n",
      "324/324 ━━━━━━━━━━━━━━━━━━━━ 17s 52ms/step - accuracy: 0.8096 - loss: 0.5776 - val_accuracy: 0.8023 - val_loss: 0.6147\n",
      "Epoch 90/200\n",
      "324/324 ━━━━━━━━━━━━━━━━━━━━ 19s 59ms/step - accuracy: 0.8063 - loss: 0.5832 - val_accuracy: 0.7886 - val_loss: 0.6493\n",
      "Epoch 91/200\n",
      "324/324 ━━━━━━━━━━━━━━━━━━━━ 19s 58ms/step - accuracy: 0.8131 - loss: 0.5623 - val_accuracy: 0.7908 - val_loss: 0.6609\n",
      "Epoch 92/200\n",
      "324/324 ━━━━━━━━━━━━━━━━━━━━ 19s 58ms/step - accuracy: 0.8142 - loss: 0.5660 - val_accuracy: 0.7831 - val_loss: 0.6757\n",
      "Epoch 93/200\n",
      "324/324 ━━━━━━━━━━━━━━━━━━━━ 12s 37ms/step - accuracy: 0.8156 - loss: 0.5613 - val_accuracy: 0.8105 - val_loss: 0.6193\n",
      "Epoch 94/200\n",
      "324/324 ━━━━━━━━━━━━━━━━━━━━ 13s 39ms/step - accuracy: 0.8126 - loss: 0.5696 - val_accuracy: 0.8039 - val_loss: 0.6563\n",
      "Epoch 95/200\n",
      "324/324 ━━━━━━━━━━━━━━━━━━━━ 14s 42ms/step - accuracy: 0.8151 - loss: 0.5652 - val_accuracy: 0.8001 - val_loss: 0.6184\n",
      "Epoch 96/200\n",
      "324/324 ━━━━━━━━━━━━━━━━━━━━ 17s 52ms/step - accuracy: 0.8157 - loss: 0.5621 - val_accuracy: 0.7924 - val_loss: 0.6499\n",
      "Epoch 97/200\n",
      "324/324 ━━━━━━━━━━━━━━━━━━━━ 14s 44ms/step - accuracy: 0.8124 - loss: 0.5727 - val_accuracy: 0.8143 - val_loss: 0.5983\n",
      "Epoch 98/200\n",
      "324/324 ━━━━━━━━━━━━━━━━━━━━ 19s 41ms/step - accuracy: 0.8123 - loss: 0.5612 - val_accuracy: 0.8045 - val_loss: 0.6153\n",
      "Epoch 99/200\n",
      "324/324 ━━━━━━━━━━━━━━━━━━━━ 21s 64ms/step - accuracy: 0.8251 - loss: 0.5360 - val_accuracy: 0.7946 - val_loss: 0.6388\n",
      "Epoch 100/200\n",
      "324/324 ━━━━━━━━━━━━━━━━━━━━ 20s 62ms/step - accuracy: 0.8242 - loss: 0.5389 - val_accuracy: 0.8111 - val_loss: 0.6300\n",
      "Epoch 101/200\n",
      "324/324 ━━━━━━━━━━━━━━━━━━━━ 17s 51ms/step - accuracy: 0.8213 - loss: 0.5476 - val_accuracy: 0.8067 - val_loss: 0.6288\n",
      "Epoch 102/200\n",
      "324/324 ━━━━━━━━━━━━━━━━━━━━ 16s 51ms/step - accuracy: 0.8225 - loss: 0.5449 - val_accuracy: 0.7968 - val_loss: 0.6654\n",
      "Epoch 103/200\n",
      "324/324 ━━━━━━━━━━━━━━━━━━━━ 14s 45ms/step - accuracy: 0.8265 - loss: 0.5348 - val_accuracy: 0.8122 - val_loss: 0.6448\n",
      "Epoch 104/200\n",
      "324/324 ━━━━━━━━━━━━━━━━━━━━ 14s 42ms/step - accuracy: 0.8276 - loss: 0.5302 - val_accuracy: 0.8034 - val_loss: 0.6429\n",
      "Epoch 105/200\n",
      "324/324 ━━━━━━━━━━━━━━━━━━━━ 14s 43ms/step - accuracy: 0.8173 - loss: 0.5551 - val_accuracy: 0.8105 - val_loss: 0.6255\n",
      "Epoch 106/200\n",
      "324/324 ━━━━━━━━━━━━━━━━━━━━ 14s 42ms/step - accuracy: 0.8256 - loss: 0.5384 - val_accuracy: 0.7985 - val_loss: 0.6547\n",
      "Epoch 107/200\n",
      "324/324 ━━━━━━━━━━━━━━━━━━━━ 14s 43ms/step - accuracy: 0.8216 - loss: 0.5351 - val_accuracy: 0.8028 - val_loss: 0.6598\n",
      "Epoch 108/200\n",
      "324/324 ━━━━━━━━━━━━━━━━━━━━ 14s 43ms/step - accuracy: 0.8268 - loss: 0.5322 - val_accuracy: 0.7919 - val_loss: 0.6850\n",
      "Epoch 109/200\n",
      "324/324 ━━━━━━━━━━━━━━━━━━━━ 14s 44ms/step - accuracy: 0.8309 - loss: 0.5307 - val_accuracy: 0.8034 - val_loss: 0.6265\n",
      "Epoch 110/200\n",
      "324/324 ━━━━━━━━━━━━━━━━━━━━ 14s 45ms/step - accuracy: 0.8329 - loss: 0.5129 - val_accuracy: 0.7974 - val_loss: 0.6800\n",
      "Epoch 111/200\n",
      "324/324 ━━━━━━━━━━━━━━━━━━━━ 14s 44ms/step - accuracy: 0.8200 - loss: 0.5460 - val_accuracy: 0.7859 - val_loss: 0.7079\n",
      "Epoch 112/200\n",
      "324/324 ━━━━━━━━━━━━━━━━━━━━ 14s 44ms/step - accuracy: 0.8222 - loss: 0.5346 - val_accuracy: 0.8105 - val_loss: 0.6450\n",
      "Epoch 113/200\n",
      "324/324 ━━━━━━━━━━━━━━━━━━━━ 21s 44ms/step - accuracy: 0.8278 - loss: 0.5361 - val_accuracy: 0.8160 - val_loss: 0.6326\n",
      "Epoch 114/200\n",
      "324/324 ━━━━━━━━━━━━━━━━━━━━ 15s 46ms/step - accuracy: 0.8356 - loss: 0.5079 - val_accuracy: 0.8078 - val_loss: 0.6166\n",
      "Epoch 115/200\n",
      "324/324 ━━━━━━━━━━━━━━━━━━━━ 14s 44ms/step - accuracy: 0.8315 - loss: 0.5262 - val_accuracy: 0.8100 - val_loss: 0.6437\n",
      "Epoch 116/200\n",
      "324/324 ━━━━━━━━━━━━━━━━━━━━ 15s 45ms/step - accuracy: 0.8327 - loss: 0.5165 - val_accuracy: 0.7930 - val_loss: 0.6944\n",
      "Epoch 117/200\n",
      "324/324 ━━━━━━━━━━━━━━━━━━━━ 15s 45ms/step - accuracy: 0.8330 - loss: 0.5157 - val_accuracy: 0.8094 - val_loss: 0.6020\n",
      "Epoch 118/200\n",
      "324/324 ━━━━━━━━━━━━━━━━━━━━ 19s 57ms/step - accuracy: 0.8262 - loss: 0.5279 - val_accuracy: 0.8067 - val_loss: 0.6471\n",
      "Epoch 119/200\n",
      "324/324 ━━━━━━━━━━━━━━━━━━━━ 15s 47ms/step - accuracy: 0.8289 - loss: 0.5263 - val_accuracy: 0.8089 - val_loss: 0.6136\n",
      "Epoch 120/200\n",
      "324/324 ━━━━━━━━━━━━━━━━━━━━ 19s 59ms/step - accuracy: 0.8316 - loss: 0.5187 - val_accuracy: 0.8100 - val_loss: 0.6218\n",
      "Epoch 121/200\n",
      "324/324 ━━━━━━━━━━━━━━━━━━━━ 20s 60ms/step - accuracy: 0.8313 - loss: 0.5170 - val_accuracy: 0.8034 - val_loss: 0.6671\n",
      "Epoch 122/200\n",
      "324/324 ━━━━━━━━━━━━━━━━━━━━ 18s 57ms/step - accuracy: 0.8300 - loss: 0.5296 - val_accuracy: 0.8122 - val_loss: 0.6269\n",
      "Epoch 123/200\n",
      "324/324 ━━━━━━━━━━━━━━━━━━━━ 15s 45ms/step - accuracy: 0.8356 - loss: 0.5082 - val_accuracy: 0.8133 - val_loss: 0.6072\n",
      "Epoch 124/200\n",
      "324/324 ━━━━━━━━━━━━━━━━━━━━ 21s 47ms/step - accuracy: 0.8376 - loss: 0.5058 - val_accuracy: 0.8171 - val_loss: 0.6392\n",
      "Epoch 125/200\n",
      "324/324 ━━━━━━━━━━━━━━━━━━━━ 15s 45ms/step - accuracy: 0.8367 - loss: 0.5083 - val_accuracy: 0.8018 - val_loss: 0.6493\n",
      "Epoch 126/200\n",
      "324/324 ━━━━━━━━━━━━━━━━━━━━ 15s 46ms/step - accuracy: 0.8341 - loss: 0.5022 - val_accuracy: 0.8182 - val_loss: 0.6238\n",
      "Epoch 127/200\n",
      "324/324 ━━━━━━━━━━━━━━━━━━━━ 15s 47ms/step - accuracy: 0.8334 - loss: 0.5192 - val_accuracy: 0.8182 - val_loss: 0.6152\n",
      "Epoch 128/200\n",
      "324/324 ━━━━━━━━━━━━━━━━━━━━ 15s 47ms/step - accuracy: 0.8425 - loss: 0.4874 - val_accuracy: 0.8160 - val_loss: 0.6319\n",
      "Epoch 129/200\n",
      "324/324 ━━━━━━━━━━━━━━━━━━━━ 15s 47ms/step - accuracy: 0.8367 - loss: 0.5036 - val_accuracy: 0.8193 - val_loss: 0.5995\n",
      "Epoch 130/200\n",
      "324/324 ━━━━━━━━━━━━━━━━━━━━ 16s 48ms/step - accuracy: 0.8388 - loss: 0.5063 - val_accuracy: 0.8133 - val_loss: 0.6195\n",
      "Epoch 131/200\n",
      "324/324 ━━━━━━━━━━━━━━━━━━━━ 15s 46ms/step - accuracy: 0.8347 - loss: 0.5009 - val_accuracy: 0.8193 - val_loss: 0.6167\n",
      "Epoch 132/200\n",
      "324/324 ━━━━━━━━━━━━━━━━━━━━ 16s 49ms/step - accuracy: 0.8336 - loss: 0.5018 - val_accuracy: 0.8193 - val_loss: 0.6134\n",
      "Epoch 133/200\n",
      "324/324 ━━━━━━━━━━━━━━━━━━━━ 16s 48ms/step - accuracy: 0.8352 - loss: 0.5110 - val_accuracy: 0.8215 - val_loss: 0.6063\n",
      "Epoch 134/200\n",
      "324/324 ━━━━━━━━━━━━━━━━━━━━ 15s 48ms/step - accuracy: 0.8429 - loss: 0.4837 - val_accuracy: 0.8023 - val_loss: 0.6342\n",
      "Epoch 135/200\n",
      "324/324 ━━━━━━━━━━━━━━━━━━━━ 16s 49ms/step - accuracy: 0.8420 - loss: 0.4981 - val_accuracy: 0.8067 - val_loss: 0.6509\n",
      "Epoch 136/200\n",
      "324/324 ━━━━━━━━━━━━━━━━━━━━ 16s 51ms/step - accuracy: 0.8458 - loss: 0.4787 - val_accuracy: 0.8061 - val_loss: 0.6363\n",
      "Epoch 137/200\n",
      "324/324 ━━━━━━━━━━━━━━━━━━━━ 16s 49ms/step - accuracy: 0.8337 - loss: 0.5116 - val_accuracy: 0.8165 - val_loss: 0.6278\n",
      "Epoch 138/200\n",
      "324/324 ━━━━━━━━━━━━━━━━━━━━ 18s 57ms/step - accuracy: 0.8380 - loss: 0.4968 - val_accuracy: 0.8138 - val_loss: 0.6371\n",
      "Epoch 139/200\n",
      "324/324 ━━━━━━━━━━━━━━━━━━━━ 18s 56ms/step - accuracy: 0.8359 - loss: 0.4985 - val_accuracy: 0.8154 - val_loss: 0.6332\n",
      "Epoch 140/200\n",
      "324/324 ━━━━━━━━━━━━━━━━━━━━ 17s 52ms/step - accuracy: 0.8428 - loss: 0.4906 - val_accuracy: 0.8143 - val_loss: 0.6493\n",
      "Epoch 141/200\n",
      "324/324 ━━━━━━━━━━━━━━━━━━━━ 18s 55ms/step - accuracy: 0.8496 - loss: 0.4711 - val_accuracy: 0.8209 - val_loss: 0.6164\n",
      "Epoch 142/200\n",
      "324/324 ━━━━━━━━━━━━━━━━━━━━ 18s 55ms/step - accuracy: 0.8447 - loss: 0.4897 - val_accuracy: 0.8269 - val_loss: 0.6060\n",
      "Epoch 143/200\n",
      "324/324 ━━━━━━━━━━━━━━━━━━━━ 18s 54ms/step - accuracy: 0.8374 - loss: 0.4959 - val_accuracy: 0.8133 - val_loss: 0.6615\n",
      "Epoch 144/200\n",
      "324/324 ━━━━━━━━━━━━━━━━━━━━ 18s 55ms/step - accuracy: 0.8425 - loss: 0.4903 - val_accuracy: 0.8187 - val_loss: 0.6241\n",
      "Epoch 145/200\n",
      "324/324 ━━━━━━━━━━━━━━━━━━━━ 20s 54ms/step - accuracy: 0.8425 - loss: 0.4900 - val_accuracy: 0.8083 - val_loss: 0.6572\n",
      "Epoch 146/200\n",
      "324/324 ━━━━━━━━━━━━━━━━━━━━ 18s 56ms/step - accuracy: 0.8449 - loss: 0.4750 - val_accuracy: 0.8094 - val_loss: 0.6286\n",
      "Epoch 147/200\n",
      "324/324 ━━━━━━━━━━━━━━━━━━━━ 18s 55ms/step - accuracy: 0.8388 - loss: 0.5010 - val_accuracy: 0.8187 - val_loss: 0.6126\n",
      "Epoch 148/200\n",
      "324/324 ━━━━━━━━━━━━━━━━━━━━ 18s 56ms/step - accuracy: 0.8471 - loss: 0.4887 - val_accuracy: 0.8100 - val_loss: 0.6416\n",
      "Epoch 149/200\n",
      "324/324 ━━━━━━━━━━━━━━━━━━━━ 18s 55ms/step - accuracy: 0.8453 - loss: 0.4810 - val_accuracy: 0.8171 - val_loss: 0.6366\n",
      "Epoch 150/200\n",
      "324/324 ━━━━━━━━━━━━━━━━━━━━ 18s 56ms/step - accuracy: 0.8453 - loss: 0.4752 - val_accuracy: 0.8182 - val_loss: 0.6313\n",
      "Epoch 151/200\n",
      "324/324 ━━━━━━━━━━━━━━━━━━━━ 18s 56ms/step - accuracy: 0.8506 - loss: 0.4648 - val_accuracy: 0.8116 - val_loss: 0.6482\n",
      "Epoch 152/200\n",
      "324/324 ━━━━━━━━━━━━━━━━━━━━ 18s 55ms/step - accuracy: 0.8496 - loss: 0.4695 - val_accuracy: 0.8193 - val_loss: 0.6221\n",
      "Epoch 153/200\n",
      "324/324 ━━━━━━━━━━━━━━━━━━━━ 18s 57ms/step - accuracy: 0.8480 - loss: 0.4607 - val_accuracy: 0.8269 - val_loss: 0.6216\n",
      "Epoch 154/200\n",
      "324/324 ━━━━━━━━━━━━━━━━━━━━ 18s 57ms/step - accuracy: 0.8542 - loss: 0.4618 - val_accuracy: 0.8165 - val_loss: 0.6313\n",
      "Epoch 155/200\n",
      "324/324 ━━━━━━━━━━━━━━━━━━━━ 18s 57ms/step - accuracy: 0.8442 - loss: 0.4837 - val_accuracy: 0.8127 - val_loss: 0.6062\n",
      "Epoch 156/200\n",
      "324/324 ━━━━━━━━━━━━━━━━━━━━ 18s 56ms/step - accuracy: 0.8493 - loss: 0.4701 - val_accuracy: 0.8154 - val_loss: 0.6467\n",
      "Epoch 157/200\n",
      "324/324 ━━━━━━━━━━━━━━━━━━━━ 18s 56ms/step - accuracy: 0.8497 - loss: 0.4704 - val_accuracy: 0.8143 - val_loss: 0.6595\n",
      "Epoch 158/200\n",
      "324/324 ━━━━━━━━━━━━━━━━━━━━ 18s 57ms/step - accuracy: 0.8472 - loss: 0.4716 - val_accuracy: 0.8187 - val_loss: 0.6131\n",
      "Epoch 159/200\n",
      "324/324 ━━━━━━━━━━━━━━━━━━━━ 18s 57ms/step - accuracy: 0.8451 - loss: 0.4756 - val_accuracy: 0.8231 - val_loss: 0.6322\n",
      "Epoch 160/200\n",
      "324/324 ━━━━━━━━━━━━━━━━━━━━ 18s 57ms/step - accuracy: 0.8477 - loss: 0.4729 - val_accuracy: 0.8149 - val_loss: 0.6454\n",
      "Epoch 161/200\n",
      "324/324 ━━━━━━━━━━━━━━━━━━━━ 18s 57ms/step - accuracy: 0.8539 - loss: 0.4512 - val_accuracy: 0.8072 - val_loss: 0.6568\n",
      "Epoch 162/200\n",
      "324/324 ━━━━━━━━━━━━━━━━━━━━ 19s 57ms/step - accuracy: 0.8502 - loss: 0.4669 - val_accuracy: 0.8176 - val_loss: 0.6342\n",
      "Epoch 163/200\n",
      "324/324 ━━━━━━━━━━━━━━━━━━━━ 19s 58ms/step - accuracy: 0.8476 - loss: 0.4768 - val_accuracy: 0.8149 - val_loss: 0.6599\n",
      "Epoch 164/200\n",
      "324/324 ━━━━━━━━━━━━━━━━━━━━ 20s 57ms/step - accuracy: 0.8562 - loss: 0.4523 - val_accuracy: 0.8231 - val_loss: 0.6232\n",
      "Epoch 165/200\n",
      "324/324 ━━━━━━━━━━━━━━━━━━━━ 19s 58ms/step - accuracy: 0.8483 - loss: 0.4697 - val_accuracy: 0.8204 - val_loss: 0.6277\n",
      "Epoch 166/200\n",
      "324/324 ━━━━━━━━━━━━━━━━━━━━ 19s 58ms/step - accuracy: 0.8516 - loss: 0.4591 - val_accuracy: 0.8143 - val_loss: 0.6469\n",
      "Epoch 167/200\n",
      "324/324 ━━━━━━━━━━━━━━━━━━━━ 19s 57ms/step - accuracy: 0.8491 - loss: 0.4586 - val_accuracy: 0.8215 - val_loss: 0.6184\n",
      "Epoch 168/200\n",
      "324/324 ━━━━━━━━━━━━━━━━━━━━ 19s 58ms/step - accuracy: 0.8531 - loss: 0.4581 - val_accuracy: 0.8094 - val_loss: 0.6526\n",
      "Epoch 169/200\n",
      "324/324 ━━━━━━━━━━━━━━━━━━━━ 19s 58ms/step - accuracy: 0.8485 - loss: 0.4649 - val_accuracy: 0.8018 - val_loss: 0.6910\n",
      "Epoch 170/200\n",
      "324/324 ━━━━━━━━━━━━━━━━━━━━ 19s 58ms/step - accuracy: 0.8437 - loss: 0.4864 - val_accuracy: 0.8100 - val_loss: 0.6748\n",
      "Epoch 171/200\n",
      "324/324 ━━━━━━━━━━━━━━━━━━━━ 20s 57ms/step - accuracy: 0.8492 - loss: 0.4665 - val_accuracy: 0.8242 - val_loss: 0.6326\n",
      "Epoch 172/200\n",
      "324/324 ━━━━━━━━━━━━━━━━━━━━ 19s 58ms/step - accuracy: 0.8513 - loss: 0.4662 - val_accuracy: 0.8171 - val_loss: 0.6418\n",
      "Epoch 173/200\n",
      "324/324 ━━━━━━━━━━━━━━━━━━━━ 19s 60ms/step - accuracy: 0.8543 - loss: 0.4618 - val_accuracy: 0.8264 - val_loss: 0.6556\n",
      "Epoch 174/200\n",
      "324/324 ━━━━━━━━━━━━━━━━━━━━ 19s 57ms/step - accuracy: 0.8565 - loss: 0.4557 - val_accuracy: 0.8209 - val_loss: 0.6154\n",
      "Epoch 175/200\n",
      "324/324 ━━━━━━━━━━━━━━━━━━━━ 19s 57ms/step - accuracy: 0.8503 - loss: 0.4658 - val_accuracy: 0.8231 - val_loss: 0.6351\n",
      "Epoch 176/200\n",
      "324/324 ━━━━━━━━━━━━━━━━━━━━ 19s 58ms/step - accuracy: 0.8538 - loss: 0.4488 - val_accuracy: 0.8138 - val_loss: 0.6623\n",
      "Epoch 177/200\n",
      "324/324 ━━━━━━━━━━━━━━━━━━━━ 19s 58ms/step - accuracy: 0.8586 - loss: 0.4444 - val_accuracy: 0.8182 - val_loss: 0.6661\n",
      "Epoch 178/200\n",
      "324/324 ━━━━━━━━━━━━━━━━━━━━ 19s 58ms/step - accuracy: 0.8597 - loss: 0.4424 - val_accuracy: 0.8280 - val_loss: 0.6247\n",
      "Epoch 179/200\n",
      "324/324 ━━━━━━━━━━━━━━━━━━━━ 19s 58ms/step - accuracy: 0.8477 - loss: 0.4705 - val_accuracy: 0.8176 - val_loss: 0.6072\n",
      "Epoch 180/200\n",
      "324/324 ━━━━━━━━━━━━━━━━━━━━ 19s 58ms/step - accuracy: 0.8550 - loss: 0.4583 - val_accuracy: 0.8231 - val_loss: 0.6249\n",
      "Epoch 181/200\n",
      "324/324 ━━━━━━━━━━━━━━━━━━━━ 19s 58ms/step - accuracy: 0.8552 - loss: 0.4453 - val_accuracy: 0.8143 - val_loss: 0.6411\n",
      "Epoch 182/200\n",
      "324/324 ━━━━━━━━━━━━━━━━━━━━ 19s 58ms/step - accuracy: 0.8539 - loss: 0.4542 - val_accuracy: 0.8253 - val_loss: 0.6251\n",
      "Epoch 183/200\n",
      "324/324 ━━━━━━━━━━━━━━━━━━━━ 19s 59ms/step - accuracy: 0.8529 - loss: 0.4489 - val_accuracy: 0.8127 - val_loss: 0.6658\n",
      "Epoch 184/200\n",
      "324/324 ━━━━━━━━━━━━━━━━━━━━ 19s 58ms/step - accuracy: 0.8584 - loss: 0.4404 - val_accuracy: 0.8122 - val_loss: 0.6515\n",
      "Epoch 185/200\n",
      "324/324 ━━━━━━━━━━━━━━━━━━━━ 19s 59ms/step - accuracy: 0.8571 - loss: 0.4534 - val_accuracy: 0.8237 - val_loss: 0.6506\n",
      "Epoch 186/200\n",
      "324/324 ━━━━━━━━━━━━━━━━━━━━ 19s 59ms/step - accuracy: 0.8573 - loss: 0.4407 - val_accuracy: 0.8248 - val_loss: 0.6431\n",
      "Epoch 187/200\n",
      "324/324 ━━━━━━━━━━━━━━━━━━━━ 19s 58ms/step - accuracy: 0.8569 - loss: 0.4500 - val_accuracy: 0.8116 - val_loss: 0.6462\n",
      "Epoch 188/200\n",
      "324/324 ━━━━━━━━━━━━━━━━━━━━ 19s 59ms/step - accuracy: 0.8545 - loss: 0.4548 - val_accuracy: 0.8248 - val_loss: 0.5972\n",
      "Epoch 189/200\n",
      "324/324 ━━━━━━━━━━━━━━━━━━━━ 19s 59ms/step - accuracy: 0.8519 - loss: 0.4606 - val_accuracy: 0.8143 - val_loss: 0.6485\n",
      "Epoch 190/200\n",
      "324/324 ━━━━━━━━━━━━━━━━━━━━ 19s 59ms/step - accuracy: 0.8581 - loss: 0.4443 - val_accuracy: 0.8171 - val_loss: 0.6647\n",
      "Epoch 191/200\n",
      "324/324 ━━━━━━━━━━━━━━━━━━━━ 19s 59ms/step - accuracy: 0.8577 - loss: 0.4433 - val_accuracy: 0.8253 - val_loss: 0.6142\n",
      "Epoch 192/200\n",
      "324/324 ━━━━━━━━━━━━━━━━━━━━ 19s 59ms/step - accuracy: 0.8633 - loss: 0.4392 - val_accuracy: 0.8122 - val_loss: 0.6753\n",
      "Epoch 193/200\n",
      "324/324 ━━━━━━━━━━━━━━━━━━━━ 19s 60ms/step - accuracy: 0.8584 - loss: 0.4395 - val_accuracy: 0.8220 - val_loss: 0.6669\n",
      "Epoch 194/200\n",
      "324/324 ━━━━━━━━━━━━━━━━━━━━ 19s 59ms/step - accuracy: 0.8549 - loss: 0.4505 - val_accuracy: 0.8286 - val_loss: 0.6380\n",
      "Epoch 195/200\n",
      "324/324 ━━━━━━━━━━━━━━━━━━━━ 19s 60ms/step - accuracy: 0.8553 - loss: 0.4522 - val_accuracy: 0.8242 - val_loss: 0.6387\n",
      "Epoch 196/200\n",
      "324/324 ━━━━━━━━━━━━━━━━━━━━ 19s 59ms/step - accuracy: 0.8602 - loss: 0.4398 - val_accuracy: 0.8116 - val_loss: 0.6821\n",
      "Epoch 197/200\n",
      "324/324 ━━━━━━━━━━━━━━━━━━━━ 19s 59ms/step - accuracy: 0.8553 - loss: 0.4457 - val_accuracy: 0.8083 - val_loss: 0.6549\n",
      "Epoch 198/200\n",
      "324/324 ━━━━━━━━━━━━━━━━━━━━ 20s 60ms/step - accuracy: 0.8555 - loss: 0.4604 - val_accuracy: 0.8269 - val_loss: 0.6367\n",
      "Epoch 199/200\n",
      "324/324 ━━━━━━━━━━━━━━━━━━━━ 19s 60ms/step - accuracy: 0.8579 - loss: 0.4432 - val_accuracy: 0.8231 - val_loss: 0.6402\n",
      "Epoch 200/200\n",
      "324/324 ━━━━━━━━━━━━━━━━━━━━ 19s 60ms/step - accuracy: 0.8618 - loss: 0.4303 - val_accuracy: 0.8209 - val_loss: 0.6343\n"
     ]
    }
   ],
   "source": [
    "# --------------------------------------------\n",
    "# Train final model on train+val with best params\n",
    "best_params = study.best_trial.params\n",
    "final_model = build_model(study.best_trial, input_dim=X_train.shape[1], n_classes=len(np.unique(y_encoded)))\n",
    "\n",
    "final_model.fit(X_train, y_train,\n",
    "                epochs=200,\n",
    "                batch_size=best_params[\"batch_size\"],\n",
    "                validation_split=0.15,\n",
    "                callbacks=[tf.keras.callbacks.EarlyStopping(monitor=\"val_loss\", patience=200, restore_best_weights=True)]\n",
    "               )\n",
    "\n",
    "# Save final model\n",
    "final_model.save(f\"{OUTPUT_DIR}/best_model.keras\")"
   ]
  },
  {
   "cell_type": "code",
   "execution_count": 19,
   "id": "6dc2986d-751b-4a81-b67e-d9adc1e4db32",
   "metadata": {},
   "outputs": [
    {
     "name": "stdout",
     "output_type": "stream",
     "text": [
      "96/96 ━━━━━━━━━━━━━━━━━━━━ 2s 14ms/step\n",
      "Test Accuracy: 0.8278015116661189\n",
      "Classification Report:\n",
      "              precision    recall  f1-score   support\n",
      "\n",
      "      Barley       0.70      0.70      0.70       264\n",
      "        Bean       0.75      0.85      0.80       261\n",
      "     Dagussa       0.87      0.97      0.91       254\n",
      "      Fallow       0.93      1.00      0.96       253\n",
      "       Maize       0.70      0.61      0.65       250\n",
      "  Niger seed       0.88      0.97      0.92       248\n",
      "         Pea       0.90      0.95      0.92       257\n",
      "      Potato       0.92      0.99      0.95       255\n",
      "  Red Pepper       0.89      1.00      0.94       253\n",
      "     Sorghum       0.92      0.98      0.95       252\n",
      "        Teff       0.65      0.38      0.48       252\n",
      "       Wheat       0.66      0.53      0.59       244\n",
      "\n",
      "    accuracy                           0.83      3043\n",
      "   macro avg       0.81      0.83      0.82      3043\n",
      "weighted avg       0.82      0.83      0.82      3043\n",
      "\n"
     ]
    }
   ],
   "source": [
    "# --------------------------------------------\n",
    "# Evaluate on test set\n",
    "y_pred = np.argmax(final_model.predict(X_test), axis=1)\n",
    "acc = accuracy_score(y_test, y_pred)\n",
    "report = classification_report(y_test, y_pred, target_names=le.classes_, output_dict=True)\n",
    "\n",
    "print(\"Test Accuracy:\", acc)\n",
    "print(\"Classification Report:\")\n",
    "print(classification_report(y_test, y_pred, target_names=le.classes_))"
   ]
  },
  {
   "cell_type": "code",
   "execution_count": 20,
   "id": "c4988181-09ae-4b93-bb12-3ab9adbb82f2",
   "metadata": {
    "scrolled": true
   },
   "outputs": [
    {
     "data": {
      "image/png": "[encoded data removed]",
      "text/plain": [
       "<Figure size 1000x800 with 2 Axes>"
      ]
     },
     "metadata": {},
     "output_type": "display_data"
    }
   ],
   "source": [
    "# Save metrics\n",
    "import json\n",
    "with open(f\"{OUTPUT_DIR}/test_metrics.json\", \"w\") as f:\n",
    "    json.dump({\"accuracy\": acc, \"report\": report}, f, indent=4)\n",
    "\n",
    "# Confusion matrix\n",
    "cm = confusion_matrix(y_test, y_pred)\n",
    "plt.figure(figsize=(10, 8))\n",
    "sns.heatmap(cm, annot=True, fmt=\"d\", cmap=\"Blues\", xticklabels=le.classes_, yticklabels=le.classes_)\n",
    "plt.ylabel(\"True\")\n",
    "plt.xlabel(\"Predicted\")\n",
    "plt.title(\"Confusion Matrix\")\n",
    "plt.show()"
   ]
  },
  {
   "cell_type": "code",
   "execution_count": 11,
   "id": "82fd6686-66bd-413c-8b5c-9604cd5a8d74",
   "metadata": {},
   "outputs": [
    {
     "data": {
      "application/vnd.plotly.v1+json": {
       "config": {
        "plotlyServerURL": "https://plot.ly"
       },
       "data": [
        {
         "cliponaxis": false,
         "hovertemplate": [
          "n_layers (IntDistribution): 0.01127991018979128<extra></extra>",
          "l2_reg (FloatDistribution): 0.015546064652177899<extra></extra>",
          "l1_reg (FloatDistribution): 0.01665376162548099<extra></extra>",
          "units_l0 (CategoricalDistribution): 0.02145900794694692<extra></extra>",
          "batchnorm_l0 (CategoricalDistribution): 0.022024574621951586<extra></extra>",
          "loss (CategoricalDistribution): 0.04107505434515851<extra></extra>",
          "activation_l0 (CategoricalDistribution): 0.051503952172929315<extra></extra>",
          "batch_size (CategoricalDistribution): 0.10891280319067115<extra></extra>",
          "dropout_l0 (FloatDistribution): 0.14624734553901303<extra></extra>",
          "optimizer (CategoricalDistribution): 0.2314906163313425<extra></extra>",
          "lr (FloatDistribution): 0.3338069093845367<extra></extra>"
         ],
         "name": "Objective Value",
         "orientation": "h",
         "text": [
          "0.01",
          "0.02",
          "0.02",
          "0.02",
          "0.02",
          "0.04",
          "0.05",
          "0.11",
          "0.15",
          "0.23",
          "0.33"
         ],
         "textposition": "outside",
         "type": "bar",
         "x": [
          0.01127991018979128,
          0.015546064652177899,
          0.01665376162548099,
          0.02145900794694692,
          0.022024574621951586,
          0.04107505434515851,
          0.051503952172929315,
          0.10891280319067115,
          0.14624734553901303,
          0.2314906163313425,
          0.3338069093845367
         ],
         "y": [
          "n_layers",
          "l2_reg",
          "l1_reg",
          "units_l0",
          "batchnorm_l0",
          "loss",
          "activation_l0",
          "batch_size",
          "dropout_l0",
          "optimizer",
          "lr"
         ]
        }
       ],
       "layout": {
        "template": {
         "data": {
          "bar": [
           {
            "error_x": {
             "color": "#2a3f5f"
            },
            "error_y": {
             "color": "#2a3f5f"
            },
            "marker": {
             "line": {
              "color": "#E5ECF6",
              "width": 0.5
             },
             "pattern": {
              "fillmode": "overlay",
              "size": 10,
              "solidity": 0.2
             }
            },
            "type": "bar"
           }
          ],
          "barpolar": [
           {
            "marker": {
             "line": {
              "color": "#E5ECF6",
              "width": 0.5
             },
             "pattern": {
              "fillmode": "overlay",
              "size": 10,
              "solidity": 0.2
             }
            },
            "type": "barpolar"
           }
          ],
          "carpet": [
           {
            "aaxis": {
             "endlinecolor": "#2a3f5f",
             "gridcolor": "white",
             "linecolor": "white",
             "minorgridcolor": "white",
             "startlinecolor": "#2a3f5f"
            },
            "baxis": {
             "endlinecolor": "#2a3f5f",
             "gridcolor": "white",
             "linecolor": "white",
             "minorgridcolor": "white",
             "startlinecolor": "#2a3f5f"
            },
            "type": "carpet"
           }
          ],
          "choropleth": [
           {
            "colorbar": {
             "outlinewidth": 0,
             "ticks": ""
            },
            "type": "choropleth"
           }
          ],
          "contour": [
           {
            "colorbar": {
             "outlinewidth": 0,
             "ticks": ""
            },
            "colorscale": [
             [
              0,
              "#0d0887"
             ],
             [
              0.1111111111111111,
              "#46039f"
             ],
             [
              0.2222222222222222,
              "#7201a8"
             ],
             [
              0.3333333333333333,
              "#9c179e"
             ],
             [
              0.4444444444444444,
              "#bd3786"
             ],
             [
              0.5555555555555556,
              "#d8576b"
             ],
             [
              0.6666666666666666,
              "#ed7953"
             ],
             [
              0.7777777777777778,
              "#fb9f3a"
             ],
             [
              0.8888888888888888,
              "#fdca26"
             ],
             [
              1,
              "#f0f921"
             ]
            ],
            "type": "contour"
           }
          ],
          "contourcarpet": [
           {
            "colorbar": {
             "outlinewidth": 0,
             "ticks": ""
            },
            "type": "contourcarpet"
           }
          ],
          "heatmap": [
           {
            "colorbar": {
             "outlinewidth": 0,
             "ticks": ""
            },
            "colorscale": [
             [
              0,
              "#0d0887"
             ],
             [
              0.1111111111111111,
              "#46039f"
             ],
             [
              0.2222222222222222,
              "#7201a8"
             ],
             [
              0.3333333333333333,
              "#9c179e"
             ],
             [
              0.4444444444444444,
              "#bd3786"
             ],
             [
              0.5555555555555556,
              "#d8576b"
             ],
             [
              0.6666666666666666,
              "#ed7953"
             ],
             [
              0.7777777777777778,
              "#fb9f3a"
             ],
             [
              0.8888888888888888,
              "#fdca26"
             ],
             [
              1,
              "#f0f921"
             ]
            ],
            "type": "heatmap"
           }
          ],
          "histogram": [
           {
            "marker": {
             "pattern": {
              "fillmode": "overlay",
              "size": 10,
              "solidity": 0.2
             }
            },
            "type": "histogram"
           }
          ],
          "histogram2d": [
           {
            "colorbar": {
             "outlinewidth": 0,
             "ticks": ""
            },
            "colorscale": [
             [
              0,
              "#0d0887"
             ],
             [
              0.1111111111111111,
              "#46039f"
             ],
             [
              0.2222222222222222,
              "#7201a8"
             ],
             [
              0.3333333333333333,
              "#9c179e"
             ],
             [
              0.4444444444444444,
              "#bd3786"
             ],
             [
              0.5555555555555556,
              "#d8576b"
             ],
             [
              0.6666666666666666,
              "#ed7953"
             ],
             [
              0.7777777777777778,
              "#fb9f3a"
             ],
             [
              0.8888888888888888,
              "#fdca26"
             ],
             [
              1,
              "#f0f921"
             ]
            ],
            "type": "histogram2d"
           }
          ],
          "histogram2dcontour": [
           {
            "colorbar": {
             "outlinewidth": 0,
             "ticks": ""
            },
            "colorscale": [
             [
              0,
              "#0d0887"
             ],
             [
              0.1111111111111111,
              "#46039f"
             ],
             [
              0.2222222222222222,
              "#7201a8"
             ],
             [
              0.3333333333333333,
              "#9c179e"
             ],
             [
              0.4444444444444444,
              "#bd3786"
             ],
             [
              0.5555555555555556,
              "#d8576b"
             ],
             [
              0.6666666666666666,
              "#ed7953"
             ],
             [
              0.7777777777777778,
              "#fb9f3a"
             ],
             [
              0.8888888888888888,
              "#fdca26"
             ],
             [
              1,
              "#f0f921"
             ]
            ],
            "type": "histogram2dcontour"
           }
          ],
          "mesh3d": [
           {
            "colorbar": {
             "outlinewidth": 0,
             "ticks": ""
            },
            "type": "mesh3d"
           }
          ],
          "parcoords": [
           {
            "line": {
             "colorbar": {
              "outlinewidth": 0,
              "ticks": ""
             }
            },
            "type": "parcoords"
           }
          ],
          "pie": [
           {
            "automargin": true,
            "type": "pie"
           }
          ],
          "scatter": [
           {
            "fillpattern": {
             "fillmode": "overlay",
             "size": 10,
             "solidity": 0.2
            },
            "type": "scatter"
           }
          ],
          "scatter3d": [
           {
            "line": {
             "colorbar": {
              "outlinewidth": 0,
              "ticks": ""
             }
            },
            "marker": {
             "colorbar": {
              "outlinewidth": 0,
              "ticks": ""
             }
            },
            "type": "scatter3d"
           }
          ],
          "scattercarpet": [
           {
            "marker": {
             "colorbar": {
              "outlinewidth": 0,
              "ticks": ""
             }
            },
            "type": "scattercarpet"
           }
          ],
          "scattergeo": [
           {
            "marker": {
             "colorbar": {
              "outlinewidth": 0,
              "ticks": ""
             }
            },
            "type": "scattergeo"
           }
          ],
          "scattergl": [
           {
            "marker": {
             "colorbar": {
              "outlinewidth": 0,
              "ticks": ""
             }
            },
            "type": "scattergl"
           }
          ],
          "scattermap": [
           {
            "marker": {
             "colorbar": {
              "outlinewidth": 0,
              "ticks": ""
             }
            },
            "type": "scattermap"
           }
          ],
          "scattermapbox": [
           {
            "marker": {
             "colorbar": {
              "outlinewidth": 0,
              "ticks": ""
             }
            },
            "type": "scattermapbox"
           }
          ],
          "scatterpolar": [
           {
            "marker": {
             "colorbar": {
              "outlinewidth": 0,
              "ticks": ""
             }
            },
            "type": "scatterpolar"
           }
          ],
          "scatterpolargl": [
           {
            "marker": {
             "colorbar": {
              "outlinewidth": 0,
              "ticks": ""
             }
            },
            "type": "scatterpolargl"
           }
          ],
          "scatterternary": [
           {
            "marker": {
             "colorbar": {
              "outlinewidth": 0,
              "ticks": ""
             }
            },
            "type": "scatterternary"
           }
          ],
          "surface": [
           {
            "colorbar": {
             "outlinewidth": 0,
             "ticks": ""
            },
            "colorscale": [
             [
              0,
              "#0d0887"
             ],
             [
              0.1111111111111111,
              "#46039f"
             ],
             [
              0.2222222222222222,
              "#7201a8"
             ],
             [
              0.3333333333333333,
              "#9c179e"
             ],
             [
              0.4444444444444444,
              "#bd3786"
             ],
             [
              0.5555555555555556,
              "#d8576b"
             ],
             [
              0.6666666666666666,
              "#ed7953"
             ],
             [
              0.7777777777777778,
              "#fb9f3a"
             ],
             [
              0.8888888888888888,
              "#fdca26"
             ],
             [
              1,
              "#f0f921"
             ]
            ],
            "type": "surface"
           }
          ],
          "table": [
           {
            "cells": {
             "fill": {
              "color": "#EBF0F8"
             },
             "line": {
              "color": "white"
             }
            },
            "header": {
             "fill": {
              "color": "#C8D4E3"
             },
             "line": {
              "color": "white"
             }
            },
            "type": "table"
           }
          ]
         },
         "layout": {
          "annotationdefaults": {
           "arrowcolor": "#2a3f5f",
           "arrowhead": 0,
           "arrowwidth": 1
          },
          "autotypenumbers": "strict",
          "coloraxis": {
           "colorbar": {
            "outlinewidth": 0,
            "ticks": ""
           }
          },
          "colorscale": {
           "diverging": [
            [
             0,
             "#8e0152"
            ],
            [
             0.1,
             "#c51b7d"
            ],
            [
             0.2,
             "#de77ae"
            ],
            [
             0.3,
             "#f1b6da"
            ],
            [
             0.4,
             "#fde0ef"
            ],
            [
             0.5,
             "#f7f7f7"
            ],
            [
             0.6,
             "#e6f5d0"
            ],
            [
             0.7,
             "#b8e186"
            ],
            [
             0.8,
             "#7fbc41"
            ],
            [
             0.9,
             "#4d9221"
            ],
            [
             1,
             "#276419"
            ]
           ],
           "sequential": [
            [
             0,
             "#0d0887"
            ],
            [
             0.1111111111111111,
             "#46039f"
            ],
            [
             0.2222222222222222,
             "#7201a8"
            ],
            [
             0.3333333333333333,
             "#9c179e"
            ],
            [
             0.4444444444444444,
             "#bd3786"
            ],
            [
             0.5555555555555556,
             "#d8576b"
            ],
            [
             0.6666666666666666,
             "#ed7953"
            ],
            [
             0.7777777777777778,
             "#fb9f3a"
            ],
            [
             0.8888888888888888,
             "#fdca26"
            ],
            [
             1,
             "#f0f921"
            ]
           ],
           "sequentialminus": [
            [
             0,
             "#0d0887"
            ],
            [
             0.1111111111111111,
             "#46039f"
            ],
            [
             0.2222222222222222,
             "#7201a8"
            ],
            [
             0.3333333333333333,
             "#9c179e"
            ],
            [
             0.4444444444444444,
             "#bd3786"
            ],
            [
             0.5555555555555556,
             "#d8576b"
            ],
            [
             0.6666666666666666,
             "#ed7953"
            ],
            [
             0.7777777777777778,
             "#fb9f3a"
            ],
            [
             0.8888888888888888,
             "#fdca26"
            ],
            [
             1,
             "#f0f921"
            ]
           ]
          },
          "colorway": [
           "#636efa",
           "#EF553B",
           "#00cc96",
           "#ab63fa",
           "#FFA15A",
           "#19d3f3",
           "#FF6692",
           "#B6E880",
           "#FF97FF",
           "#FECB52"
          ],
          "font": {
           "color": "#2a3f5f"
          },
          "geo": {
           "bgcolor": "white",
           "lakecolor": "white",
           "landcolor": "#E5ECF6",
           "showlakes": true,
           "showland": true,
           "subunitcolor": "white"
          },
          "hoverlabel": {
           "align": "left"
          },
          "hovermode": "closest",
          "mapbox": {
           "style": "light"
          },
          "paper_bgcolor": "white",
          "plot_bgcolor": "#E5ECF6",
          "polar": {
           "angularaxis": {
            "gridcolor": "white",
            "linecolor": "white",
            "ticks": ""
           },
           "bgcolor": "#E5ECF6",
           "radialaxis": {
            "gridcolor": "white",
            "linecolor": "white",
            "ticks": ""
           }
          },
          "scene": {
           "xaxis": {
            "backgroundcolor": "#E5ECF6",
            "gridcolor": "white",
            "gridwidth": 2,
            "linecolor": "white",
            "showbackground": true,
            "ticks": "",
            "zerolinecolor": "white"
           },
           "yaxis": {
            "backgroundcolor": "#E5ECF6",
            "gridcolor": "white",
            "gridwidth": 2,
            "linecolor": "white",
            "showbackground": true,
            "ticks": "",
            "zerolinecolor": "white"
           },
           "zaxis": {
            "backgroundcolor": "#E5ECF6",
            "gridcolor": "white",
            "gridwidth": 2,
            "linecolor": "white",
            "showbackground": true,
            "ticks": "",
            "zerolinecolor": "white"
           }
          },
          "shapedefaults": {
           "line": {
            "color": "#2a3f5f"
           }
          },
          "ternary": {
           "aaxis": {
            "gridcolor": "white",
            "linecolor": "white",
            "ticks": ""
           },
           "baxis": {
            "gridcolor": "white",
            "linecolor": "white",
            "ticks": ""
           },
           "bgcolor": "#E5ECF6",
           "caxis": {
            "gridcolor": "white",
            "linecolor": "white",
            "ticks": ""
           }
          },
          "title": {
           "x": 0.05
          },
          "xaxis": {
           "automargin": true,
           "gridcolor": "white",
           "linecolor": "white",
           "ticks": "",
           "title": {
            "standoff": 15
           },
           "zerolinecolor": "white",
           "zerolinewidth": 2
          },
          "yaxis": {
           "automargin": true,
           "gridcolor": "white",
           "linecolor": "white",
           "ticks": "",
           "title": {
            "standoff": 15
           },
           "zerolinecolor": "white",
           "zerolinewidth": 2
          }
         }
        },
        "title": {
         "text": "Hyperparameter Importances"
        },
        "xaxis": {
         "title": {
          "text": "Hyperparameter Importance"
         }
        },
        "yaxis": {
         "title": {
          "text": "Hyperparameter"
         }
        }
       }
      },
      "image/png": "[encoded data removed]"
     },
     "metadata": {},
     "output_type": "display_data"
    }
   ],
   "source": [
    "# Optuna visualization\n",
    "optuna.visualization.plot_param_importances(study)"
   ]
  },
  {
   "cell_type": "code",
   "execution_count": 14,
   "id": "3bcdd347-13c1-49ed-8e1a-f0ae6668ac74",
   "metadata": {},
   "outputs": [
    {
     "data": {
      "text/plain": [
       "['artifacts/study.pkl']"
      ]
     },
     "execution_count": 14,
     "metadata": {},
     "output_type": "execute_result"
    }
   ],
   "source": [
    "joblib.dump(study, f\"{OUTPUT_DIR}/study.pkl\")"
   ]
  },
  {
   "cell_type": "code",
   "execution_count": 16,
   "id": "d6dfaeb3-9ddd-48fd-9929-812d3e390b9a",
   "metadata": {},
   "outputs": [
    {
     "data": {
      "text/plain": [
       "<optuna.study.study.Study at 0x1f3595ffa10>"
      ]
     },
     "execution_count": 16,
     "metadata": {},
     "output_type": "execute_result"
    }
   ],
   "source": [
    "study"
   ]
  },
  {
   "cell_type": "code",
   "execution_count": 22,
   "id": "1db05b13-6086-4f88-b12e-ceb62eb2e960",
   "metadata": {},
   "outputs": [],
   "source": [
    "import tensorflow as tf\n",
    "from tensorflow.keras import layers, regularizers, optimizers, Sequential\n",
    "\n",
    "def build_fixed_model(input_dim, n_classes):\n",
    "    model = Sequential()\n",
    "    model.add(layers.Input(shape=(input_dim,)))\n",
    "    \n",
    "    for _ in range(5):  # 5 hidden layers\n",
    "        model.add(layers.Dense(\n",
    "            512, \n",
    "            activation=\"tanh\",\n",
    "            kernel_regularizer=regularizers.l2(2.3e-6)\n",
    "        ))\n",
    "        model.add(layers.Dropout(0.055))\n",
    "    \n",
    "    model.add(layers.Dense(n_classes, activation=\"softmax\"))\n",
    "\n",
    "    optimizer = optimizers.Adam(learning_rate=2e-4)\n",
    "\n",
    "    model.compile(optimizer=optimizer,\n",
    "                  loss=\"categorical_crossentropy\",\n",
    "                  metrics=[\"accuracy\"])\n",
    "    return model\n"
   ]
  },
  {
   "cell_type": "code",
   "execution_count": 39,
   "id": "e17fbd6e-aeaa-4a4a-9b4c-d80b7685e87e",
   "metadata": {
    "scrolled": true
   },
   "outputs": [
    {
     "name": "stdout",
     "output_type": "stream",
     "text": [
      "Epoch 1/500\n",
      "1370/1370 ━━━━━━━━━━━━━━━━━━━━ 46s 30ms/step - accuracy: 0.3765 - loss: 1.8719 - val_accuracy: 0.4097 - val_loss: 1.8372\n",
      "Epoch 2/500\n",
      "1370/1370 ━━━━━━━━━━━━━━━━━━━━ 40s 29ms/step - accuracy: 0.4433 - loss: 1.6640 - val_accuracy: 0.4704 - val_loss: 1.5414\n",
      "Epoch 3/500\n",
      "1370/1370 ━━━━━━━━━━━━━━━━━━━━ 40s 29ms/step - accuracy: 0.5313 - loss: 1.3916 - val_accuracy: 0.5673 - val_loss: 1.2840\n",
      "Epoch 4/500\n",
      "1370/1370 ━━━━━━━━━━━━━━━━━━━━ 40s 29ms/step - accuracy: 0.6101 - loss: 1.1691 - val_accuracy: 0.6117 - val_loss: 1.1371\n",
      "Epoch 5/500\n",
      "1370/1370 ━━━━━━━━━━━━━━━━━━━━ 41s 30ms/step - accuracy: 0.6600 - loss: 1.0096 - val_accuracy: 0.6519 - val_loss: 1.0064\n",
      "Epoch 6/500\n",
      "1370/1370 ━━━━━━━━━━━━━━━━━━━━ 41s 30ms/step - accuracy: 0.7022 - loss: 0.8900 - val_accuracy: 0.6798 - val_loss: 0.9609\n",
      "Epoch 7/500\n",
      "1370/1370 ━━━━━━━━━━━━━━━━━━━━ 41s 30ms/step - accuracy: 0.7353 - loss: 0.7895 - val_accuracy: 0.7184 - val_loss: 0.8456\n",
      "Epoch 8/500\n",
      "1370/1370 ━━━━━━━━━━━━━━━━━━━━ 41s 30ms/step - accuracy: 0.7509 - loss: 0.7290 - val_accuracy: 0.7241 - val_loss: 0.8091\n",
      "Epoch 9/500\n",
      "1370/1370 ━━━━━━━━━━━━━━━━━━━━ 42s 30ms/step - accuracy: 0.7807 - loss: 0.6473 - val_accuracy: 0.7274 - val_loss: 0.7863\n",
      "Epoch 10/500\n",
      "1370/1370 ━━━━━━━━━━━━━━━━━━━━ 41s 30ms/step - accuracy: 0.7975 - loss: 0.5928 - val_accuracy: 0.7627 - val_loss: 0.7243\n",
      "Epoch 11/500\n",
      "1370/1370 ━━━━━━━━━━━━━━━━━━━━ 42s 30ms/step - accuracy: 0.8125 - loss: 0.5453 - val_accuracy: 0.7635 - val_loss: 0.7017\n",
      "Epoch 12/500\n",
      "1370/1370 ━━━━━━━━━━━━━━━━━━━━ 46s 33ms/step - accuracy: 0.8295 - loss: 0.5014 - val_accuracy: 0.7611 - val_loss: 0.7146\n",
      "Epoch 13/500\n",
      "1370/1370 ━━━━━━━━━━━━━━━━━━━━ 78s 30ms/step - accuracy: 0.8390 - loss: 0.4696 - val_accuracy: 0.7816 - val_loss: 0.6678\n",
      "Epoch 14/500\n",
      "1370/1370 ━━━━━━━━━━━━━━━━━━━━ 42s 30ms/step - accuracy: 0.8524 - loss: 0.4307 - val_accuracy: 0.7906 - val_loss: 0.6463\n",
      "Epoch 15/500\n",
      "1370/1370 ━━━━━━━━━━━━━━━━━━━━ 42s 31ms/step - accuracy: 0.8663 - loss: 0.3954 - val_accuracy: 0.7964 - val_loss: 0.6292\n",
      "Epoch 16/500\n",
      "1370/1370 ━━━━━━━━━━━━━━━━━━━━ 42s 30ms/step - accuracy: 0.8704 - loss: 0.3749 - val_accuracy: 0.8054 - val_loss: 0.6216\n",
      "Epoch 17/500\n",
      "1370/1370 ━━━━━━━━━━━━━━━━━━━━ 42s 31ms/step - accuracy: 0.8898 - loss: 0.3399 - val_accuracy: 0.7931 - val_loss: 0.6265\n",
      "Epoch 18/500\n",
      "1370/1370 ━━━━━━━━━━━━━━━━━━━━ 42s 31ms/step - accuracy: 0.8933 - loss: 0.3203 - val_accuracy: 0.8038 - val_loss: 0.6102\n",
      "Epoch 19/500\n",
      "1370/1370 ━━━━━━━━━━━━━━━━━━━━ 44s 32ms/step - accuracy: 0.8950 - loss: 0.3036 - val_accuracy: 0.8169 - val_loss: 0.5958\n",
      "Epoch 20/500\n",
      "1370/1370 ━━━━━━━━━━━━━━━━━━━━ 43s 31ms/step - accuracy: 0.9042 - loss: 0.2877 - val_accuracy: 0.8095 - val_loss: 0.6121\n",
      "Epoch 21/500\n",
      "1370/1370 ━━━━━━━━━━━━━━━━━━━━ 43s 31ms/step - accuracy: 0.9142 - loss: 0.2596 - val_accuracy: 0.8112 - val_loss: 0.6265\n",
      "Epoch 22/500\n",
      "1370/1370 ━━━━━━━━━━━━━━━━━━━━ 43s 32ms/step - accuracy: 0.9147 - loss: 0.2486 - val_accuracy: 0.8227 - val_loss: 0.5953\n",
      "Epoch 23/500\n",
      "1370/1370 ━━━━━━━━━━━━━━━━━━━━ 43s 31ms/step - accuracy: 0.9205 - loss: 0.2390 - val_accuracy: 0.7980 - val_loss: 0.6450\n",
      "Epoch 24/500\n",
      "1370/1370 ━━━━━━━━━━━━━━━━━━━━ 43s 31ms/step - accuracy: 0.9251 - loss: 0.2272 - val_accuracy: 0.8243 - val_loss: 0.5918\n",
      "Epoch 25/500\n",
      "1370/1370 ━━━━━━━━━━━━━━━━━━━━ 43s 31ms/step - accuracy: 0.9292 - loss: 0.2162 - val_accuracy: 0.8128 - val_loss: 0.6217\n",
      "Epoch 26/500\n",
      "1370/1370 ━━━━━━━━━━━━━━━━━━━━ 44s 32ms/step - accuracy: 0.9317 - loss: 0.2026 - val_accuracy: 0.8251 - val_loss: 0.6289\n",
      "Epoch 27/500\n",
      "1370/1370 ━━━━━━━━━━━━━━━━━━━━ 44s 32ms/step - accuracy: 0.9394 - loss: 0.1909 - val_accuracy: 0.8333 - val_loss: 0.6105\n",
      "Epoch 28/500\n",
      "1370/1370 ━━━━━━━━━━━━━━━━━━━━ 44s 32ms/step - accuracy: 0.9429 - loss: 0.1826 - val_accuracy: 0.8161 - val_loss: 0.6352\n",
      "Epoch 29/500\n",
      "1370/1370 ━━━━━━━━━━━━━━━━━━━━ 44s 32ms/step - accuracy: 0.9443 - loss: 0.1764 - val_accuracy: 0.8342 - val_loss: 0.6465\n",
      "Epoch 30/500\n",
      "1370/1370 ━━━━━━━━━━━━━━━━━━━━ 44s 32ms/step - accuracy: 0.9489 - loss: 0.1681 - val_accuracy: 0.8325 - val_loss: 0.6264\n",
      "Epoch 31/500\n",
      "1370/1370 ━━━━━━━━━━━━━━━━━━━━ 45s 32ms/step - accuracy: 0.9473 - loss: 0.1612 - val_accuracy: 0.8251 - val_loss: 0.6645\n",
      "Epoch 32/500\n",
      "1370/1370 ━━━━━━━━━━━━━━━━━━━━ 44s 32ms/step - accuracy: 0.9502 - loss: 0.1601 - val_accuracy: 0.8333 - val_loss: 0.6299\n",
      "Epoch 33/500\n",
      "1370/1370 ━━━━━━━━━━━━━━━━━━━━ 45s 32ms/step - accuracy: 0.9542 - loss: 0.1526 - val_accuracy: 0.8292 - val_loss: 0.6581\n",
      "Epoch 34/500\n",
      "1370/1370 ━━━━━━━━━━━━━━━━━━━━ 45s 33ms/step - accuracy: 0.9538 - loss: 0.1427 - val_accuracy: 0.8366 - val_loss: 0.6502\n",
      "Epoch 35/500\n",
      "1370/1370 ━━━━━━━━━━━━━━━━━━━━ 45s 33ms/step - accuracy: 0.9547 - loss: 0.1432 - val_accuracy: 0.8333 - val_loss: 0.6829\n",
      "Epoch 36/500\n",
      "1370/1370 ━━━━━━━━━━━━━━━━━━━━ 45s 33ms/step - accuracy: 0.9607 - loss: 0.1378 - val_accuracy: 0.8358 - val_loss: 0.6961\n",
      "Epoch 37/500\n",
      "1370/1370 ━━━━━━━━━━━━━━━━━━━━ 45s 33ms/step - accuracy: 0.9560 - loss: 0.1419 - val_accuracy: 0.8391 - val_loss: 0.6746\n",
      "Epoch 38/500\n",
      "1370/1370 ━━━━━━━━━━━━━━━━━━━━ 46s 33ms/step - accuracy: 0.9616 - loss: 0.1320 - val_accuracy: 0.8227 - val_loss: 0.7057\n",
      "Epoch 39/500\n",
      "1370/1370 ━━━━━━━━━━━━━━━━━━━━ 46s 33ms/step - accuracy: 0.9593 - loss: 0.1314 - val_accuracy: 0.8407 - val_loss: 0.6509\n",
      "Epoch 40/500\n",
      "1370/1370 ━━━━━━━━━━━━━━━━━━━━ 46s 33ms/step - accuracy: 0.9630 - loss: 0.1260 - val_accuracy: 0.8424 - val_loss: 0.6676\n",
      "Epoch 41/500\n",
      "1370/1370 ━━━━━━━━━━━━━━━━━━━━ 46s 34ms/step - accuracy: 0.9659 - loss: 0.1175 - val_accuracy: 0.8440 - val_loss: 0.6664\n",
      "Epoch 42/500\n",
      "1370/1370 ━━━━━━━━━━━━━━━━━━━━ 46s 34ms/step - accuracy: 0.9666 - loss: 0.1177 - val_accuracy: 0.8300 - val_loss: 0.7141\n",
      "Epoch 43/500\n",
      "1370/1370 ━━━━━━━━━━━━━━━━━━━━ 46s 34ms/step - accuracy: 0.9678 - loss: 0.1135 - val_accuracy: 0.8374 - val_loss: 0.7094\n",
      "Epoch 44/500\n",
      "1370/1370 ━━━━━━━━━━━━━━━━━━━━ 47s 34ms/step - accuracy: 0.9700 - loss: 0.1100 - val_accuracy: 0.8383 - val_loss: 0.7386\n",
      "Epoch 45/500\n",
      "1370/1370 ━━━━━━━━━━━━━━━━━━━━ 47s 34ms/step - accuracy: 0.9676 - loss: 0.1129 - val_accuracy: 0.8399 - val_loss: 0.7210\n",
      "Epoch 46/500\n",
      "1370/1370 ━━━━━━━━━━━━━━━━━━━━ 47s 34ms/step - accuracy: 0.9650 - loss: 0.1138 - val_accuracy: 0.8358 - val_loss: 0.6771\n",
      "Epoch 47/500\n",
      "1370/1370 ━━━━━━━━━━━━━━━━━━━━ 48s 35ms/step - accuracy: 0.9689 - loss: 0.1080 - val_accuracy: 0.8489 - val_loss: 0.6645\n",
      "Epoch 48/500\n",
      "1370/1370 ━━━━━━━━━━━━━━━━━━━━ 65s 47ms/step - accuracy: 0.9725 - loss: 0.0985 - val_accuracy: 0.8432 - val_loss: 0.7020\n",
      "Epoch 49/500\n",
      " 201/1370 "
     ]
    },
    {
     "ename": "KeyboardInterrupt",
     "evalue": "",
     "output_type": "error",
     "traceback": [
      "\u001b[31m---------------------------------------------------------------------------\u001b[39m",
      "\u001b[31mKeyboardInterrupt\u001b[39m                         Traceback (most recent call last)",
      "\u001b[36mCell\u001b[39m\u001b[36m \u001b[39m\u001b[32mIn[39]\u001b[39m\u001b[32m, line 6\u001b[39m\n\u001b[32m      3\u001b[39m y_train_oh = to_categorical(y_train, num_classes=\u001b[38;5;28mlen\u001b[39m(np.unique(y_encoded)))\n\u001b[32m      5\u001b[39m model = build_fixed_model(input_dim=X_train.shape[\u001b[32m1\u001b[39m], n_classes=\u001b[38;5;28mlen\u001b[39m(np.unique(y_encoded)))\n\u001b[32m----> \u001b[39m\u001b[32m6\u001b[39m \u001b[43mmodel\u001b[49m\u001b[43m.\u001b[49m\u001b[43mfit\u001b[49m\u001b[43m(\u001b[49m\u001b[43mX_train\u001b[49m\u001b[43m,\u001b[49m\u001b[43m \u001b[49m\u001b[43my_train_oh\u001b[49m\u001b[43m,\u001b[49m\u001b[43m \u001b[49m\u001b[43mbatch_size\u001b[49m\u001b[43m=\u001b[49m\u001b[32;43m8\u001b[39;49m\u001b[43m,\u001b[49m\u001b[43m \u001b[49m\u001b[43mepochs\u001b[49m\u001b[43m=\u001b[49m\u001b[32;43m500\u001b[39;49m\u001b[43m,\u001b[49m\u001b[43m \u001b[49m\u001b[43mvalidation_split\u001b[49m\u001b[43m=\u001b[49m\u001b[32;43m0.1\u001b[39;49m\u001b[43m)\u001b[49m\n",
      "\u001b[36mFile \u001b[39m\u001b[32mD:\\Python\\Lib\\site-packages\\keras\\src\\utils\\traceback_utils.py:117\u001b[39m, in \u001b[36mfilter_traceback.<locals>.error_handler\u001b[39m\u001b[34m(*args, **kwargs)\u001b[39m\n\u001b[32m    115\u001b[39m filtered_tb = \u001b[38;5;28;01mNone\u001b[39;00m\n\u001b[32m    116\u001b[39m \u001b[38;5;28;01mtry\u001b[39;00m:\n\u001b[32m--> \u001b[39m\u001b[32m117\u001b[39m     \u001b[38;5;28;01mreturn\u001b[39;00m \u001b[43mfn\u001b[49m\u001b[43m(\u001b[49m\u001b[43m*\u001b[49m\u001b[43margs\u001b[49m\u001b[43m,\u001b[49m\u001b[43m \u001b[49m\u001b[43m*\u001b[49m\u001b[43m*\u001b[49m\u001b[43mkwargs\u001b[49m\u001b[43m)\u001b[49m\n\u001b[32m    118\u001b[39m \u001b[38;5;28;01mexcept\u001b[39;00m \u001b[38;5;167;01mException\u001b[39;00m \u001b[38;5;28;01mas\u001b[39;00m e:\n\u001b[32m    119\u001b[39m     filtered_tb = _process_traceback_frames(e.__traceback__)\n",
      "\u001b[36mFile \u001b[39m\u001b[32mD:\\Python\\Lib\\site-packages\\keras\\src\\backend\\tensorflow\\trainer.py:378\u001b[39m, in \u001b[36mTensorFlowTrainer.fit\u001b[39m\u001b[34m(self, x, y, batch_size, epochs, verbose, callbacks, validation_split, validation_data, shuffle, class_weight, sample_weight, initial_epoch, steps_per_epoch, validation_steps, validation_batch_size, validation_freq)\u001b[39m\n\u001b[32m    376\u001b[39m callbacks.on_train_batch_begin(begin_step)\n\u001b[32m    377\u001b[39m logs = \u001b[38;5;28mself\u001b[39m.train_function(iterator)\n\u001b[32m--> \u001b[39m\u001b[32m378\u001b[39m \u001b[43mcallbacks\u001b[49m\u001b[43m.\u001b[49m\u001b[43mon_train_batch_end\u001b[49m\u001b[43m(\u001b[49m\u001b[43mend_step\u001b[49m\u001b[43m,\u001b[49m\u001b[43m \u001b[49m\u001b[43mlogs\u001b[49m\u001b[43m)\u001b[49m\n\u001b[32m    379\u001b[39m \u001b[38;5;28;01mif\u001b[39;00m \u001b[38;5;28mself\u001b[39m.stop_training:\n\u001b[32m    380\u001b[39m     \u001b[38;5;28;01mbreak\u001b[39;00m\n",
      "\u001b[36mFile \u001b[39m\u001b[32mD:\\Python\\Lib\\site-packages\\keras\\src\\callbacks\\callback_list.py:172\u001b[39m, in \u001b[36mCallbackList.on_train_batch_end\u001b[39m\u001b[34m(self, batch, logs)\u001b[39m\n\u001b[32m    170\u001b[39m     \u001b[38;5;28mself\u001b[39m._async_dispatch(\u001b[38;5;28mself\u001b[39m._on_train_batch_end, batch, logs)\n\u001b[32m    171\u001b[39m \u001b[38;5;28;01melse\u001b[39;00m:\n\u001b[32m--> \u001b[39m\u001b[32m172\u001b[39m     \u001b[38;5;28;43mself\u001b[39;49m\u001b[43m.\u001b[49m\u001b[43m_on_train_batch_end\u001b[49m\u001b[43m(\u001b[49m\u001b[43mbatch\u001b[49m\u001b[43m,\u001b[49m\u001b[43m \u001b[49m\u001b[43mlogs\u001b[49m\u001b[43m)\u001b[49m\n",
      "\u001b[36mFile \u001b[39m\u001b[32mD:\\Python\\Lib\\site-packages\\keras\\src\\callbacks\\callback_list.py:194\u001b[39m, in \u001b[36mCallbackList._on_train_batch_end\u001b[39m\u001b[34m(self, batch, logs)\u001b[39m\n\u001b[32m    192\u001b[39m logs = python_utils.pythonify_logs(logs)\n\u001b[32m    193\u001b[39m \u001b[38;5;28;01mfor\u001b[39;00m callback \u001b[38;5;129;01min\u001b[39;00m \u001b[38;5;28mself\u001b[39m.callbacks:\n\u001b[32m--> \u001b[39m\u001b[32m194\u001b[39m     \u001b[43mcallback\u001b[49m\u001b[43m.\u001b[49m\u001b[43mon_train_batch_end\u001b[49m\u001b[43m(\u001b[49m\u001b[43mbatch\u001b[49m\u001b[43m,\u001b[49m\u001b[43m \u001b[49m\u001b[43mlogs\u001b[49m\u001b[43m=\u001b[49m\u001b[43mlogs\u001b[49m\u001b[43m)\u001b[49m\n",
      "\u001b[36mFile \u001b[39m\u001b[32mD:\\Python\\Lib\\site-packages\\keras\\src\\callbacks\\progbar_logger.py:58\u001b[39m, in \u001b[36mProgbarLogger.on_train_batch_end\u001b[39m\u001b[34m(self, batch, logs)\u001b[39m\n\u001b[32m     57\u001b[39m \u001b[38;5;28;01mdef\u001b[39;00m\u001b[38;5;250m \u001b[39m\u001b[34mon_train_batch_end\u001b[39m(\u001b[38;5;28mself\u001b[39m, batch, logs=\u001b[38;5;28;01mNone\u001b[39;00m):\n\u001b[32m---> \u001b[39m\u001b[32m58\u001b[39m     \u001b[38;5;28;43mself\u001b[39;49m\u001b[43m.\u001b[49m\u001b[43m_update_progbar\u001b[49m\u001b[43m(\u001b[49m\u001b[43mbatch\u001b[49m\u001b[43m,\u001b[49m\u001b[43m \u001b[49m\u001b[43mlogs\u001b[49m\u001b[43m)\u001b[49m\n",
      "\u001b[36mFile \u001b[39m\u001b[32mD:\\Python\\Lib\\site-packages\\keras\\src\\callbacks\\progbar_logger.py:95\u001b[39m, in \u001b[36mProgbarLogger._update_progbar\u001b[39m\u001b[34m(self, batch, logs)\u001b[39m\n\u001b[32m     92\u001b[39m \u001b[38;5;28mself\u001b[39m.seen = batch + \u001b[32m1\u001b[39m  \u001b[38;5;66;03m# One-indexed.\u001b[39;00m\n\u001b[32m     94\u001b[39m \u001b[38;5;28;01mif\u001b[39;00m \u001b[38;5;28mself\u001b[39m.verbose == \u001b[32m1\u001b[39m:\n\u001b[32m---> \u001b[39m\u001b[32m95\u001b[39m     \u001b[38;5;28;43mself\u001b[39;49m\u001b[43m.\u001b[49m\u001b[43mprogbar\u001b[49m\u001b[43m.\u001b[49m\u001b[43mupdate\u001b[49m\u001b[43m(\u001b[49m\u001b[38;5;28;43mself\u001b[39;49m\u001b[43m.\u001b[49m\u001b[43mseen\u001b[49m\u001b[43m,\u001b[49m\u001b[43m \u001b[49m\u001b[38;5;28;43mlist\u001b[39;49m\u001b[43m(\u001b[49m\u001b[43mlogs\u001b[49m\u001b[43m.\u001b[49m\u001b[43mitems\u001b[49m\u001b[43m(\u001b[49m\u001b[43m)\u001b[49m\u001b[43m)\u001b[49m\u001b[43m,\u001b[49m\u001b[43m \u001b[49m\u001b[43mfinalize\u001b[49m\u001b[43m=\u001b[49m\u001b[38;5;28;43;01mFalse\u001b[39;49;00m\u001b[43m)\u001b[49m\n",
      "\u001b[36mFile \u001b[39m\u001b[32mD:\\Python\\Lib\\site-packages\\keras\\src\\utils\\progbar.py:185\u001b[39m, in \u001b[36mProgbar.update\u001b[39m\u001b[34m(self, current, values, finalize)\u001b[39m\n\u001b[32m    182\u001b[39m \u001b[38;5;28;01mif\u001b[39;00m finalize:\n\u001b[32m    183\u001b[39m     message += \u001b[33m\"\u001b[39m\u001b[38;5;130;01m\\n\u001b[39;00m\u001b[33m\"\u001b[39m\n\u001b[32m--> \u001b[39m\u001b[32m185\u001b[39m \u001b[43mio_utils\u001b[49m\u001b[43m.\u001b[49m\u001b[43mprint_msg\u001b[49m\u001b[43m(\u001b[49m\u001b[43mmessage\u001b[49m\u001b[43m,\u001b[49m\u001b[43m \u001b[49m\u001b[43mline_break\u001b[49m\u001b[43m=\u001b[49m\u001b[38;5;28;43;01mFalse\u001b[39;49;00m\u001b[43m)\u001b[49m\n\u001b[32m    186\u001b[39m \u001b[38;5;28mself\u001b[39m._prev_total_width = total_width\n\u001b[32m    187\u001b[39m message = \u001b[33m\"\u001b[39m\u001b[33m\"\u001b[39m\n",
      "\u001b[36mFile \u001b[39m\u001b[32mD:\\Python\\Lib\\site-packages\\keras\\src\\utils\\io_utils.py:98\u001b[39m, in \u001b[36mprint_msg\u001b[39m\u001b[34m(message, line_break)\u001b[39m\n\u001b[32m     96\u001b[39m message = message + \u001b[33m\"\u001b[39m\u001b[38;5;130;01m\\n\u001b[39;00m\u001b[33m\"\u001b[39m \u001b[38;5;28;01mif\u001b[39;00m line_break \u001b[38;5;28;01melse\u001b[39;00m message\n\u001b[32m     97\u001b[39m \u001b[38;5;28;01mtry\u001b[39;00m:\n\u001b[32m---> \u001b[39m\u001b[32m98\u001b[39m     \u001b[43msys\u001b[49m\u001b[43m.\u001b[49m\u001b[43mstdout\u001b[49m\u001b[43m.\u001b[49m\u001b[43mwrite\u001b[49m\u001b[43m(\u001b[49m\u001b[43mmessage\u001b[49m\u001b[43m)\u001b[49m\n\u001b[32m     99\u001b[39m \u001b[38;5;28;01mexcept\u001b[39;00m \u001b[38;5;167;01mUnicodeEncodeError\u001b[39;00m:\n\u001b[32m    100\u001b[39m     \u001b[38;5;66;03m# If the encoding differs from UTF-8, `sys.stdout.write` may fail.\u001b[39;00m\n\u001b[32m    101\u001b[39m     \u001b[38;5;66;03m# To address this, replace special unicode characters in the\u001b[39;00m\n\u001b[32m    102\u001b[39m     \u001b[38;5;66;03m# message, and then encode and decode using the target encoding.\u001b[39;00m\n\u001b[32m    103\u001b[39m     message = _replace_special_unicode_character(message)\n",
      "\u001b[36mFile \u001b[39m\u001b[32m~\\AppData\\Roaming\\Python\\Python313\\site-packages\\IPython\\core\\interactiveshell.py:3029\u001b[39m, in \u001b[36mInteractiveShell._tee.<locals>.write\u001b[39m\u001b[34m(data, *args, **kwargs)\u001b[39m\n\u001b[32m   3027\u001b[39m \u001b[38;5;28;01mdef\u001b[39;00m\u001b[38;5;250m \u001b[39m\u001b[34mwrite\u001b[39m(data, *args, **kwargs):\n\u001b[32m   3028\u001b[39m \u001b[38;5;250m    \u001b[39m\u001b[33;03m\"\"\"Write data to both the original destination and the capture dictionary.\"\"\"\u001b[39;00m\n\u001b[32m-> \u001b[39m\u001b[32m3029\u001b[39m     result = \u001b[43moriginal_write\u001b[49m\u001b[43m(\u001b[49m\u001b[43mdata\u001b[49m\u001b[43m,\u001b[49m\u001b[43m \u001b[49m\u001b[43m*\u001b[49m\u001b[43margs\u001b[49m\u001b[43m,\u001b[49m\u001b[43m \u001b[49m\u001b[43m*\u001b[49m\u001b[43m*\u001b[49m\u001b[43mkwargs\u001b[49m\u001b[43m)\u001b[49m\n\u001b[32m   3030\u001b[39m     \u001b[38;5;28;01mif\u001b[39;00m \u001b[38;5;28many\u001b[39m(\n\u001b[32m   3031\u001b[39m         [\n\u001b[32m   3032\u001b[39m             \u001b[38;5;28mself\u001b[39m.display_pub.is_publishing,\n\u001b[32m   (...)\u001b[39m\u001b[32m   3035\u001b[39m         ]\n\u001b[32m   3036\u001b[39m     ):\n\u001b[32m   3037\u001b[39m         \u001b[38;5;28;01mreturn\u001b[39;00m result\n",
      "\u001b[36mFile \u001b[39m\u001b[32mD:\\Python\\Lib\\site-packages\\colorama\\ansitowin32.py:47\u001b[39m, in \u001b[36mStreamWrapper.write\u001b[39m\u001b[34m(self, text)\u001b[39m\n\u001b[32m     46\u001b[39m \u001b[38;5;28;01mdef\u001b[39;00m\u001b[38;5;250m \u001b[39m\u001b[34mwrite\u001b[39m(\u001b[38;5;28mself\u001b[39m, text):\n\u001b[32m---> \u001b[39m\u001b[32m47\u001b[39m     \u001b[38;5;28;43mself\u001b[39;49m\u001b[43m.\u001b[49m\u001b[43m__convertor\u001b[49m\u001b[43m.\u001b[49m\u001b[43mwrite\u001b[49m\u001b[43m(\u001b[49m\u001b[43mtext\u001b[49m\u001b[43m)\u001b[49m\n",
      "\u001b[36mFile \u001b[39m\u001b[32mD:\\Python\\Lib\\site-packages\\colorama\\ansitowin32.py:177\u001b[39m, in \u001b[36mAnsiToWin32.write\u001b[39m\u001b[34m(self, text)\u001b[39m\n\u001b[32m    175\u001b[39m \u001b[38;5;28;01mdef\u001b[39;00m\u001b[38;5;250m \u001b[39m\u001b[34mwrite\u001b[39m(\u001b[38;5;28mself\u001b[39m, text):\n\u001b[32m    176\u001b[39m     \u001b[38;5;28;01mif\u001b[39;00m \u001b[38;5;28mself\u001b[39m.strip \u001b[38;5;129;01mor\u001b[39;00m \u001b[38;5;28mself\u001b[39m.convert:\n\u001b[32m--> \u001b[39m\u001b[32m177\u001b[39m         \u001b[38;5;28;43mself\u001b[39;49m\u001b[43m.\u001b[49m\u001b[43mwrite_and_convert\u001b[49m\u001b[43m(\u001b[49m\u001b[43mtext\u001b[49m\u001b[43m)\u001b[49m\n\u001b[32m    178\u001b[39m     \u001b[38;5;28;01melse\u001b[39;00m:\n\u001b[32m    179\u001b[39m         \u001b[38;5;28mself\u001b[39m.wrapped.write(text)\n",
      "\u001b[36mFile \u001b[39m\u001b[32mD:\\Python\\Lib\\site-packages\\colorama\\ansitowin32.py:202\u001b[39m, in \u001b[36mAnsiToWin32.write_and_convert\u001b[39m\u001b[34m(self, text)\u001b[39m\n\u001b[32m    200\u001b[39m \u001b[38;5;28;01mfor\u001b[39;00m match \u001b[38;5;129;01min\u001b[39;00m \u001b[38;5;28mself\u001b[39m.ANSI_CSI_RE.finditer(text):\n\u001b[32m    201\u001b[39m     start, end = match.span()\n\u001b[32m--> \u001b[39m\u001b[32m202\u001b[39m     \u001b[38;5;28;43mself\u001b[39;49m\u001b[43m.\u001b[49m\u001b[43mwrite_plain_text\u001b[49m\u001b[43m(\u001b[49m\u001b[43mtext\u001b[49m\u001b[43m,\u001b[49m\u001b[43m \u001b[49m\u001b[43mcursor\u001b[49m\u001b[43m,\u001b[49m\u001b[43m \u001b[49m\u001b[43mstart\u001b[49m\u001b[43m)\u001b[49m\n\u001b[32m    203\u001b[39m     \u001b[38;5;28mself\u001b[39m.convert_ansi(*match.groups())\n\u001b[32m    204\u001b[39m     cursor = end\n",
      "\u001b[36mFile \u001b[39m\u001b[32mD:\\Python\\Lib\\site-packages\\colorama\\ansitowin32.py:211\u001b[39m, in \u001b[36mAnsiToWin32.write_plain_text\u001b[39m\u001b[34m(self, text, start, end)\u001b[39m\n\u001b[32m    209\u001b[39m \u001b[38;5;28;01mif\u001b[39;00m start < end:\n\u001b[32m    210\u001b[39m     \u001b[38;5;28mself\u001b[39m.wrapped.write(text[start:end])\n\u001b[32m--> \u001b[39m\u001b[32m211\u001b[39m     \u001b[38;5;28;43mself\u001b[39;49m\u001b[43m.\u001b[49m\u001b[43mwrapped\u001b[49m\u001b[43m.\u001b[49m\u001b[43mflush\u001b[49m\u001b[43m(\u001b[49m\u001b[43m)\u001b[49m\n",
      "\u001b[36mFile \u001b[39m\u001b[32m~\\AppData\\Roaming\\Python\\Python313\\site-packages\\ipykernel\\iostream.py:607\u001b[39m, in \u001b[36mOutStream.flush\u001b[39m\u001b[34m(self)\u001b[39m\n\u001b[32m    605\u001b[39m \u001b[38;5;66;03m# wait for flush to actually get through, if we can.\u001b[39;00m\n\u001b[32m    606\u001b[39m evt = threading.Event()\n\u001b[32m--> \u001b[39m\u001b[32m607\u001b[39m \u001b[38;5;28;43mself\u001b[39;49m\u001b[43m.\u001b[49m\u001b[43mpub_thread\u001b[49m\u001b[43m.\u001b[49m\u001b[43mschedule\u001b[49m\u001b[43m(\u001b[49m\u001b[43mevt\u001b[49m\u001b[43m.\u001b[49m\u001b[43mset\u001b[49m\u001b[43m)\u001b[49m\n\u001b[32m    608\u001b[39m \u001b[38;5;66;03m# and give a timeout to avoid\u001b[39;00m\n\u001b[32m    609\u001b[39m \u001b[38;5;28;01mif\u001b[39;00m \u001b[38;5;129;01mnot\u001b[39;00m evt.wait(\u001b[38;5;28mself\u001b[39m.flush_timeout):\n\u001b[32m    610\u001b[39m     \u001b[38;5;66;03m# write directly to __stderr__ instead of warning because\u001b[39;00m\n\u001b[32m    611\u001b[39m     \u001b[38;5;66;03m# if this is happening sys.stderr may be the problem.\u001b[39;00m\n",
      "\u001b[36mFile \u001b[39m\u001b[32m~\\AppData\\Roaming\\Python\\Python313\\site-packages\\ipykernel\\iostream.py:267\u001b[39m, in \u001b[36mIOPubThread.schedule\u001b[39m\u001b[34m(self, f)\u001b[39m\n\u001b[32m    265\u001b[39m     \u001b[38;5;28mself\u001b[39m._events.append(f)\n\u001b[32m    266\u001b[39m     \u001b[38;5;66;03m# wake event thread (message content is ignored)\u001b[39;00m\n\u001b[32m--> \u001b[39m\u001b[32m267\u001b[39m     \u001b[38;5;28;43mself\u001b[39;49m\u001b[43m.\u001b[49m\u001b[43m_event_pipe\u001b[49m\u001b[43m.\u001b[49m\u001b[43msend\u001b[49m\u001b[43m(\u001b[49m\u001b[33;43mb\u001b[39;49m\u001b[33;43m\"\u001b[39;49m\u001b[33;43m\"\u001b[39;49m\u001b[43m)\u001b[49m\n\u001b[32m    268\u001b[39m \u001b[38;5;28;01melse\u001b[39;00m:\n\u001b[32m    269\u001b[39m     f()\n",
      "\u001b[36mFile \u001b[39m\u001b[32m~\\AppData\\Roaming\\Python\\Python313\\site-packages\\zmq\\sugar\\socket.py:698\u001b[39m, in \u001b[36mSocket.send\u001b[39m\u001b[34m(self, data, flags, copy, track, routing_id, group)\u001b[39m\n\u001b[32m    691\u001b[39m         data = zmq.Frame(\n\u001b[32m    692\u001b[39m             data,\n\u001b[32m    693\u001b[39m             track=track,\n\u001b[32m    694\u001b[39m             copy=copy \u001b[38;5;129;01mor\u001b[39;00m \u001b[38;5;28;01mNone\u001b[39;00m,\n\u001b[32m    695\u001b[39m             copy_threshold=\u001b[38;5;28mself\u001b[39m.copy_threshold,\n\u001b[32m    696\u001b[39m         )\n\u001b[32m    697\u001b[39m     data.group = group\n\u001b[32m--> \u001b[39m\u001b[32m698\u001b[39m \u001b[38;5;28;01mreturn\u001b[39;00m \u001b[38;5;28;43msuper\u001b[39;49m\u001b[43m(\u001b[49m\u001b[43m)\u001b[49m\u001b[43m.\u001b[49m\u001b[43msend\u001b[49m\u001b[43m(\u001b[49m\u001b[43mdata\u001b[49m\u001b[43m,\u001b[49m\u001b[43m \u001b[49m\u001b[43mflags\u001b[49m\u001b[43m=\u001b[49m\u001b[43mflags\u001b[49m\u001b[43m,\u001b[49m\u001b[43m \u001b[49m\u001b[43mcopy\u001b[49m\u001b[43m=\u001b[49m\u001b[43mcopy\u001b[49m\u001b[43m,\u001b[49m\u001b[43m \u001b[49m\u001b[43mtrack\u001b[49m\u001b[43m=\u001b[49m\u001b[43mtrack\u001b[49m\u001b[43m)\u001b[49m\n",
      "\u001b[36mFile \u001b[39m\u001b[32m_zmq.py:1081\u001b[39m, in \u001b[36mzmq.backend.cython._zmq.Socket.send\u001b[39m\u001b[34m()\u001b[39m\n",
      "\u001b[36mFile \u001b[39m\u001b[32m_zmq.py:1129\u001b[39m, in \u001b[36mzmq.backend.cython._zmq.Socket.send\u001b[39m\u001b[34m()\u001b[39m\n",
      "\u001b[36mFile \u001b[39m\u001b[32m_zmq.py:1397\u001b[39m, in \u001b[36mzmq.backend.cython._zmq._send_copy\u001b[39m\u001b[34m()\u001b[39m\n",
      "\u001b[36mFile \u001b[39m\u001b[32m_zmq.py:169\u001b[39m, in \u001b[36mzmq.backend.cython._zmq._check_rc\u001b[39m\u001b[34m()\u001b[39m\n",
      "\u001b[31mKeyboardInterrupt\u001b[39m: "
     ]
    }
   ],
   "source": [
    "from tensorflow.keras.utils import to_categorical\n",
    "\n",
    "y_train_oh = to_categorical(y_train, num_classes=len(np.unique(y_encoded)))\n",
    "\n",
    "model = build_fixed_model(input_dim=X_train.shape[1], n_classes=len(np.unique(y_encoded)))\n",
    "model.fit(X_train, y_train_oh, batch_size=8, epochs=500, validation_split=0.1)"
   ]
  },
  {
   "cell_type": "code",
   "execution_count": 40,
   "id": "a107ea6c-f88e-4f41-a9fa-42c94f4a8a4f",
   "metadata": {},
   "outputs": [
    {
     "name": "stdout",
     "output_type": "stream",
     "text": [
      "96/96 ━━━━━━━━━━━━━━━━━━━━ 1s 12ms/step\n",
      "Test Accuracy: 0.8356884653302662\n",
      "Classification Report:\n",
      "              precision    recall  f1-score   support\n",
      "\n",
      "      Barley       0.77      0.65      0.71       264\n",
      "        Bean       0.78      0.88      0.83       261\n",
      "     Dagussa       0.87      0.98      0.92       254\n",
      "      Fallow       0.96      1.00      0.98       253\n",
      "       Maize       0.66      0.65      0.65       250\n",
      "  Niger seed       0.92      0.95      0.93       248\n",
      "         Pea       0.92      0.94      0.93       257\n",
      "      Potato       0.97      0.99      0.98       255\n",
      "  Red Pepper       0.95      1.00      0.97       253\n",
      "     Sorghum       0.90      0.98      0.94       252\n",
      "        Teff       0.55      0.45      0.49       252\n",
      "       Wheat       0.68      0.55      0.61       244\n",
      "\n",
      "    accuracy                           0.84      3043\n",
      "   macro avg       0.83      0.84      0.83      3043\n",
      "weighted avg       0.83      0.84      0.83      3043\n",
      "\n"
     ]
    }
   ],
   "source": [
    "# --------------------------------------------\n",
    "# Evaluate on test set\n",
    "y_pred = np.argmax(model.predict(X_test), axis=1)\n",
    "acc = accuracy_score(y_test, y_pred)\n",
    "report = classification_report(y_test, y_pred, target_names=le.classes_, output_dict=True)\n",
    "\n",
    "print(\"Test Accuracy:\", acc)\n",
    "print(\"Classification Report:\")\n",
    "print(classification_report(y_test, y_pred, target_names=le.classes_))"
   ]
  },
  {
   "cell_type": "code",
   "execution_count": 41,
   "id": "7f58bebf-f787-49a5-87d3-dd8af36ab084",
   "metadata": {},
   "outputs": [
    {
     "data": {
      "image/png": "[encoded data removed]",
      "text/plain": [
       "<Figure size 1000x800 with 2 Axes>"
      ]
     },
     "metadata": {},
     "output_type": "display_data"
    }
   ],
   "source": [
    "with open(f\"{OUTPUT_DIR}/test_metrics_old.json\", \"w\") as f:\n",
    "    json.dump({\"accuracy\": acc, \"report\": report}, f, indent=4)\n",
    "\n",
    "# Confusion matrix\n",
    "cm = confusion_matrix(y_test, y_pred)\n",
    "plt.figure(figsize=(10, 8))\n",
    "sns.heatmap(cm, annot=True, fmt=\"d\", cmap=\"Blues\", xticklabels=le.classes_, yticklabels=le.classes_)\n",
    "plt.ylabel(\"True\")\n",
    "plt.xlabel(\"Predicted\")\n",
    "plt.title(\"Confusion Matrix\")\n",
    "plt.show()"
   ]
  },
  {
   "cell_type": "code",
   "execution_count": 42,
   "id": "d0567d2a-38a6-42bd-be17-f30fa2b8e8f4",
   "metadata": {},
   "outputs": [],
   "source": [
    "model.save(f\"{OUTPUT_DIR}/best_model_old_acc84.keras\")"
   ]
  },
  {
   "cell_type": "code",
   "execution_count": null,
   "id": "7513ac57-4067-4d73-bb3a-44f8ce859811",
   "metadata": {},
   "outputs": [],
   "source": []
  }
 ],
 "metadata": {
  "kernelspec": {
   "display_name": "Python 3 (ipykernel)",
   "language": "python",
   "name": "python3"
  },
  "language_info": {
   "codemirror_mode": {
    "name": "ipython",
    "version": 3
   },
   "file_extension": ".py",
   "mimetype": "text/x-python",
   "name": "python",
   "nbconvert_exporter": "python",
   "pygments_lexer": "ipython3",
   "version": "3.13.1"
  }
 },
 "nbformat": 4,
 "nbformat_minor": 5
}
